{
 "cells": [
  {
   "cell_type": "code",
   "execution_count": 1,
   "id": "f80e9476",
   "metadata": {},
   "outputs": [],
   "source": [
    "%load_ext autoreload\n",
    "%autoreload 2\n",
    "%load_ext tensorboard"
   ]
  },
  {
   "cell_type": "markdown",
   "id": "d142780b",
   "metadata": {},
   "source": [
    "## Imports"
   ]
  },
  {
   "cell_type": "code",
   "execution_count": 2,
   "id": "196b92bb",
   "metadata": {},
   "outputs": [],
   "source": [
    "from pathlib import Path\n",
    "import shutil\n",
    "from tqdm import tqdm\n",
    "import tensorflow as tf\n",
    "from tensorflow.keras.callbacks import (\n",
    "    ReduceLROnPlateau,\n",
    "    EarlyStopping,\n",
    "    ModelCheckpoint,\n",
    "    TensorBoard\n",
    ")\n",
    "import sys\n",
    "import os\n",
    "import numpy as np\n",
    "import pandas as pd\n",
    "import matplotlib.pyplot as plt\n",
    "from sklearn.metrics import classification_report, confusion_matrix\n",
    "module_path = os.path.abspath(os.path.join('..'))\n",
    "if module_path not in sys.path:\n",
    "    sys.path.append(module_path)\n",
    "from utils.model import make_model, freeze_all_vgg, unfreeze_last_vgg\n",
    "from utils.data import train_test_valid_split, filter_binary_labels, optimize_dataset, create_split, delete_folder"
   ]
  },
  {
   "cell_type": "markdown",
   "id": "3f7e9957",
   "metadata": {},
   "source": [
    "## Image files management -> train, test, valid splits"
   ]
  },
  {
   "cell_type": "code",
   "execution_count": 4,
   "id": "09210cd7",
   "metadata": {},
   "outputs": [
    {
     "name": "stdout",
     "output_type": "stream",
     "text": [
      "--------------DELETE TRAIN SPLIT------------\n",
      "--------------COPY TRAIN SPLIT------------\n"
     ]
    },
    {
     "name": "stderr",
     "output_type": "stream",
     "text": [
      "100%|██████████████████████████████████████████████████████████████████████████████████████████████████████████████████████████████████████████████████| 781/781 [00:00<00:00, 827.33it/s]\n"
     ]
    },
    {
     "name": "stdout",
     "output_type": "stream",
     "text": [
      "--------------DELETE TEST SPLIT------------\n",
      "--------------COPY TEST SPLIT------------\n"
     ]
    },
    {
     "name": "stderr",
     "output_type": "stream",
     "text": [
      "100%|██████████████████████████████████████████████████████████████████████████████████████████████████████████████████████████████████████████████████| 177/177 [00:00<00:00, 800.90it/s]\n"
     ]
    },
    {
     "name": "stdout",
     "output_type": "stream",
     "text": [
      "--------------DELETE VALID SPLIT------------\n",
      "--------------COPY VALID SPLIT------------\n"
     ]
    },
    {
     "name": "stderr",
     "output_type": "stream",
     "text": [
      "100%|██████████████████████████████████████████████████████████████████████████████████████████████████████████████████████████████████████████████████| 168/168 [00:00<00:00, 819.51it/s]\n"
     ]
    }
   ],
   "source": [
    "DATASET_SOURCE_PATH = Path(r'../data/dataset')\n",
    "SPLITS_DESTINATION_PATH = Path(r'../data')\n",
    "UNDERSAMPLE_RATIO = 0.8  # controls the under sampling for majority class. Use 'None' to disable\n",
    "TEST_SIZE = 0.15\n",
    "VALID_SIZE = 0.15\n",
    "\n",
    "X_train, X_test, X_valid = train_test_valid_split(DATASET_SOURCE_PATH, test_size=TEST_SIZE, valid_size=VALID_SIZE, undersample_ratio=UNDERSAMPLE_RATIO)\n",
    "\n",
    "splits = [('train', X_train), ('test', X_test), ('valid', X_valid)]\n",
    "\n",
    "for split in splits:\n",
    "    destination_path = Path(SPLITS_DESTINATION_PATH) / split[0]\n",
    "    delete_folder(destination_path)\n",
    "    create_split(split[1], destination_path)"
   ]
  },
  {
   "cell_type": "markdown",
   "id": "521af848",
   "metadata": {},
   "source": [
    "## Dataset loading"
   ]
  },
  {
   "cell_type": "code",
   "execution_count": 5,
   "id": "54d256c5",
   "metadata": {},
   "outputs": [
    {
     "name": "stdout",
     "output_type": "stream",
     "text": [
      "Found 780 files belonging to 2 classes.\n",
      "Found 168 files belonging to 2 classes.\n"
     ]
    }
   ],
   "source": [
    "IMG_HEIGHT = 224\n",
    "IMG_WIDTH = 224\n",
    "BATCH_SIZE = 64\n",
    "SEED = None\n",
    "\n",
    "train_path = SPLITS_DESTINATION_PATH / 'train'\n",
    "train_ds = tf.keras.preprocessing.image_dataset_from_directory(train_path, image_size=(IMG_HEIGHT, IMG_WIDTH),\\\n",
    "                                                               batch_size=BATCH_SIZE, shuffle=True, \\\n",
    "                                                               label_mode='categorical', seed=SEED)\n",
    "\n",
    "valid_path = SPLITS_DESTINATION_PATH / 'valid'\n",
    "valid_ds = tf.keras.preprocessing.image_dataset_from_directory(valid_path, image_size=(IMG_HEIGHT, IMG_WIDTH),\\\n",
    "                                                               batch_size=BATCH_SIZE, shuffle=True, \\\n",
    "                                                               label_mode='categorical', seed=SEED)\n",
    "\n",
    "class_names = train_ds.class_names\n",
    "assert class_names == valid_ds.class_names\n",
    "AUTOTUNE = tf.data.AUTOTUNE\n",
    "\n",
    "if len(class_names) == 2:  # take the one-hot-encoded matrix of labels and convert to a vector if binary classification\n",
    "    train_ds = train_ds.map(filter_binary_labels, num_parallel_calls=AUTOTUNE)\n",
    "    valid_ds = valid_ds.map(filter_binary_labels, num_parallel_calls=AUTOTUNE)\n",
    "train_ds = optimize_dataset(train_ds)\n",
    "valid_ds = optimize_dataset(valid_ds)"
   ]
  },
  {
   "cell_type": "code",
   "execution_count": null,
   "id": "ab853828",
   "metadata": {},
   "outputs": [],
   "source": [
    "plt.figure(figsize=(10, 10))\n",
    "for images, labels in train_ds.take(1):\n",
    "    for i in range(9):\n",
    "        ax = plt.subplot(3, 3, i + 1)\n",
    "        plt.imshow(images[i].numpy().astype(\"uint8\"))\n",
    "        label_idx = labels.numpy()[i][0] if len(class_names) == 2 else np.argmax(labels.numpy()[i], axis=0)\n",
    "        plt.title(class_names[label_idx])\n",
    "        plt.axis(\"off\")"
   ]
  },
  {
   "cell_type": "markdown",
   "id": "a16680a2",
   "metadata": {},
   "source": [
    "## Model"
   ]
  },
  {
   "cell_type": "code",
   "execution_count": 7,
   "id": "a06370de",
   "metadata": {},
   "outputs": [
    {
     "name": "stdout",
     "output_type": "stream",
     "text": [
      "Model: \"model\"\n",
      "_________________________________________________________________\n",
      " Layer (type)                Output Shape              Param #   \n",
      "=================================================================\n",
      " input_2 (InputLayer)        [(None, 224, 224, 3)]     0         \n",
      "                                                                 \n",
      " sequential (Sequential)     (None, 224, 224, 3)       0         \n",
      "                                                                 \n",
      " tf.__operators__.getitem (S  (None, 224, 224, 3)      0         \n",
      " licingOpLambda)                                                 \n",
      "                                                                 \n",
      " tf.nn.bias_add (TFOpLambda)  (None, 224, 224, 3)      0         \n",
      "                                                                 \n",
      " vgg16 (Functional)          (None, 512)               14714688  \n",
      "                                                                 \n",
      " flatten (Flatten)           (None, 512)               0         \n",
      "                                                                 \n",
      " dense_1 (Dense)             (None, 512)               262656    \n",
      "                                                                 \n",
      " dropout (Dropout)           (None, 512)               0         \n",
      "                                                                 \n",
      " batch_normalization (BatchN  (None, 512)              2048      \n",
      " ormalization)                                                   \n",
      "                                                                 \n",
      " dense_2 (Dense)             (None, 512)               262656    \n",
      "                                                                 \n",
      " dropout_1 (Dropout)         (None, 512)               0         \n",
      "                                                                 \n",
      " batch_normalization_1 (Batc  (None, 512)              2048      \n",
      " hNormalization)                                                 \n",
      "                                                                 \n",
      " output (Dense)              (None, 1)                 513       \n",
      "                                                                 \n",
      "=================================================================\n",
      "Total params: 15,244,609\n",
      "Trainable params: 527,873\n",
      "Non-trainable params: 14,716,736\n",
      "_________________________________________________________________\n"
     ]
    }
   ],
   "source": [
    "N_HIDDEN = 512\n",
    "BASE_LR = 0.001\n",
    "\n",
    "model = make_model(n_classes=len(class_names), n_hidden=N_HIDDEN, img_height=IMG_HEIGHT, img_width=IMG_WIDTH)\n",
    "freeze_all_vgg(model)\n",
    "\n",
    "loss = tf.keras.losses.CategoricalCrossentropy() if len(class_names) > 2 else tf.keras.losses.BinaryCrossentropy()\n",
    "model.compile(optimizer=tf.keras.optimizers.Adam(learning_rate=BASE_LR),\n",
    "              loss=loss, metrics=['accuracy'])\n",
    "model.summary()"
   ]
  },
  {
   "cell_type": "markdown",
   "id": "1882bf11",
   "metadata": {},
   "source": [
    "#### Classifier initial training"
   ]
  },
  {
   "cell_type": "code",
   "execution_count": 7,
   "id": "d0db010e",
   "metadata": {},
   "outputs": [],
   "source": [
    "# TODO - delete last trained model"
   ]
  },
  {
   "cell_type": "code",
   "execution_count": 8,
   "id": "c8260507",
   "metadata": {
    "scrolled": true
   },
   "outputs": [
    {
     "name": "stdout",
     "output_type": "stream",
     "text": [
      "Epoch 1/30\n",
      "13/13 [==============================] - ETA: 0s - loss: 0.6858 - accuracy: 0.6885\n",
      "Epoch 00001: val_loss improved from inf to 2.91570, saving model to ..\\models\\vgg16\\checkpoints\\train_1.tf\n",
      "13/13 [==============================] - 44s 2s/step - loss: 0.6858 - accuracy: 0.6885 - val_loss: 2.9157 - val_accuracy: 0.5952 - lr: 0.0010\n",
      "Epoch 2/30\n",
      "13/13 [==============================] - ETA: 0s - loss: 0.4932 - accuracy: 0.7846\n",
      "Epoch 00002: val_loss improved from 2.91570 to 1.60101, saving model to ..\\models\\vgg16\\checkpoints\\train_2.tf\n",
      "13/13 [==============================] - 7s 518ms/step - loss: 0.4932 - accuracy: 0.7846 - val_loss: 1.6010 - val_accuracy: 0.6488 - lr: 0.0010\n",
      "Epoch 3/30\n",
      "13/13 [==============================] - ETA: 0s - loss: 0.4585 - accuracy: 0.8205\n",
      "Epoch 00003: val_loss improved from 1.60101 to 0.80197, saving model to ..\\models\\vgg16\\checkpoints\\train_3.tf\n",
      "13/13 [==============================] - 7s 519ms/step - loss: 0.4585 - accuracy: 0.8205 - val_loss: 0.8020 - val_accuracy: 0.7738 - lr: 0.0010\n",
      "Epoch 4/30\n",
      "13/13 [==============================] - ETA: 0s - loss: 0.3617 - accuracy: 0.8410\n",
      "Epoch 00004: val_loss improved from 0.80197 to 0.79312, saving model to ..\\models\\vgg16\\checkpoints\\train_4.tf\n",
      "13/13 [==============================] - 7s 519ms/step - loss: 0.3617 - accuracy: 0.8410 - val_loss: 0.7931 - val_accuracy: 0.7857 - lr: 0.0010\n",
      "Epoch 5/30\n",
      "13/13 [==============================] - ETA: 0s - loss: 0.3806 - accuracy: 0.8346\n",
      "Epoch 00005: val_loss improved from 0.79312 to 0.65908, saving model to ..\\models\\vgg16\\checkpoints\\train_5.tf\n",
      "13/13 [==============================] - 7s 520ms/step - loss: 0.3806 - accuracy: 0.8346 - val_loss: 0.6591 - val_accuracy: 0.7976 - lr: 0.0010\n",
      "Epoch 6/30\n",
      "13/13 [==============================] - ETA: 0s - loss: 0.2986 - accuracy: 0.8603\n",
      "Epoch 00006: val_loss did not improve from 0.65908\n",
      "13/13 [==============================] - 6s 502ms/step - loss: 0.2986 - accuracy: 0.8603 - val_loss: 0.6943 - val_accuracy: 0.7619 - lr: 0.0010\n",
      "Epoch 7/30\n",
      "13/13 [==============================] - ETA: 0s - loss: 0.3183 - accuracy: 0.8679\n",
      "Epoch 00007: val_loss improved from 0.65908 to 0.60756, saving model to ..\\models\\vgg16\\checkpoints\\train_7.tf\n",
      "13/13 [==============================] - 7s 523ms/step - loss: 0.3183 - accuracy: 0.8679 - val_loss: 0.6076 - val_accuracy: 0.7857 - lr: 0.0010\n",
      "Epoch 8/30\n",
      "13/13 [==============================] - ETA: 0s - loss: 0.3065 - accuracy: 0.8551\n",
      "Epoch 00008: val_loss did not improve from 0.60756\n",
      "13/13 [==============================] - 6s 503ms/step - loss: 0.3065 - accuracy: 0.8551 - val_loss: 0.6671 - val_accuracy: 0.8274 - lr: 0.0010\n",
      "Epoch 9/30\n",
      "13/13 [==============================] - ETA: 0s - loss: 0.2843 - accuracy: 0.8705\n",
      "Epoch 00009: val_loss did not improve from 0.60756\n",
      "13/13 [==============================] - 6s 505ms/step - loss: 0.2843 - accuracy: 0.8705 - val_loss: 0.6324 - val_accuracy: 0.7976 - lr: 0.0010\n",
      "Epoch 10/30\n",
      "13/13 [==============================] - ETA: 0s - loss: 0.2929 - accuracy: 0.8692\n",
      "Epoch 00010: val_loss improved from 0.60756 to 0.58987, saving model to ..\\models\\vgg16\\checkpoints\\train_10.tf\n",
      "13/13 [==============================] - 7s 534ms/step - loss: 0.2929 - accuracy: 0.8692 - val_loss: 0.5899 - val_accuracy: 0.8036 - lr: 0.0010\n",
      "Epoch 11/30\n",
      "13/13 [==============================] - ETA: 0s - loss: 0.2450 - accuracy: 0.8923\n",
      "Epoch 00011: val_loss did not improve from 0.58987\n",
      "13/13 [==============================] - 6s 505ms/step - loss: 0.2450 - accuracy: 0.8923 - val_loss: 0.6531 - val_accuracy: 0.8155 - lr: 0.0010\n",
      "Epoch 12/30\n",
      "13/13 [==============================] - ETA: 0s - loss: 0.2764 - accuracy: 0.8718\n",
      "Epoch 00012: val_loss did not improve from 0.58987\n",
      "13/13 [==============================] - 6s 505ms/step - loss: 0.2764 - accuracy: 0.8718 - val_loss: 0.6791 - val_accuracy: 0.8512 - lr: 0.0010\n",
      "Epoch 13/30\n",
      "13/13 [==============================] - ETA: 0s - loss: 0.2623 - accuracy: 0.8833\n",
      "Epoch 00013: val_loss did not improve from 0.58987\n",
      "13/13 [==============================] - 6s 505ms/step - loss: 0.2623 - accuracy: 0.8833 - val_loss: 0.7513 - val_accuracy: 0.8274 - lr: 0.0010\n",
      "Epoch 14/30\n",
      "13/13 [==============================] - ETA: 0s - loss: 0.2251 - accuracy: 0.9064\n",
      "Epoch 00014: val_loss did not improve from 0.58987\n",
      "\n",
      "Epoch 00014: ReduceLROnPlateau reducing learning rate to 0.00010000000474974513.\n",
      "13/13 [==============================] - 6s 505ms/step - loss: 0.2251 - accuracy: 0.9064 - val_loss: 0.6699 - val_accuracy: 0.8274 - lr: 0.0010\n",
      "Epoch 15/30\n",
      "13/13 [==============================] - ETA: 0s - loss: 0.2157 - accuracy: 0.9051\n",
      "Epoch 00015: val_loss did not improve from 0.58987\n",
      "13/13 [==============================] - 6s 505ms/step - loss: 0.2157 - accuracy: 0.9051 - val_loss: 0.6622 - val_accuracy: 0.8393 - lr: 1.0000e-04\n",
      "Epoch 16/30\n",
      "13/13 [==============================] - ETA: 0s - loss: 0.2216 - accuracy: 0.9038\n",
      "Epoch 00016: val_loss did not improve from 0.58987\n",
      "13/13 [==============================] - 6s 505ms/step - loss: 0.2216 - accuracy: 0.9038 - val_loss: 0.6777 - val_accuracy: 0.8333 - lr: 1.0000e-04\n",
      "Epoch 17/30\n",
      "13/13 [==============================] - ETA: 0s - loss: 0.2083 - accuracy: 0.9218\n",
      "Epoch 00017: val_loss did not improve from 0.58987\n",
      "13/13 [==============================] - 7s 506ms/step - loss: 0.2083 - accuracy: 0.9218 - val_loss: 0.6811 - val_accuracy: 0.8333 - lr: 1.0000e-04\n",
      "Epoch 18/30\n",
      "13/13 [==============================] - ETA: 0s - loss: 0.2003 - accuracy: 0.9115\n",
      "Epoch 00018: val_loss did not improve from 0.58987\n",
      "\n",
      "Epoch 00018: ReduceLROnPlateau reducing learning rate to 1.0000000474974514e-05.\n",
      "13/13 [==============================] - 6s 505ms/step - loss: 0.2003 - accuracy: 0.9115 - val_loss: 0.6771 - val_accuracy: 0.8333 - lr: 1.0000e-04\n",
      "Epoch 19/30\n",
      "13/13 [==============================] - ETA: 0s - loss: 0.1828 - accuracy: 0.9154\n",
      "Epoch 00019: val_loss did not improve from 0.58987\n",
      "13/13 [==============================] - 6s 505ms/step - loss: 0.1828 - accuracy: 0.9154 - val_loss: 0.6704 - val_accuracy: 0.8333 - lr: 1.0000e-05\n",
      "Epoch 20/30\n",
      "13/13 [==============================] - ETA: 0s - loss: 0.1947 - accuracy: 0.9359\n",
      "Epoch 00020: val_loss did not improve from 0.58987\n",
      "13/13 [==============================] - 6s 505ms/step - loss: 0.1947 - accuracy: 0.9359 - val_loss: 0.6662 - val_accuracy: 0.8333 - lr: 1.0000e-05\n",
      "Epoch 21/30\n",
      "13/13 [==============================] - ETA: 0s - loss: 0.2009 - accuracy: 0.9231\n",
      "Epoch 00021: val_loss did not improve from 0.58987\n",
      "13/13 [==============================] - 6s 505ms/step - loss: 0.2009 - accuracy: 0.9231 - val_loss: 0.6638 - val_accuracy: 0.8333 - lr: 1.0000e-05\n",
      "Epoch 22/30\n",
      "13/13 [==============================] - ETA: 0s - loss: 0.1864 - accuracy: 0.9218\n",
      "Epoch 00022: val_loss did not improve from 0.58987\n",
      "\n",
      "Epoch 00022: ReduceLROnPlateau reducing learning rate to 1.0000000656873453e-06.\n",
      "13/13 [==============================] - 6s 505ms/step - loss: 0.1864 - accuracy: 0.9218 - val_loss: 0.6619 - val_accuracy: 0.8214 - lr: 1.0000e-05\n",
      "Epoch 23/30\n",
      "13/13 [==============================] - ETA: 0s - loss: 0.1846 - accuracy: 0.9231\n",
      "Epoch 00023: val_loss did not improve from 0.58987\n",
      "13/13 [==============================] - 6s 505ms/step - loss: 0.1846 - accuracy: 0.9231 - val_loss: 0.6628 - val_accuracy: 0.8214 - lr: 1.0000e-06\n",
      "Epoch 24/30\n",
      "13/13 [==============================] - ETA: 0s - loss: 0.2226 - accuracy: 0.9038\n",
      "Epoch 00024: val_loss did not improve from 0.58987\n",
      "13/13 [==============================] - 6s 504ms/step - loss: 0.2226 - accuracy: 0.9038 - val_loss: 0.6620 - val_accuracy: 0.8333 - lr: 1.0000e-06\n",
      "Epoch 25/30\n",
      "13/13 [==============================] - ETA: 0s - loss: 0.2020 - accuracy: 0.9218\n",
      "Epoch 00025: val_loss did not improve from 0.58987\n",
      "13/13 [==============================] - 6s 505ms/step - loss: 0.2020 - accuracy: 0.9218 - val_loss: 0.6634 - val_accuracy: 0.8333 - lr: 1.0000e-06\n",
      "Epoch 00025: early stopping\n"
     ]
    }
   ],
   "source": [
    "LOG_PATH = Path(r'../models/vgg16/logs')\n",
    "CHECKPOINTS_PATH = Path(r'../models/vgg16/checkpoints')\n",
    "BASE_EPOCHS = 30\n",
    "\n",
    "tb = TensorBoard(log_dir=LOG_PATH)\n",
    "checkpoint = ModelCheckpoint(CHECKPOINTS_PATH / 'train_{epoch}.tf', verbose=1, save_weights_only=True,\n",
    "                             save_best_only=True, monitor='val_loss')\n",
    "reduce_lr = ReduceLROnPlateau(monitor='val_loss', factor=0.1, patience=4, verbose=1)\n",
    "early_stopping = EarlyStopping(monitor='val_loss', min_delta=0, patience=15, verbose=1)\n",
    "\n",
    "history = model.fit(train_ds, epochs=BASE_EPOCHS, validation_data=valid_ds, callbacks=[tb, checkpoint, reduce_lr,\n",
    "                                                                                       early_stopping])"
   ]
  },
  {
   "cell_type": "markdown",
   "id": "dea8cb4b",
   "metadata": {},
   "source": [
    "#### Fine tuning"
   ]
  },
  {
   "cell_type": "code",
   "execution_count": 9,
   "id": "fd646007",
   "metadata": {},
   "outputs": [
    {
     "name": "stdout",
     "output_type": "stream",
     "text": [
      "Epoch 25/60\n",
      "13/13 [==============================] - ETA: 0s - loss: 0.7369 - accuracy: 0.6769\n",
      "Epoch 00025: val_loss did not improve from 0.58987\n",
      "13/13 [==============================] - 12s 583ms/step - loss: 0.7369 - accuracy: 0.6769 - val_loss: 1.4477 - val_accuracy: 0.6786 - lr: 0.0010\n",
      "Epoch 26/60\n",
      "13/13 [==============================] - ETA: 0s - loss: 0.7996 - accuracy: 0.6026\n",
      "Epoch 00026: val_loss did not improve from 0.58987\n",
      "13/13 [==============================] - 7s 555ms/step - loss: 0.7996 - accuracy: 0.6026 - val_loss: 9.1605 - val_accuracy: 0.4405 - lr: 0.0010\n",
      "Epoch 27/60\n",
      "13/13 [==============================] - ETA: 0s - loss: 0.8180 - accuracy: 0.5641\n",
      "Epoch 00027: val_loss did not improve from 0.58987\n",
      "13/13 [==============================] - 7s 557ms/step - loss: 0.8180 - accuracy: 0.5641 - val_loss: 0.6965 - val_accuracy: 0.5536 - lr: 0.0010\n",
      "Epoch 28/60\n",
      "13/13 [==============================] - ETA: 0s - loss: 0.6974 - accuracy: 0.6192\n",
      "Epoch 00028: val_loss did not improve from 0.58987\n",
      "13/13 [==============================] - 7s 557ms/step - loss: 0.6974 - accuracy: 0.6192 - val_loss: 5.0015 - val_accuracy: 0.4464 - lr: 0.0010\n",
      "Epoch 29/60\n",
      "13/13 [==============================] - ETA: 0s - loss: 0.5958 - accuracy: 0.6833\n",
      "Epoch 00029: val_loss did not improve from 0.58987\n",
      "13/13 [==============================] - 7s 556ms/step - loss: 0.5958 - accuracy: 0.6833 - val_loss: 2.9320 - val_accuracy: 0.4524 - lr: 0.0010\n",
      "Epoch 30/60\n",
      "13/13 [==============================] - ETA: 0s - loss: 0.5721 - accuracy: 0.7077\n",
      "Epoch 00030: val_loss did not improve from 0.58987\n",
      "13/13 [==============================] - 7s 558ms/step - loss: 0.5721 - accuracy: 0.7077 - val_loss: 3.7082 - val_accuracy: 0.4464 - lr: 0.0010\n",
      "Epoch 31/60\n",
      "13/13 [==============================] - ETA: 0s - loss: 0.5296 - accuracy: 0.7449\n",
      "Epoch 00031: val_loss did not improve from 0.58987\n",
      "\n",
      "Epoch 00031: ReduceLROnPlateau reducing learning rate to 0.00010000000474974513.\n",
      "13/13 [==============================] - 7s 559ms/step - loss: 0.5296 - accuracy: 0.7449 - val_loss: 1.8436 - val_accuracy: 0.4643 - lr: 0.0010\n",
      "Epoch 32/60\n",
      "13/13 [==============================] - ETA: 0s - loss: 0.4997 - accuracy: 0.7487\n",
      "Epoch 00032: val_loss did not improve from 0.58987\n",
      "13/13 [==============================] - 7s 561ms/step - loss: 0.4997 - accuracy: 0.7487 - val_loss: 0.7889 - val_accuracy: 0.6607 - lr: 1.0000e-04\n",
      "Epoch 33/60\n",
      "13/13 [==============================] - ETA: 0s - loss: 0.4967 - accuracy: 0.7500\n",
      "Epoch 00033: val_loss did not improve from 0.58987\n",
      "13/13 [==============================] - 7s 562ms/step - loss: 0.4967 - accuracy: 0.7500 - val_loss: 0.6940 - val_accuracy: 0.7024 - lr: 1.0000e-04\n",
      "Epoch 34/60\n",
      "13/13 [==============================] - ETA: 0s - loss: 0.4844 - accuracy: 0.7692\n",
      "Epoch 00034: val_loss did not improve from 0.58987\n",
      "13/13 [==============================] - 7s 562ms/step - loss: 0.4844 - accuracy: 0.7692 - val_loss: 0.6340 - val_accuracy: 0.7381 - lr: 1.0000e-04\n",
      "Epoch 35/60\n",
      "13/13 [==============================] - ETA: 0s - loss: 0.5054 - accuracy: 0.7692\n",
      "Epoch 00035: val_loss did not improve from 0.58987\n",
      "13/13 [==============================] - 7s 563ms/step - loss: 0.5054 - accuracy: 0.7692 - val_loss: 0.6629 - val_accuracy: 0.7321 - lr: 1.0000e-04\n",
      "Epoch 36/60\n",
      "13/13 [==============================] - ETA: 0s - loss: 0.4538 - accuracy: 0.7795\n",
      "Epoch 00036: val_loss did not improve from 0.58987\n",
      "13/13 [==============================] - 7s 562ms/step - loss: 0.4538 - accuracy: 0.7795 - val_loss: 0.6664 - val_accuracy: 0.7202 - lr: 1.0000e-04\n",
      "Epoch 37/60\n",
      "13/13 [==============================] - ETA: 0s - loss: 0.4870 - accuracy: 0.7654\n",
      "Epoch 00037: val_loss did not improve from 0.58987\n",
      "13/13 [==============================] - 7s 563ms/step - loss: 0.4870 - accuracy: 0.7654 - val_loss: 0.6830 - val_accuracy: 0.7024 - lr: 1.0000e-04\n",
      "Epoch 38/60\n",
      "13/13 [==============================] - ETA: 0s - loss: 0.4879 - accuracy: 0.7769\n",
      "Epoch 00038: val_loss did not improve from 0.58987\n",
      "13/13 [==============================] - 7s 563ms/step - loss: 0.4879 - accuracy: 0.7769 - val_loss: 0.5980 - val_accuracy: 0.7381 - lr: 1.0000e-04\n",
      "Epoch 39/60\n",
      "13/13 [==============================] - ETA: 0s - loss: 0.4639 - accuracy: 0.7923\n",
      "Epoch 00039: val_loss did not improve from 0.58987\n",
      "13/13 [==============================] - 7s 563ms/step - loss: 0.4639 - accuracy: 0.7923 - val_loss: 0.6101 - val_accuracy: 0.7381 - lr: 1.0000e-04\n",
      "Epoch 40/60\n",
      "13/13 [==============================] - ETA: 0s - loss: 0.4902 - accuracy: 0.7821\n",
      "Epoch 00040: val_loss improved from 0.58987 to 0.55308, saving model to ..\\models\\vgg16\\checkpoints\\train_40.tf\n",
      "13/13 [==============================] - 8s 593ms/step - loss: 0.4902 - accuracy: 0.7821 - val_loss: 0.5531 - val_accuracy: 0.7679 - lr: 1.0000e-04\n",
      "Epoch 41/60\n",
      "13/13 [==============================] - ETA: 0s - loss: 0.4904 - accuracy: 0.7692\n",
      "Epoch 00041: val_loss improved from 0.55308 to 0.53440, saving model to ..\\models\\vgg16\\checkpoints\\train_41.tf\n",
      "13/13 [==============================] - 8s 623ms/step - loss: 0.4904 - accuracy: 0.7692 - val_loss: 0.5344 - val_accuracy: 0.7738 - lr: 1.0000e-04\n",
      "Epoch 42/60\n",
      "13/13 [==============================] - ETA: 0s - loss: 0.4875 - accuracy: 0.7744\n",
      "Epoch 00042: val_loss did not improve from 0.53440\n",
      "13/13 [==============================] - 7s 562ms/step - loss: 0.4875 - accuracy: 0.7744 - val_loss: 0.6115 - val_accuracy: 0.7321 - lr: 1.0000e-04\n",
      "Epoch 43/60\n",
      "13/13 [==============================] - ETA: 0s - loss: 0.4453 - accuracy: 0.7846\n",
      "Epoch 00043: val_loss did not improve from 0.53440\n",
      "13/13 [==============================] - 7s 562ms/step - loss: 0.4453 - accuracy: 0.7846 - val_loss: 0.6231 - val_accuracy: 0.7262 - lr: 1.0000e-04\n",
      "Epoch 44/60\n",
      "13/13 [==============================] - ETA: 0s - loss: 0.4228 - accuracy: 0.8090\n",
      "Epoch 00044: val_loss did not improve from 0.53440\n",
      "13/13 [==============================] - 7s 561ms/step - loss: 0.4228 - accuracy: 0.8090 - val_loss: 0.5611 - val_accuracy: 0.7381 - lr: 1.0000e-04\n",
      "Epoch 45/60\n",
      "13/13 [==============================] - ETA: 0s - loss: 0.4654 - accuracy: 0.7872\n",
      "Epoch 00045: val_loss did not improve from 0.53440\n",
      "\n",
      "Epoch 00045: ReduceLROnPlateau reducing learning rate to 1.0000000474974514e-05.\n",
      "13/13 [==============================] - 7s 564ms/step - loss: 0.4654 - accuracy: 0.7872 - val_loss: 0.6519 - val_accuracy: 0.7321 - lr: 1.0000e-04\n",
      "Epoch 46/60\n",
      "13/13 [==============================] - ETA: 0s - loss: 0.4430 - accuracy: 0.7897\n",
      "Epoch 00046: val_loss did not improve from 0.53440\n",
      "13/13 [==============================] - 7s 563ms/step - loss: 0.4430 - accuracy: 0.7897 - val_loss: 0.6200 - val_accuracy: 0.7262 - lr: 1.0000e-05\n",
      "Epoch 47/60\n",
      "13/13 [==============================] - ETA: 0s - loss: 0.4530 - accuracy: 0.8000\n",
      "Epoch 00047: val_loss did not improve from 0.53440\n",
      "13/13 [==============================] - 7s 562ms/step - loss: 0.4530 - accuracy: 0.8000 - val_loss: 0.5958 - val_accuracy: 0.7262 - lr: 1.0000e-05\n",
      "Epoch 48/60\n",
      "13/13 [==============================] - ETA: 0s - loss: 0.4467 - accuracy: 0.7846\n",
      "Epoch 00048: val_loss did not improve from 0.53440\n",
      "13/13 [==============================] - 7s 562ms/step - loss: 0.4467 - accuracy: 0.7846 - val_loss: 0.5816 - val_accuracy: 0.7381 - lr: 1.0000e-05\n",
      "Epoch 49/60\n",
      "13/13 [==============================] - ETA: 0s - loss: 0.4366 - accuracy: 0.7846\n",
      "Epoch 00049: val_loss did not improve from 0.53440\n",
      "\n",
      "Epoch 00049: ReduceLROnPlateau reducing learning rate to 1.0000000656873453e-06.\n",
      "13/13 [==============================] - 7s 562ms/step - loss: 0.4366 - accuracy: 0.7846 - val_loss: 0.5604 - val_accuracy: 0.7440 - lr: 1.0000e-05\n",
      "Epoch 50/60\n",
      "13/13 [==============================] - ETA: 0s - loss: 0.4361 - accuracy: 0.7910\n",
      "Epoch 00050: val_loss did not improve from 0.53440\n",
      "13/13 [==============================] - 7s 562ms/step - loss: 0.4361 - accuracy: 0.7910 - val_loss: 0.5455 - val_accuracy: 0.7440 - lr: 1.0000e-06\n",
      "Epoch 51/60\n",
      "13/13 [==============================] - ETA: 0s - loss: 0.4358 - accuracy: 0.7936\n",
      "Epoch 00051: val_loss improved from 0.53440 to 0.53364, saving model to ..\\models\\vgg16\\checkpoints\\train_51.tf\n",
      "13/13 [==============================] - 8s 597ms/step - loss: 0.4358 - accuracy: 0.7936 - val_loss: 0.5336 - val_accuracy: 0.7500 - lr: 1.0000e-06\n"
     ]
    },
    {
     "name": "stdout",
     "output_type": "stream",
     "text": [
      "Epoch 52/60\n",
      "13/13 [==============================] - ETA: 0s - loss: 0.4431 - accuracy: 0.7936\n",
      "Epoch 00052: val_loss improved from 0.53364 to 0.52467, saving model to ..\\models\\vgg16\\checkpoints\\train_52.tf\n",
      "13/13 [==============================] - 8s 617ms/step - loss: 0.4431 - accuracy: 0.7936 - val_loss: 0.5247 - val_accuracy: 0.7500 - lr: 1.0000e-06\n",
      "Epoch 53/60\n",
      "13/13 [==============================] - ETA: 0s - loss: 0.4566 - accuracy: 0.7936\n",
      "Epoch 00053: val_loss improved from 0.52467 to 0.51661, saving model to ..\\models\\vgg16\\checkpoints\\train_53.tf\n",
      "13/13 [==============================] - 8s 597ms/step - loss: 0.4566 - accuracy: 0.7936 - val_loss: 0.5166 - val_accuracy: 0.7500 - lr: 1.0000e-06\n",
      "Epoch 54/60\n",
      "13/13 [==============================] - ETA: 0s - loss: 0.4621 - accuracy: 0.7795\n",
      "Epoch 00054: val_loss improved from 0.51661 to 0.51177, saving model to ..\\models\\vgg16\\checkpoints\\train_54.tf\n",
      "13/13 [==============================] - 8s 595ms/step - loss: 0.4621 - accuracy: 0.7795 - val_loss: 0.5118 - val_accuracy: 0.7500 - lr: 1.0000e-06\n",
      "Epoch 55/60\n",
      "13/13 [==============================] - ETA: 0s - loss: 0.4435 - accuracy: 0.7962\n",
      "Epoch 00055: val_loss improved from 0.51177 to 0.50685, saving model to ..\\models\\vgg16\\checkpoints\\train_55.tf\n",
      "13/13 [==============================] - 8s 592ms/step - loss: 0.4435 - accuracy: 0.7962 - val_loss: 0.5068 - val_accuracy: 0.7500 - lr: 1.0000e-06\n",
      "Epoch 56/60\n",
      "13/13 [==============================] - ETA: 0s - loss: 0.4520 - accuracy: 0.7910\n",
      "Epoch 00056: val_loss improved from 0.50685 to 0.50074, saving model to ..\\models\\vgg16\\checkpoints\\train_56.tf\n",
      "13/13 [==============================] - 8s 594ms/step - loss: 0.4520 - accuracy: 0.7910 - val_loss: 0.5007 - val_accuracy: 0.7619 - lr: 1.0000e-06\n",
      "Epoch 57/60\n",
      "13/13 [==============================] - ETA: 0s - loss: 0.4376 - accuracy: 0.7974\n",
      "Epoch 00057: val_loss improved from 0.50074 to 0.49701, saving model to ..\\models\\vgg16\\checkpoints\\train_57.tf\n",
      "13/13 [==============================] - 8s 594ms/step - loss: 0.4376 - accuracy: 0.7974 - val_loss: 0.4970 - val_accuracy: 0.7619 - lr: 1.0000e-06\n",
      "Epoch 58/60\n",
      "13/13 [==============================] - ETA: 0s - loss: 0.4297 - accuracy: 0.7872\n",
      "Epoch 00058: val_loss improved from 0.49701 to 0.49572, saving model to ..\\models\\vgg16\\checkpoints\\train_58.tf\n",
      "13/13 [==============================] - 8s 596ms/step - loss: 0.4297 - accuracy: 0.7872 - val_loss: 0.4957 - val_accuracy: 0.7619 - lr: 1.0000e-06\n",
      "Epoch 59/60\n",
      "13/13 [==============================] - ETA: 0s - loss: 0.4303 - accuracy: 0.8000\n",
      "Epoch 00059: val_loss improved from 0.49572 to 0.49490, saving model to ..\\models\\vgg16\\checkpoints\\train_59.tf\n",
      "13/13 [==============================] - 8s 595ms/step - loss: 0.4303 - accuracy: 0.8000 - val_loss: 0.4949 - val_accuracy: 0.7560 - lr: 1.0000e-06\n",
      "Epoch 60/60\n",
      "13/13 [==============================] - ETA: 0s - loss: 0.4456 - accuracy: 0.7936\n",
      "Epoch 00060: val_loss improved from 0.49490 to 0.49360, saving model to ..\\models\\vgg16\\checkpoints\\train_60.tf\n",
      "13/13 [==============================] - 8s 597ms/step - loss: 0.4456 - accuracy: 0.7936 - val_loss: 0.4936 - val_accuracy: 0.7560 - lr: 1.0000e-06\n"
     ]
    }
   ],
   "source": [
    "FINE_TUNE_AT_LAYER = 15\n",
    "FINE_TUNING_EPOCHS = 30\n",
    "FINE_TUNING_LR = 0.001\n",
    "FINAL_MODEL_NAME = 'trained_weights'\n",
    "FINAL_MODEL_SAVE_PATH = CHECKPOINTS_PATH / FINAL_MODEL_NAME\n",
    "\n",
    "unfreeze_last_vgg(model, which_freeze=FINE_TUNE_AT_LAYER)\n",
    "\n",
    "total_epochs = BASE_EPOCHS + FINE_TUNING_EPOCHS\n",
    "model.compile(optimizer=tf.keras.optimizers.Adam(learning_rate=FINE_TUNING_LR),\n",
    "              loss=loss, metrics=['accuracy'])\n",
    "history = model.fit(train_ds, epochs=total_epochs, validation_data=valid_ds, callbacks=[tb, checkpoint, reduce_lr, early_stopping], \\\n",
    "                    initial_epoch=history.epoch[-1])\n",
    "\n",
    "model.save(FINAL_MODEL_SAVE_PATH, save_format='h5')"
   ]
  },
  {
   "cell_type": "markdown",
   "id": "0c5cb089",
   "metadata": {},
   "source": [
    "#### Model evaluation"
   ]
  },
  {
   "cell_type": "code",
   "execution_count": 10,
   "id": "2f6bd2f2",
   "metadata": {},
   "outputs": [],
   "source": [
    "# TODO - load model if not trained"
   ]
  },
  {
   "cell_type": "code",
   "execution_count": 13,
   "id": "dab33b40",
   "metadata": {},
   "outputs": [
    {
     "name": "stdout",
     "output_type": "stream",
     "text": [
      "Found 177 files belonging to 2 classes.\n",
      "3/3 [==============================] - 14s 7s/step - loss: 0.3680 - accuracy: 0.8701\n",
      "Loss: 0.36798617243766785 --------- Accuracy: 87.01%\n",
      "              precision    recall  f1-score   support\n",
      "\n",
      "           0       0.95      0.81      0.88       102\n",
      "           1       0.79      0.95      0.86        75\n",
      "\n",
      "    accuracy                           0.87       177\n",
      "   macro avg       0.87      0.88      0.87       177\n",
      "weighted avg       0.88      0.87      0.87       177\n",
      "\n"
     ]
    },
    {
     "data": {
      "text/html": [
       "<div>\n",
       "<style scoped>\n",
       "    .dataframe tbody tr th:only-of-type {\n",
       "        vertical-align: middle;\n",
       "    }\n",
       "\n",
       "    .dataframe tbody tr th {\n",
       "        vertical-align: top;\n",
       "    }\n",
       "\n",
       "    .dataframe thead th {\n",
       "        text-align: right;\n",
       "    }\n",
       "</style>\n",
       "<table border=\"1\" class=\"dataframe\">\n",
       "  <thead>\n",
       "    <tr style=\"text-align: right;\">\n",
       "      <th></th>\n",
       "      <th>PRED_0</th>\n",
       "      <th>PRED_1</th>\n",
       "    </tr>\n",
       "  </thead>\n",
       "  <tbody>\n",
       "    <tr>\n",
       "      <th>REAL_0</th>\n",
       "      <td>83</td>\n",
       "      <td>19</td>\n",
       "    </tr>\n",
       "    <tr>\n",
       "      <th>REAL_1</th>\n",
       "      <td>4</td>\n",
       "      <td>71</td>\n",
       "    </tr>\n",
       "  </tbody>\n",
       "</table>\n",
       "</div>"
      ],
      "text/plain": [
       "        PRED_0  PRED_1\n",
       "REAL_0      83      19\n",
       "REAL_1       4      71"
      ]
     },
     "execution_count": 13,
     "metadata": {},
     "output_type": "execute_result"
    }
   ],
   "source": [
    "test_path = Path(r'../data/test')\n",
    "test_ds = tf.keras.preprocessing.image_dataset_from_directory(test_path, image_size=(IMG_HEIGHT, IMG_WIDTH), \\\n",
    "                                                              batch_size=BATCH_SIZE, shuffle=False, \\\n",
    "                                                              label_mode='categorical')\n",
    "assert class_names == test_ds.class_names\n",
    "\n",
    "if len(class_names) == 2:  # take the one-hot-encoded matrix of labels and convert to a vector if binary classification\n",
    "    test_ds = test_ds.map(filter_binary_labels, num_parallel_calls=AUTOTUNE)\n",
    "test_ds = optimize_dataset(test_ds)\n",
    "\n",
    "metrics = model.evaluate(test_ds)\n",
    "print('Loss: {} --------- Accuracy: {}%'.format(metrics[0], np.round(metrics[1]*100, 2)))\n",
    "\n",
    "y_pred = model.predict(test_ds)\n",
    "y_true = tf.concat([y for x, y in test_ds], axis=0)\n",
    "if len(class_names) == 2: # uses a threshold for the predictions if binary classification problem\n",
    "    y_pred[y_pred >= 0.5] = 1\n",
    "    y_pred[y_pred < 0.5] = 0\n",
    "    y_true = y_true.numpy()\n",
    "else: # uses argmax if not binary classification\n",
    "    y_pred = np.argmax(y_pred, axis=1)\n",
    "    y_true = np.argmax(y_true.numpy(), axis=1)\n",
    "\n",
    "print(classification_report(y_true, y_pred, target_names=class_names, digits=2))\n",
    "\n",
    "pred_labels = [('PRED_' + class_name) for class_name in class_names]\n",
    "real_labels = [('REAL_' + class_name) for class_name in class_names]\n",
    "pd.DataFrame(confusion_matrix(y_true, y_pred), columns=pred_labels, index=real_labels)"
   ]
  }
 ],
 "metadata": {
  "kernelspec": {
   "display_name": "Python 3 (ipykernel)",
   "language": "python",
   "name": "python3"
  },
  "language_info": {
   "codemirror_mode": {
    "name": "ipython",
    "version": 3
   },
   "file_extension": ".py",
   "mimetype": "text/x-python",
   "name": "python",
   "nbconvert_exporter": "python",
   "pygments_lexer": "ipython3",
   "version": "3.9.9"
  }
 },
 "nbformat": 4,
 "nbformat_minor": 5
}
