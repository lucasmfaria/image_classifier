{
 "cells": [
  {
   "cell_type": "code",
   "execution_count": 1,
   "id": "f80e9476",
   "metadata": {},
   "outputs": [],
   "source": [
    "%load_ext autoreload\n",
    "%autoreload 2\n",
    "%load_ext tensorboard"
   ]
  },
  {
   "cell_type": "markdown",
   "id": "d142780b",
   "metadata": {},
   "source": [
    "## Imports"
   ]
  },
  {
   "cell_type": "code",
   "execution_count": 2,
   "id": "196b92bb",
   "metadata": {},
   "outputs": [],
   "source": [
    "from pathlib import Path\n",
    "import shutil\n",
    "from tqdm import tqdm\n",
    "import tensorflow as tf\n",
    "from tensorflow.keras.callbacks import (\n",
    "    ReduceLROnPlateau,\n",
    "    EarlyStopping,\n",
    "    ModelCheckpoint,\n",
    "    TensorBoard\n",
    ")\n",
    "import sys\n",
    "import os\n",
    "import numpy as np\n",
    "import pandas as pd\n",
    "import matplotlib.pyplot as plt\n",
    "from sklearn.metrics import classification_report, confusion_matrix\n",
    "module_path = os.path.abspath(os.path.join('..'))\n",
    "if module_path not in sys.path:\n",
    "    sys.path.append(module_path)\n",
    "from utils.model import make_model, freeze_all_vgg, unfreeze_last_vgg\n",
    "from utils.data import train_test_valid_split, filter_binary_labels, optimize_dataset, create_split, delete_folder"
   ]
  },
  {
   "cell_type": "markdown",
   "id": "3f7e9957",
   "metadata": {},
   "source": [
    "## Image files management -> train, test, valid splits"
   ]
  },
  {
   "cell_type": "code",
   "execution_count": 3,
   "id": "09210cd7",
   "metadata": {},
   "outputs": [
    {
     "name": "stdout",
     "output_type": "stream",
     "text": [
      "--------------DELETE TRAIN SPLIT------------\n",
      "--------------COPY TRAIN SPLIT------------\n"
     ]
    },
    {
     "name": "stderr",
     "output_type": "stream",
     "text": [
      "100%|██████████████████████████████████████████████████████████████████████████████████████████████████████████████████████████████████████████████████| 781/781 [00:00<00:00, 805.28it/s]\n"
     ]
    },
    {
     "name": "stdout",
     "output_type": "stream",
     "text": [
      "--------------DELETE TEST SPLIT------------\n",
      "--------------COPY TEST SPLIT------------\n"
     ]
    },
    {
     "name": "stderr",
     "output_type": "stream",
     "text": [
      "100%|██████████████████████████████████████████████████████████████████████████████████████████████████████████████████████████████████████████████████| 177/177 [00:00<00:00, 821.02it/s]\n"
     ]
    },
    {
     "name": "stdout",
     "output_type": "stream",
     "text": [
      "--------------DELETE VALID SPLIT------------\n",
      "--------------COPY VALID SPLIT------------\n"
     ]
    },
    {
     "name": "stderr",
     "output_type": "stream",
     "text": [
      "100%|██████████████████████████████████████████████████████████████████████████████████████████████████████████████████████████████████████████████████| 168/168 [00:00<00:00, 737.28it/s]\n"
     ]
    }
   ],
   "source": [
    "DATASET_SOURCE_PATH = Path(r'../data/dataset')\n",
    "SPLITS_DESTINATION_PATH = Path(r'../data')\n",
    "UNDERSAMPLE_RATIO = 0.8  # controls the under sampling for majority class. Use 'None' to disable\n",
    "TEST_SIZE = 0.15\n",
    "VALID_SIZE = 0.15\n",
    "\n",
    "X_train, X_test, X_valid = train_test_valid_split(DATASET_SOURCE_PATH, test_size=TEST_SIZE, valid_size=VALID_SIZE, under_sample_ratio=UNDERSAMPLE_RATIO)\n",
    "\n",
    "splits = [('train', X_train), ('test', X_test), ('valid', X_valid)]\n",
    "\n",
    "for split in splits:\n",
    "    destination_path = Path(SPLITS_DESTINATION_PATH) / split[0]\n",
    "    delete_folder(destination_path)\n",
    "    create_split(split[1], destination_path)"
   ]
  },
  {
   "cell_type": "markdown",
   "id": "521af848",
   "metadata": {},
   "source": [
    "## Dataset loading"
   ]
  },
  {
   "cell_type": "code",
   "execution_count": 4,
   "id": "54d256c5",
   "metadata": {},
   "outputs": [
    {
     "name": "stdout",
     "output_type": "stream",
     "text": [
      "Found 781 files belonging to 2 classes.\n",
      "Found 167 files belonging to 2 classes.\n"
     ]
    }
   ],
   "source": [
    "IMG_HEIGHT = 224\n",
    "IMG_WIDTH = 224\n",
    "BATCH_SIZE = 64\n",
    "SEED = None\n",
    "\n",
    "train_path = SPLITS_DESTINATION_PATH / 'train'\n",
    "train_ds = tf.keras.preprocessing.image_dataset_from_directory(train_path, image_size=(IMG_HEIGHT, IMG_WIDTH),\\\n",
    "                                                               batch_size=BATCH_SIZE, shuffle=True, \\\n",
    "                                                               label_mode='categorical', seed=SEED)\n",
    "\n",
    "valid_path = SPLITS_DESTINATION_PATH / 'valid'\n",
    "valid_ds = tf.keras.preprocessing.image_dataset_from_directory(valid_path, image_size=(IMG_HEIGHT, IMG_WIDTH),\\\n",
    "                                                               batch_size=BATCH_SIZE, shuffle=True, \\\n",
    "                                                               label_mode='categorical', seed=SEED)\n",
    "\n",
    "class_names = train_ds.class_names\n",
    "assert class_names == valid_ds.class_names\n",
    "AUTOTUNE = tf.data.AUTOTUNE\n",
    "\n",
    "if len(class_names) == 2:  # take the one-hot-encoded matrix of labels and convert to a vector if binary classification\n",
    "    train_ds = train_ds.map(filter_binary_labels, num_parallel_calls=AUTOTUNE)\n",
    "    valid_ds = valid_ds.map(filter_binary_labels, num_parallel_calls=AUTOTUNE)\n",
    "train_ds = optimize_dataset(train_ds)\n",
    "valid_ds = optimize_dataset(valid_ds)"
   ]
  },
  {
   "cell_type": "code",
   "execution_count": null,
   "id": "bb057470",
   "metadata": {},
   "outputs": [],
   "source": [
    "plt.figure(figsize=(10, 10))\n",
    "for images, labels in train_ds.take(1):\n",
    "    for i in range(9):\n",
    "        ax = plt.subplot(3, 3, i + 1)\n",
    "        plt.imshow(images[i].numpy().astype(\"uint8\"))\n",
    "        label_idx = labels.numpy()[i][0] if len(class_names) == 2 else np.argmax(labels.numpy()[i], axis=0)\n",
    "        plt.title(class_names[label_idx])\n",
    "        plt.axis(\"off\")"
   ]
  },
  {
   "cell_type": "markdown",
   "id": "a16680a2",
   "metadata": {},
   "source": [
    "## Model"
   ]
  },
  {
   "cell_type": "code",
   "execution_count": 6,
   "id": "a06370de",
   "metadata": {},
   "outputs": [
    {
     "name": "stdout",
     "output_type": "stream",
     "text": [
      "Model: \"model\"\n",
      "_________________________________________________________________\n",
      " Layer (type)                Output Shape              Param #   \n",
      "=================================================================\n",
      " input_2 (InputLayer)        [(None, 224, 224, 3)]     0         \n",
      "                                                                 \n",
      " sequential (Sequential)     (None, 224, 224, 3)       0         \n",
      "                                                                 \n",
      " tf.__operators__.getitem (S  (None, 224, 224, 3)      0         \n",
      " licingOpLambda)                                                 \n",
      "                                                                 \n",
      " tf.nn.bias_add (TFOpLambda)  (None, 224, 224, 3)      0         \n",
      "                                                                 \n",
      " vgg16 (Functional)          (None, 512)               14714688  \n",
      "                                                                 \n",
      " flatten (Flatten)           (None, 512)               0         \n",
      "                                                                 \n",
      " dense_1 (Dense)             (None, 512)               262656    \n",
      "                                                                 \n",
      " dropout (Dropout)           (None, 512)               0         \n",
      "                                                                 \n",
      " batch_normalization (BatchN  (None, 512)              2048      \n",
      " ormalization)                                                   \n",
      "                                                                 \n",
      " dense_2 (Dense)             (None, 512)               262656    \n",
      "                                                                 \n",
      " dropout_1 (Dropout)         (None, 512)               0         \n",
      "                                                                 \n",
      " batch_normalization_1 (Batc  (None, 512)              2048      \n",
      " hNormalization)                                                 \n",
      "                                                                 \n",
      " output (Dense)              (None, 1)                 513       \n",
      "                                                                 \n",
      "=================================================================\n",
      "Total params: 15,244,609\n",
      "Trainable params: 527,873\n",
      "Non-trainable params: 14,716,736\n",
      "_________________________________________________________________\n"
     ]
    }
   ],
   "source": [
    "N_HIDDEN = 512\n",
    "BASE_LR = 0.001\n",
    "\n",
    "model = make_model(n_classes=len(class_names), n_hidden=N_HIDDEN, img_height=IMG_HEIGHT, img_width=IMG_WIDTH)\n",
    "freeze_all_vgg(model)\n",
    "\n",
    "loss = tf.keras.losses.CategoricalCrossentropy() if len(class_names) > 2 else tf.keras.losses.BinaryCrossentropy()\n",
    "model.compile(optimizer=tf.keras.optimizers.Adam(learning_rate=BASE_LR),\n",
    "              loss=loss, metrics=['accuracy'])\n",
    "model.summary()"
   ]
  },
  {
   "cell_type": "markdown",
   "id": "1882bf11",
   "metadata": {},
   "source": [
    "#### Classifier initial training"
   ]
  },
  {
   "cell_type": "code",
   "execution_count": 7,
   "id": "d0db010e",
   "metadata": {},
   "outputs": [],
   "source": [
    "# TODO - delete last trained model"
   ]
  },
  {
   "cell_type": "code",
   "execution_count": 8,
   "id": "c8260507",
   "metadata": {
    "scrolled": true
   },
   "outputs": [
    {
     "name": "stdout",
     "output_type": "stream",
     "text": [
      "Epoch 1/30\n",
      "13/13 [==============================] - ETA: 0s - loss: 0.6687 - accuracy: 0.6722\n",
      "Epoch 00001: val_loss improved from inf to 0.73806, saving model to ..\\models\\vgg16\\checkpoints\\train_1.tf\n",
      "13/13 [==============================] - 44s 2s/step - loss: 0.6687 - accuracy: 0.6722 - val_loss: 0.7381 - val_accuracy: 0.7605 - lr: 0.0010\n",
      "Epoch 2/30\n",
      "13/13 [==============================] - ETA: 0s - loss: 0.4808 - accuracy: 0.7926\n",
      "Epoch 00002: val_loss improved from 0.73806 to 0.67261, saving model to ..\\models\\vgg16\\checkpoints\\train_2.tf\n",
      "13/13 [==============================] - 7s 532ms/step - loss: 0.4808 - accuracy: 0.7926 - val_loss: 0.6726 - val_accuracy: 0.7425 - lr: 0.0010\n",
      "Epoch 3/30\n",
      "13/13 [==============================] - ETA: 0s - loss: 0.3925 - accuracy: 0.8271\n",
      "Epoch 00003: val_loss improved from 0.67261 to 0.62332, saving model to ..\\models\\vgg16\\checkpoints\\train_3.tf\n",
      "13/13 [==============================] - 7s 529ms/step - loss: 0.3925 - accuracy: 0.8271 - val_loss: 0.6233 - val_accuracy: 0.7784 - lr: 0.0010\n",
      "Epoch 4/30\n",
      "13/13 [==============================] - ETA: 0s - loss: 0.3917 - accuracy: 0.8348\n",
      "Epoch 00004: val_loss improved from 0.62332 to 0.58827, saving model to ..\\models\\vgg16\\checkpoints\\train_4.tf\n",
      "13/13 [==============================] - 7s 534ms/step - loss: 0.3917 - accuracy: 0.8348 - val_loss: 0.5883 - val_accuracy: 0.8024 - lr: 0.0010\n",
      "Epoch 5/30\n",
      "13/13 [==============================] - ETA: 0s - loss: 0.3799 - accuracy: 0.8233\n",
      "Epoch 00005: val_loss improved from 0.58827 to 0.57030, saving model to ..\\models\\vgg16\\checkpoints\\train_5.tf\n",
      "13/13 [==============================] - 7s 529ms/step - loss: 0.3799 - accuracy: 0.8233 - val_loss: 0.5703 - val_accuracy: 0.7784 - lr: 0.0010\n",
      "Epoch 6/30\n",
      "13/13 [==============================] - ETA: 0s - loss: 0.3452 - accuracy: 0.8566\n",
      "Epoch 00006: val_loss did not improve from 0.57030\n",
      "13/13 [==============================] - 7s 507ms/step - loss: 0.3452 - accuracy: 0.8566 - val_loss: 0.6055 - val_accuracy: 0.7725 - lr: 0.0010\n",
      "Epoch 7/30\n",
      "13/13 [==============================] - ETA: 0s - loss: 0.3112 - accuracy: 0.8579\n",
      "Epoch 00007: val_loss did not improve from 0.57030\n",
      "13/13 [==============================] - 7s 507ms/step - loss: 0.3112 - accuracy: 0.8579 - val_loss: 0.5940 - val_accuracy: 0.7784 - lr: 0.0010\n",
      "Epoch 8/30\n",
      "13/13 [==============================] - ETA: 0s - loss: 0.3044 - accuracy: 0.8630\n",
      "Epoch 00008: val_loss did not improve from 0.57030\n",
      "13/13 [==============================] - 7s 507ms/step - loss: 0.3044 - accuracy: 0.8630 - val_loss: 0.5821 - val_accuracy: 0.7605 - lr: 0.0010\n",
      "Epoch 9/30\n",
      "13/13 [==============================] - ETA: 0s - loss: 0.2687 - accuracy: 0.8822\n",
      "Epoch 00009: val_loss did not improve from 0.57030\n",
      "\n",
      "Epoch 00009: ReduceLROnPlateau reducing learning rate to 0.00010000000474974513.\n",
      "13/13 [==============================] - 7s 509ms/step - loss: 0.2687 - accuracy: 0.8822 - val_loss: 0.5989 - val_accuracy: 0.7545 - lr: 0.0010\n",
      "Epoch 10/30\n",
      "13/13 [==============================] - ETA: 0s - loss: 0.2558 - accuracy: 0.8848\n",
      "Epoch 00010: val_loss improved from 0.57030 to 0.52639, saving model to ..\\models\\vgg16\\checkpoints\\train_10.tf\n",
      "13/13 [==============================] - 7s 529ms/step - loss: 0.2558 - accuracy: 0.8848 - val_loss: 0.5264 - val_accuracy: 0.7904 - lr: 1.0000e-04\n",
      "Epoch 11/30\n",
      "13/13 [==============================] - ETA: 0s - loss: 0.2467 - accuracy: 0.9027\n",
      "Epoch 00011: val_loss improved from 0.52639 to 0.48621, saving model to ..\\models\\vgg16\\checkpoints\\train_11.tf\n",
      "13/13 [==============================] - 7s 528ms/step - loss: 0.2467 - accuracy: 0.9027 - val_loss: 0.4862 - val_accuracy: 0.7964 - lr: 1.0000e-04\n",
      "Epoch 12/30\n",
      "13/13 [==============================] - ETA: 0s - loss: 0.2701 - accuracy: 0.8809\n",
      "Epoch 00012: val_loss improved from 0.48621 to 0.48024, saving model to ..\\models\\vgg16\\checkpoints\\train_12.tf\n",
      "13/13 [==============================] - 7s 530ms/step - loss: 0.2701 - accuracy: 0.8809 - val_loss: 0.4802 - val_accuracy: 0.7784 - lr: 1.0000e-04\n",
      "Epoch 13/30\n",
      "13/13 [==============================] - ETA: 0s - loss: 0.2492 - accuracy: 0.8886\n",
      "Epoch 00013: val_loss improved from 0.48024 to 0.47562, saving model to ..\\models\\vgg16\\checkpoints\\train_13.tf\n",
      "13/13 [==============================] - 7s 531ms/step - loss: 0.2492 - accuracy: 0.8886 - val_loss: 0.4756 - val_accuracy: 0.7784 - lr: 1.0000e-04\n",
      "Epoch 14/30\n",
      "13/13 [==============================] - ETA: 0s - loss: 0.2594 - accuracy: 0.8809\n",
      "Epoch 00014: val_loss improved from 0.47562 to 0.46473, saving model to ..\\models\\vgg16\\checkpoints\\train_14.tf\n",
      "13/13 [==============================] - 7s 527ms/step - loss: 0.2594 - accuracy: 0.8809 - val_loss: 0.4647 - val_accuracy: 0.7784 - lr: 1.0000e-04\n",
      "Epoch 15/30\n",
      "13/13 [==============================] - ETA: 0s - loss: 0.2258 - accuracy: 0.9052\n",
      "Epoch 00015: val_loss improved from 0.46473 to 0.45866, saving model to ..\\models\\vgg16\\checkpoints\\train_15.tf\n",
      "13/13 [==============================] - 7s 530ms/step - loss: 0.2258 - accuracy: 0.9052 - val_loss: 0.4587 - val_accuracy: 0.7844 - lr: 1.0000e-04\n",
      "Epoch 16/30\n",
      "13/13 [==============================] - ETA: 0s - loss: 0.2310 - accuracy: 0.9078\n",
      "Epoch 00016: val_loss improved from 0.45866 to 0.45374, saving model to ..\\models\\vgg16\\checkpoints\\train_16.tf\n",
      "13/13 [==============================] - 7s 529ms/step - loss: 0.2310 - accuracy: 0.9078 - val_loss: 0.4537 - val_accuracy: 0.7964 - lr: 1.0000e-04\n",
      "Epoch 17/30\n",
      "13/13 [==============================] - ETA: 0s - loss: 0.2034 - accuracy: 0.9078\n",
      "Epoch 00017: val_loss did not improve from 0.45374\n",
      "13/13 [==============================] - 7s 509ms/step - loss: 0.2034 - accuracy: 0.9078 - val_loss: 0.4617 - val_accuracy: 0.7844 - lr: 1.0000e-04\n",
      "Epoch 18/30\n",
      "13/13 [==============================] - ETA: 0s - loss: 0.2306 - accuracy: 0.9052\n",
      "Epoch 00018: val_loss did not improve from 0.45374\n",
      "13/13 [==============================] - 7s 508ms/step - loss: 0.2306 - accuracy: 0.9052 - val_loss: 0.4757 - val_accuracy: 0.7964 - lr: 1.0000e-04\n",
      "Epoch 19/30\n",
      "13/13 [==============================] - ETA: 0s - loss: 0.1867 - accuracy: 0.9309\n",
      "Epoch 00019: val_loss did not improve from 0.45374\n",
      "13/13 [==============================] - 7s 510ms/step - loss: 0.1867 - accuracy: 0.9309 - val_loss: 0.4794 - val_accuracy: 0.7964 - lr: 1.0000e-04\n",
      "Epoch 20/30\n",
      "13/13 [==============================] - ETA: 0s - loss: 0.2150 - accuracy: 0.9117\n",
      "Epoch 00020: val_loss did not improve from 0.45374\n",
      "\n",
      "Epoch 00020: ReduceLROnPlateau reducing learning rate to 1.0000000474974514e-05.\n",
      "13/13 [==============================] - 7s 509ms/step - loss: 0.2150 - accuracy: 0.9117 - val_loss: 0.4874 - val_accuracy: 0.7964 - lr: 1.0000e-04\n",
      "Epoch 21/30\n",
      "13/13 [==============================] - ETA: 0s - loss: 0.2124 - accuracy: 0.8950\n",
      "Epoch 00021: val_loss did not improve from 0.45374\n",
      "13/13 [==============================] - 7s 508ms/step - loss: 0.2124 - accuracy: 0.8950 - val_loss: 0.4900 - val_accuracy: 0.7964 - lr: 1.0000e-05\n",
      "Epoch 22/30\n",
      "13/13 [==============================] - ETA: 0s - loss: 0.1869 - accuracy: 0.9296\n",
      "Epoch 00022: val_loss did not improve from 0.45374\n",
      "13/13 [==============================] - 7s 508ms/step - loss: 0.1869 - accuracy: 0.9296 - val_loss: 0.4930 - val_accuracy: 0.7964 - lr: 1.0000e-05\n",
      "Epoch 23/30\n",
      "13/13 [==============================] - ETA: 0s - loss: 0.2225 - accuracy: 0.9040\n",
      "Epoch 00023: val_loss did not improve from 0.45374\n",
      "13/13 [==============================] - 7s 508ms/step - loss: 0.2225 - accuracy: 0.9040 - val_loss: 0.4963 - val_accuracy: 0.7964 - lr: 1.0000e-05\n",
      "Epoch 24/30\n",
      "13/13 [==============================] - ETA: 0s - loss: 0.2143 - accuracy: 0.9052\n",
      "Epoch 00024: val_loss did not improve from 0.45374\n",
      "\n",
      "Epoch 00024: ReduceLROnPlateau reducing learning rate to 1.0000000656873453e-06.\n",
      "13/13 [==============================] - 7s 509ms/step - loss: 0.2143 - accuracy: 0.9052 - val_loss: 0.4983 - val_accuracy: 0.7964 - lr: 1.0000e-05\n",
      "Epoch 25/30\n",
      "13/13 [==============================] - ETA: 0s - loss: 0.1905 - accuracy: 0.9334\n",
      "Epoch 00025: val_loss did not improve from 0.45374\n",
      "13/13 [==============================] - 7s 509ms/step - loss: 0.1905 - accuracy: 0.9334 - val_loss: 0.5016 - val_accuracy: 0.7964 - lr: 1.0000e-06\n"
     ]
    },
    {
     "name": "stdout",
     "output_type": "stream",
     "text": [
      "Epoch 26/30\n",
      "13/13 [==============================] - ETA: 0s - loss: 0.2043 - accuracy: 0.9040\n",
      "Epoch 00026: val_loss did not improve from 0.45374\n",
      "13/13 [==============================] - 7s 510ms/step - loss: 0.2043 - accuracy: 0.9040 - val_loss: 0.5069 - val_accuracy: 0.7964 - lr: 1.0000e-06\n",
      "Epoch 27/30\n",
      "13/13 [==============================] - ETA: 0s - loss: 0.2029 - accuracy: 0.9104\n",
      "Epoch 00027: val_loss did not improve from 0.45374\n",
      "13/13 [==============================] - 7s 508ms/step - loss: 0.2029 - accuracy: 0.9104 - val_loss: 0.5100 - val_accuracy: 0.7904 - lr: 1.0000e-06\n",
      "Epoch 28/30\n",
      "13/13 [==============================] - ETA: 0s - loss: 0.1864 - accuracy: 0.9232\n",
      "Epoch 00028: val_loss did not improve from 0.45374\n",
      "\n",
      "Epoch 00028: ReduceLROnPlateau reducing learning rate to 1.0000001111620805e-07.\n",
      "13/13 [==============================] - 7s 508ms/step - loss: 0.1864 - accuracy: 0.9232 - val_loss: 0.5139 - val_accuracy: 0.7904 - lr: 1.0000e-06\n",
      "Epoch 29/30\n",
      "13/13 [==============================] - ETA: 0s - loss: 0.2169 - accuracy: 0.9155\n",
      "Epoch 00029: val_loss did not improve from 0.45374\n",
      "13/13 [==============================] - 7s 508ms/step - loss: 0.2169 - accuracy: 0.9155 - val_loss: 0.5171 - val_accuracy: 0.7904 - lr: 1.0000e-07\n",
      "Epoch 30/30\n",
      "13/13 [==============================] - ETA: 0s - loss: 0.1965 - accuracy: 0.9283\n",
      "Epoch 00030: val_loss did not improve from 0.45374\n",
      "13/13 [==============================] - 7s 508ms/step - loss: 0.1965 - accuracy: 0.9283 - val_loss: 0.5215 - val_accuracy: 0.7904 - lr: 1.0000e-07\n"
     ]
    }
   ],
   "source": [
    "LOG_PATH = Path(r'../models/vgg16/logs')\n",
    "CHECKPOINTS_PATH = Path(r'../models/vgg16/checkpoints')\n",
    "BASE_EPOCHS = 30\n",
    "\n",
    "tb = TensorBoard(log_dir=LOG_PATH)\n",
    "checkpoint = ModelCheckpoint(CHECKPOINTS_PATH / 'train_{epoch}.tf', verbose=1, save_weights_only=True,\n",
    "                             save_best_only=True, monitor='val_loss')\n",
    "reduce_lr = ReduceLROnPlateau(monitor='val_loss', factor=0.1, patience=4, verbose=1)\n",
    "early_stopping = EarlyStopping(monitor='val_loss', min_delta=0, patience=15, verbose=1)\n",
    "\n",
    "history = model.fit(train_ds, epochs=BASE_EPOCHS, validation_data=valid_ds, callbacks=[tb, checkpoint, reduce_lr,\n",
    "                                                                                       early_stopping])"
   ]
  },
  {
   "cell_type": "markdown",
   "id": "dea8cb4b",
   "metadata": {},
   "source": [
    "#### Fine tuning"
   ]
  },
  {
   "cell_type": "code",
   "execution_count": 9,
   "id": "fd646007",
   "metadata": {},
   "outputs": [
    {
     "name": "stdout",
     "output_type": "stream",
     "text": [
      "Epoch 30/60\n",
      "13/13 [==============================] - ETA: 0s - loss: 0.6724 - accuracy: 0.7209\n",
      "Epoch 00030: val_loss did not improve from 0.45374\n",
      "13/13 [==============================] - 11s 599ms/step - loss: 0.6724 - accuracy: 0.7209 - val_loss: 3.6103 - val_accuracy: 0.5928 - lr: 0.0010\n",
      "Epoch 31/60\n",
      "13/13 [==============================] - ETA: 0s - loss: 0.6033 - accuracy: 0.7183\n",
      "Epoch 00031: val_loss did not improve from 0.45374\n",
      "13/13 [==============================] - 7s 567ms/step - loss: 0.6033 - accuracy: 0.7183 - val_loss: 1.3308 - val_accuracy: 0.6826 - lr: 0.0010\n",
      "Epoch 32/60\n",
      "13/13 [==============================] - ETA: 0s - loss: 0.5835 - accuracy: 0.7350\n",
      "Epoch 00032: val_loss did not improve from 0.45374\n",
      "13/13 [==============================] - 7s 567ms/step - loss: 0.5835 - accuracy: 0.7350 - val_loss: 4.7924 - val_accuracy: 0.5509 - lr: 0.0010\n",
      "Epoch 33/60\n",
      "13/13 [==============================] - ETA: 0s - loss: 0.5258 - accuracy: 0.7324\n",
      "Epoch 00033: val_loss did not improve from 0.45374\n",
      "13/13 [==============================] - 7s 565ms/step - loss: 0.5258 - accuracy: 0.7324 - val_loss: 10.9777 - val_accuracy: 0.5509 - lr: 0.0010\n",
      "Epoch 34/60\n",
      "13/13 [==============================] - ETA: 0s - loss: 0.6432 - accuracy: 0.6825\n",
      "Epoch 00034: val_loss did not improve from 0.45374\n",
      "13/13 [==============================] - 7s 565ms/step - loss: 0.6432 - accuracy: 0.6825 - val_loss: 5.7986 - val_accuracy: 0.5509 - lr: 0.0010\n",
      "Epoch 35/60\n",
      "13/13 [==============================] - ETA: 0s - loss: 0.5366 - accuracy: 0.7401\n",
      "Epoch 00035: val_loss did not improve from 0.45374\n",
      "\n",
      "Epoch 00035: ReduceLROnPlateau reducing learning rate to 0.00010000000474974513.\n",
      "13/13 [==============================] - 7s 565ms/step - loss: 0.5366 - accuracy: 0.7401 - val_loss: 1.9579 - val_accuracy: 0.5629 - lr: 0.0010\n",
      "Epoch 36/60\n",
      "13/13 [==============================] - ETA: 0s - loss: 0.5080 - accuracy: 0.7490\n",
      "Epoch 00036: val_loss did not improve from 0.45374\n",
      "13/13 [==============================] - 7s 566ms/step - loss: 0.5080 - accuracy: 0.7490 - val_loss: 1.4487 - val_accuracy: 0.5808 - lr: 1.0000e-04\n",
      "Epoch 37/60\n",
      "13/13 [==============================] - ETA: 0s - loss: 0.5058 - accuracy: 0.7618\n",
      "Epoch 00037: val_loss did not improve from 0.45374\n",
      "13/13 [==============================] - 7s 565ms/step - loss: 0.5058 - accuracy: 0.7618 - val_loss: 1.1394 - val_accuracy: 0.6048 - lr: 1.0000e-04\n",
      "Epoch 38/60\n",
      "13/13 [==============================] - ETA: 0s - loss: 0.4798 - accuracy: 0.7875\n",
      "Epoch 00038: val_loss did not improve from 0.45374\n",
      "13/13 [==============================] - 7s 567ms/step - loss: 0.4798 - accuracy: 0.7875 - val_loss: 0.9198 - val_accuracy: 0.6347 - lr: 1.0000e-04\n",
      "Epoch 39/60\n",
      "13/13 [==============================] - ETA: 0s - loss: 0.5148 - accuracy: 0.7580\n",
      "Epoch 00039: val_loss did not improve from 0.45374\n",
      "13/13 [==============================] - 7s 567ms/step - loss: 0.5148 - accuracy: 0.7580 - val_loss: 0.7775 - val_accuracy: 0.6347 - lr: 1.0000e-04\n",
      "Epoch 40/60\n",
      "13/13 [==============================] - ETA: 0s - loss: 0.4798 - accuracy: 0.7887\n",
      "Epoch 00040: val_loss did not improve from 0.45374\n",
      "13/13 [==============================] - 7s 566ms/step - loss: 0.4798 - accuracy: 0.7887 - val_loss: 0.7621 - val_accuracy: 0.6467 - lr: 1.0000e-04\n",
      "Epoch 41/60\n",
      "13/13 [==============================] - ETA: 0s - loss: 0.4668 - accuracy: 0.8003\n",
      "Epoch 00041: val_loss did not improve from 0.45374\n",
      "13/13 [==============================] - 7s 567ms/step - loss: 0.4668 - accuracy: 0.8003 - val_loss: 0.6854 - val_accuracy: 0.6946 - lr: 1.0000e-04\n",
      "Epoch 42/60\n",
      "13/13 [==============================] - ETA: 0s - loss: 0.4786 - accuracy: 0.7785\n",
      "Epoch 00042: val_loss did not improve from 0.45374\n",
      "13/13 [==============================] - 7s 567ms/step - loss: 0.4786 - accuracy: 0.7785 - val_loss: 0.7651 - val_accuracy: 0.6766 - lr: 1.0000e-04\n",
      "Epoch 43/60\n",
      "13/13 [==============================] - ETA: 0s - loss: 0.4871 - accuracy: 0.7836\n",
      "Epoch 00043: val_loss did not improve from 0.45374\n",
      "13/13 [==============================] - 7s 567ms/step - loss: 0.4871 - accuracy: 0.7836 - val_loss: 0.6764 - val_accuracy: 0.7006 - lr: 1.0000e-04\n",
      "Epoch 44/60\n",
      "13/13 [==============================] - ETA: 0s - loss: 0.4494 - accuracy: 0.7939\n",
      "Epoch 00044: val_loss did not improve from 0.45374\n",
      "13/13 [==============================] - 7s 566ms/step - loss: 0.4494 - accuracy: 0.7939 - val_loss: 0.7358 - val_accuracy: 0.6707 - lr: 1.0000e-04\n",
      "Epoch 45/60\n",
      "13/13 [==============================] - ETA: 0s - loss: 0.4491 - accuracy: 0.7926\n",
      "Epoch 00045: val_loss did not improve from 0.45374\n",
      "13/13 [==============================] - 7s 568ms/step - loss: 0.4491 - accuracy: 0.7926 - val_loss: 0.6835 - val_accuracy: 0.6886 - lr: 1.0000e-04\n",
      "Epoch 46/60\n",
      "13/13 [==============================] - ETA: 0s - loss: 0.4398 - accuracy: 0.8003\n",
      "Epoch 00046: val_loss did not improve from 0.45374\n",
      "13/13 [==============================] - 7s 569ms/step - loss: 0.4398 - accuracy: 0.8003 - val_loss: 0.6868 - val_accuracy: 0.6826 - lr: 1.0000e-04\n",
      "Epoch 47/60\n",
      "13/13 [==============================] - ETA: 0s - loss: 0.4399 - accuracy: 0.7951\n",
      "Epoch 00047: val_loss did not improve from 0.45374\n",
      "13/13 [==============================] - 7s 567ms/step - loss: 0.4399 - accuracy: 0.7951 - val_loss: 0.5490 - val_accuracy: 0.7305 - lr: 1.0000e-04\n",
      "Epoch 48/60\n",
      "13/13 [==============================] - ETA: 0s - loss: 0.4546 - accuracy: 0.7939\n",
      "Epoch 00048: val_loss did not improve from 0.45374\n",
      "13/13 [==============================] - 7s 568ms/step - loss: 0.4546 - accuracy: 0.7939 - val_loss: 0.5954 - val_accuracy: 0.7126 - lr: 1.0000e-04\n",
      "Epoch 49/60\n",
      "13/13 [==============================] - ETA: 0s - loss: 0.4162 - accuracy: 0.8131\n",
      "Epoch 00049: val_loss did not improve from 0.45374\n",
      "13/13 [==============================] - 7s 568ms/step - loss: 0.4162 - accuracy: 0.8131 - val_loss: 0.7874 - val_accuracy: 0.6407 - lr: 1.0000e-04\n",
      "Epoch 50/60\n",
      "13/13 [==============================] - ETA: 0s - loss: 0.4375 - accuracy: 0.7926\n",
      "Epoch 00050: val_loss did not improve from 0.45374\n",
      "13/13 [==============================] - 7s 569ms/step - loss: 0.4375 - accuracy: 0.7926 - val_loss: 0.5399 - val_accuracy: 0.7425 - lr: 1.0000e-04\n",
      "Epoch 51/60\n",
      "13/13 [==============================] - ETA: 0s - loss: 0.4014 - accuracy: 0.8079\n",
      "Epoch 00051: val_loss did not improve from 0.45374\n",
      "13/13 [==============================] - 7s 567ms/step - loss: 0.4014 - accuracy: 0.8079 - val_loss: 0.5532 - val_accuracy: 0.7305 - lr: 1.0000e-04\n",
      "Epoch 52/60\n",
      "13/13 [==============================] - ETA: 0s - loss: 0.4217 - accuracy: 0.7913\n",
      "Epoch 00052: val_loss did not improve from 0.45374\n",
      "13/13 [==============================] - 7s 567ms/step - loss: 0.4217 - accuracy: 0.7913 - val_loss: 0.4855 - val_accuracy: 0.7725 - lr: 1.0000e-04\n",
      "Epoch 53/60\n",
      "13/13 [==============================] - ETA: 0s - loss: 0.4216 - accuracy: 0.8092\n",
      "Epoch 00053: val_loss did not improve from 0.45374\n",
      "13/13 [==============================] - 7s 568ms/step - loss: 0.4216 - accuracy: 0.8092 - val_loss: 0.4957 - val_accuracy: 0.7665 - lr: 1.0000e-04\n",
      "Epoch 54/60\n",
      "13/13 [==============================] - ETA: 0s - loss: 0.3686 - accuracy: 0.8284\n",
      "Epoch 00054: val_loss did not improve from 0.45374\n",
      "13/13 [==============================] - 7s 569ms/step - loss: 0.3686 - accuracy: 0.8284 - val_loss: 0.5919 - val_accuracy: 0.7305 - lr: 1.0000e-04\n",
      "Epoch 55/60\n",
      "13/13 [==============================] - ETA: 0s - loss: 0.3853 - accuracy: 0.8259\n",
      "Epoch 00055: val_loss did not improve from 0.45374\n",
      "13/13 [==============================] - 7s 569ms/step - loss: 0.3853 - accuracy: 0.8259 - val_loss: 0.5096 - val_accuracy: 0.7665 - lr: 1.0000e-04\n",
      "Epoch 56/60\n",
      "13/13 [==============================] - ETA: 0s - loss: 0.3754 - accuracy: 0.8323\n",
      "Epoch 00056: val_loss did not improve from 0.45374\n",
      "13/13 [==============================] - 7s 567ms/step - loss: 0.3754 - accuracy: 0.8323 - val_loss: 0.4765 - val_accuracy: 0.7665 - lr: 1.0000e-04\n",
      "Epoch 57/60\n",
      "13/13 [==============================] - ETA: 0s - loss: 0.3595 - accuracy: 0.8438\n",
      "Epoch 00057: val_loss did not improve from 0.45374\n",
      "13/13 [==============================] - 7s 569ms/step - loss: 0.3595 - accuracy: 0.8438 - val_loss: 0.5294 - val_accuracy: 0.7665 - lr: 1.0000e-04\n"
     ]
    },
    {
     "name": "stdout",
     "output_type": "stream",
     "text": [
      "Epoch 58/60\n",
      "13/13 [==============================] - ETA: 0s - loss: 0.3637 - accuracy: 0.8399\n",
      "Epoch 00058: val_loss did not improve from 0.45374\n",
      "13/13 [==============================] - 7s 568ms/step - loss: 0.3637 - accuracy: 0.8399 - val_loss: 0.4637 - val_accuracy: 0.7665 - lr: 1.0000e-04\n",
      "Epoch 59/60\n",
      "13/13 [==============================] - ETA: 0s - loss: 0.3490 - accuracy: 0.8412\n",
      "Epoch 00059: val_loss did not improve from 0.45374\n",
      "13/13 [==============================] - 7s 567ms/step - loss: 0.3490 - accuracy: 0.8412 - val_loss: 0.4925 - val_accuracy: 0.7844 - lr: 1.0000e-04\n",
      "Epoch 60/60\n",
      "13/13 [==============================] - ETA: 0s - loss: 0.3565 - accuracy: 0.8297\n",
      "Epoch 00060: val_loss did not improve from 0.45374\n",
      "13/13 [==============================] - 7s 567ms/step - loss: 0.3565 - accuracy: 0.8297 - val_loss: 0.4740 - val_accuracy: 0.7725 - lr: 1.0000e-04\n"
     ]
    }
   ],
   "source": [
    "FINE_TUNE_AT_LAYER = 15\n",
    "FINE_TUNING_EPOCHS = 30\n",
    "FINE_TUNING_LR = 0.001\n",
    "FINAL_MODEL_NAME = 'trained_weights'\n",
    "FINAL_MODEL_SAVE_PATH = CHECKPOINTS_PATH / FINAL_MODEL_NAME\n",
    "\n",
    "unfreeze_last_vgg(model, which_freeze=FINE_TUNE_AT_LAYER)\n",
    "\n",
    "total_epochs = BASE_EPOCHS + FINE_TUNING_EPOCHS\n",
    "model.compile(optimizer=tf.keras.optimizers.Adam(learning_rate=FINE_TUNING_LR),\n",
    "              loss=loss, metrics=['accuracy'])\n",
    "history = model.fit(train_ds, epochs=total_epochs, validation_data=valid_ds, callbacks=[tb, checkpoint, reduce_lr, early_stopping], \\\n",
    "                    initial_epoch=history.epoch[-1])\n",
    "\n",
    "model.save_weights(FINAL_MODEL_SAVE_PATH)"
   ]
  },
  {
   "cell_type": "markdown",
   "id": "0c5cb089",
   "metadata": {},
   "source": [
    "#### Model evaluation"
   ]
  },
  {
   "cell_type": "code",
   "execution_count": 10,
   "id": "2f6bd2f2",
   "metadata": {},
   "outputs": [],
   "source": [
    "# TODO - load model if not trained"
   ]
  },
  {
   "cell_type": "code",
   "execution_count": 13,
   "id": "dab33b40",
   "metadata": {},
   "outputs": [
    {
     "name": "stdout",
     "output_type": "stream",
     "text": [
      "Found 177 files belonging to 2 classes.\n",
      "3/3 [==============================] - 1s 393ms/step - loss: 0.4714 - accuracy: 0.7797\n",
      "Loss: 0.4714204668998718 --------- Accuracy: 77.97%\n",
      "              precision    recall  f1-score   support\n",
      "\n",
      "           0       0.80      0.82      0.81       102\n",
      "           1       0.75      0.72      0.73        75\n",
      "\n",
      "    accuracy                           0.78       177\n",
      "   macro avg       0.78      0.77      0.77       177\n",
      "weighted avg       0.78      0.78      0.78       177\n",
      "\n"
     ]
    },
    {
     "data": {
      "text/html": [
       "<div>\n",
       "<style scoped>\n",
       "    .dataframe tbody tr th:only-of-type {\n",
       "        vertical-align: middle;\n",
       "    }\n",
       "\n",
       "    .dataframe tbody tr th {\n",
       "        vertical-align: top;\n",
       "    }\n",
       "\n",
       "    .dataframe thead th {\n",
       "        text-align: right;\n",
       "    }\n",
       "</style>\n",
       "<table border=\"1\" class=\"dataframe\">\n",
       "  <thead>\n",
       "    <tr style=\"text-align: right;\">\n",
       "      <th></th>\n",
       "      <th>PRED_0</th>\n",
       "      <th>PRED_1</th>\n",
       "    </tr>\n",
       "  </thead>\n",
       "  <tbody>\n",
       "    <tr>\n",
       "      <th>REAL_0</th>\n",
       "      <td>84</td>\n",
       "      <td>18</td>\n",
       "    </tr>\n",
       "    <tr>\n",
       "      <th>REAL_1</th>\n",
       "      <td>21</td>\n",
       "      <td>54</td>\n",
       "    </tr>\n",
       "  </tbody>\n",
       "</table>\n",
       "</div>"
      ],
      "text/plain": [
       "        PRED_0  PRED_1\n",
       "REAL_0      84      18\n",
       "REAL_1      21      54"
      ]
     },
     "execution_count": 13,
     "metadata": {},
     "output_type": "execute_result"
    }
   ],
   "source": [
    "test_path = Path(r'../data/test')\n",
    "test_ds = tf.keras.preprocessing.image_dataset_from_directory(test_path, image_size=(IMG_HEIGHT, IMG_WIDTH), \\\n",
    "                                                              batch_size=BATCH_SIZE, shuffle=False, \\\n",
    "                                                              label_mode='categorical')\n",
    "assert class_names == test_ds.class_names\n",
    "\n",
    "if len(class_names) == 2:  # take the one-hot-encoded matrix of labels and convert to a vector if binary classification\n",
    "    test_ds = test_ds.map(filter_binary_labels, num_parallel_calls=AUTOTUNE)\n",
    "test_ds = optimize_dataset(test_ds)\n",
    "\n",
    "metrics = model.evaluate(test_ds)\n",
    "print('Loss: {} --------- Accuracy: {}%'.format(metrics[0], np.round(metrics[1]*100, 2)))\n",
    "\n",
    "y_pred = model.predict(test_ds)\n",
    "y_true = tf.concat([y for x, y in test_ds], axis=0)\n",
    "if len(class_names) == 2: # uses a threshold for the predictions if binary classification problem\n",
    "    y_pred[y_pred >= 0.5] = 1\n",
    "    y_pred[y_pred < 0.5] = 0\n",
    "    y_true = y_true.numpy()\n",
    "else: # uses argmax if not binary classification\n",
    "    y_pred = np.argmax(y_pred, axis=1)\n",
    "    y_true = np.argmax(y_true.numpy(), axis=1)\n",
    "\n",
    "print(classification_report(y_true, y_pred, target_names=class_names, digits=2))\n",
    "\n",
    "pred_labels = [('PRED_' + class_name) for class_name in class_names]\n",
    "real_labels = [('REAL_' + class_name) for class_name in class_names]\n",
    "pd.DataFrame(confusion_matrix(y_true, y_pred), columns=pred_labels, index=real_labels)"
   ]
  }
 ],
 "metadata": {
  "kernelspec": {
   "display_name": "Python 3 (ipykernel)",
   "language": "python",
   "name": "python3"
  },
  "language_info": {
   "codemirror_mode": {
    "name": "ipython",
    "version": 3
   },
   "file_extension": ".py",
   "mimetype": "text/x-python",
   "name": "python",
   "nbconvert_exporter": "python",
   "pygments_lexer": "ipython3",
   "version": "3.9.9"
  }
 },
 "nbformat": 4,
 "nbformat_minor": 5
}
