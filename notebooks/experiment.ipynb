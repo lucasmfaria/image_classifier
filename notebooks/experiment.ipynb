{
 "cells": [
  {
   "cell_type": "code",
   "execution_count": 12,
   "id": "f80e9476",
   "metadata": {},
   "outputs": [
    {
     "name": "stdout",
     "output_type": "stream",
     "text": [
      "The autoreload extension is already loaded. To reload it, use:\n",
      "  %reload_ext autoreload\n"
     ]
    }
   ],
   "source": [
    "%load_ext autoreload\n",
    "%autoreload 2\n",
    "%load_ext tensorboard"
   ]
  },
  {
   "cell_type": "markdown",
   "id": "d142780b",
   "metadata": {},
   "source": [
    "## Imports"
   ]
  },
  {
   "cell_type": "code",
   "execution_count": 2,
   "id": "196b92bb",
   "metadata": {},
   "outputs": [],
   "source": [
    "from pathlib import Path\n",
    "import shutil\n",
    "from tqdm import tqdm\n",
    "import tensorflow as tf\n",
    "from tensorflow.keras.callbacks import (\n",
    "    ReduceLROnPlateau,\n",
    "    EarlyStopping,\n",
    "    ModelCheckpoint,\n",
    "    TensorBoard\n",
    ")\n",
    "import sys\n",
    "import os\n",
    "import numpy as np\n",
    "import pandas as pd\n",
    "import matplotlib.pyplot as plt\n",
    "from sklearn.metrics import classification_report, confusion_matrix\n",
    "module_path = os.path.abspath(os.path.join('..'))\n",
    "if module_path not in sys.path:\n",
    "    sys.path.append(module_path)\n",
    "from utils.model import make_model, freeze_all_vgg, unfreeze_last_vgg\n",
    "from utils.data import train_test_valid_split, filter_binary_labels, optimize_dataset, create_split, delete_folder"
   ]
  },
  {
   "cell_type": "markdown",
   "id": "3f7e9957",
   "metadata": {},
   "source": [
    "## Image files management -> train, test, valid splits"
   ]
  },
  {
   "cell_type": "code",
   "execution_count": 3,
   "id": "09210cd7",
   "metadata": {},
   "outputs": [
    {
     "name": "stdout",
     "output_type": "stream",
     "text": [
      "--------------DELETE TRAIN SPLIT------------\n",
      "--------------COPY TRAIN SPLIT------------\n"
     ]
    },
    {
     "name": "stderr",
     "output_type": "stream",
     "text": [
      "100%|██████████████████████████████████████████████████████████████████████████████████████████████████████████████████████████████████████████████████| 823/823 [00:00<00:00, 877.66it/s]\n"
     ]
    },
    {
     "name": "stdout",
     "output_type": "stream",
     "text": [
      "--------------DELETE TEST SPLIT------------\n",
      "--------------COPY TEST SPLIT------------\n"
     ]
    },
    {
     "name": "stderr",
     "output_type": "stream",
     "text": [
      "100%|██████████████████████████████████████████████████████████████████████████████████████████████████████████████████████████████████████████████████| 177/177 [00:00<00:00, 860.19it/s]\n"
     ]
    },
    {
     "name": "stdout",
     "output_type": "stream",
     "text": [
      "--------------DELETE VALID SPLIT------------\n",
      "--------------COPY VALID SPLIT------------\n"
     ]
    },
    {
     "name": "stderr",
     "output_type": "stream",
     "text": [
      "100%|██████████████████████████████████████████████████████████████████████████████████████████████████████████████████████████████████████████████████| 177/177 [00:00<00:00, 916.37it/s]\n"
     ]
    }
   ],
   "source": [
    "DATASET_SOURCE_PATH = Path(r'../data/dataset')\n",
    "SPLITS_DESTINATION_PATH = Path(r'../data')\n",
    "\n",
    "TEST_SIZE = 0.15\n",
    "VALID_SIZE = 0.15\n",
    "\n",
    "X_train, X_test, X_valid = train_test_valid_split(DATASET_SOURCE_PATH, test_size=TEST_SIZE, valid_size=VALID_SIZE)\n",
    "\n",
    "splits = [('train', X_train), ('test', X_test), ('valid', X_valid)]\n",
    "\n",
    "for split in splits:\n",
    "    destination_path = Path(SPLITS_DESTINATION_PATH) / split[0]\n",
    "    delete_folder(destination_path)\n",
    "    create_split(split[1], destination_path)"
   ]
  },
  {
   "cell_type": "markdown",
   "id": "521af848",
   "metadata": {},
   "source": [
    "## Dataset loading"
   ]
  },
  {
   "cell_type": "code",
   "execution_count": 4,
   "id": "54d256c5",
   "metadata": {},
   "outputs": [
    {
     "name": "stdout",
     "output_type": "stream",
     "text": [
      "Found 822 files belonging to 2 classes.\n",
      "Found 177 files belonging to 2 classes.\n"
     ]
    }
   ],
   "source": [
    "IMG_HEIGHT = 224\n",
    "IMG_WIDTH = 224\n",
    "BATCH_SIZE = 64\n",
    "SEED = None\n",
    "\n",
    "train_path = SPLITS_DESTINATION_PATH / 'train'\n",
    "train_ds = tf.keras.preprocessing.image_dataset_from_directory(train_path, image_size=(IMG_HEIGHT, IMG_WIDTH),\\\n",
    "                                                               batch_size=BATCH_SIZE, shuffle=True, \\\n",
    "                                                               label_mode='categorical', seed=SEED)\n",
    "\n",
    "valid_path = SPLITS_DESTINATION_PATH / 'valid'\n",
    "valid_ds = tf.keras.preprocessing.image_dataset_from_directory(valid_path, image_size=(IMG_HEIGHT, IMG_WIDTH),\\\n",
    "                                                               batch_size=BATCH_SIZE, shuffle=True, \\\n",
    "                                                               label_mode='categorical', seed=SEED)\n",
    "\n",
    "class_names = train_ds.class_names\n",
    "assert class_names == valid_ds.class_names\n",
    "AUTOTUNE = tf.data.AUTOTUNE\n",
    "\n",
    "if len(class_names) == 2:  # take the one-hot-encoded matrix of labels and convert to a vector if binary classification\n",
    "    train_ds = train_ds.map(filter_binary_labels, num_parallel_calls=AUTOTUNE)\n",
    "    valid_ds = valid_ds.map(filter_binary_labels, num_parallel_calls=AUTOTUNE)\n",
    "train_ds = optimize_dataset(train_ds)\n",
    "valid_ds = optimize_dataset(valid_ds)"
   ]
  },
  {
   "cell_type": "code",
   "execution_count": null,
   "id": "14c71874",
   "metadata": {},
   "outputs": [],
   "source": [
    "plt.figure(figsize=(10, 10))\n",
    "for images, labels in train_ds.take(1):\n",
    "    for i in range(9):\n",
    "        ax = plt.subplot(3, 3, i + 1)\n",
    "        plt.imshow(images[i].numpy().astype(\"uint8\"))\n",
    "        label_idx = labels.numpy()[i][0] if len(class_names) == 2 else np.argmax(labels.numpy()[i], axis=0)\n",
    "        plt.title(class_names[label_idx])\n",
    "        plt.axis(\"off\")"
   ]
  },
  {
   "cell_type": "markdown",
   "id": "a16680a2",
   "metadata": {},
   "source": [
    "## Model"
   ]
  },
  {
   "cell_type": "code",
   "execution_count": 6,
   "id": "a06370de",
   "metadata": {},
   "outputs": [
    {
     "name": "stdout",
     "output_type": "stream",
     "text": [
      "Model: \"model\"\n",
      "_________________________________________________________________\n",
      " Layer (type)                Output Shape              Param #   \n",
      "=================================================================\n",
      " input_2 (InputLayer)        [(None, 224, 224, 3)]     0         \n",
      "                                                                 \n",
      " sequential (Sequential)     (None, 224, 224, 3)       0         \n",
      "                                                                 \n",
      " tf.__operators__.getitem (S  (None, 224, 224, 3)      0         \n",
      " licingOpLambda)                                                 \n",
      "                                                                 \n",
      " tf.nn.bias_add (TFOpLambda)  (None, 224, 224, 3)      0         \n",
      "                                                                 \n",
      " vgg16 (Functional)          (None, 512)               14714688  \n",
      "                                                                 \n",
      " flatten (Flatten)           (None, 512)               0         \n",
      "                                                                 \n",
      " dense_1 (Dense)             (None, 512)               262656    \n",
      "                                                                 \n",
      " dropout (Dropout)           (None, 512)               0         \n",
      "                                                                 \n",
      " batch_normalization (BatchN  (None, 512)              2048      \n",
      " ormalization)                                                   \n",
      "                                                                 \n",
      " dense_2 (Dense)             (None, 512)               262656    \n",
      "                                                                 \n",
      " dropout_1 (Dropout)         (None, 512)               0         \n",
      "                                                                 \n",
      " batch_normalization_1 (Batc  (None, 512)              2048      \n",
      " hNormalization)                                                 \n",
      "                                                                 \n",
      " output (Dense)              (None, 1)                 513       \n",
      "                                                                 \n",
      "=================================================================\n",
      "Total params: 15,244,609\n",
      "Trainable params: 527,873\n",
      "Non-trainable params: 14,716,736\n",
      "_________________________________________________________________\n"
     ]
    }
   ],
   "source": [
    "N_HIDDEN = 512\n",
    "BASE_LR = 0.001\n",
    "\n",
    "model = make_model(n_classes=len(class_names), n_hidden=N_HIDDEN, img_height=IMG_HEIGHT, img_width=IMG_WIDTH)\n",
    "freeze_all_vgg(model)\n",
    "\n",
    "loss = tf.keras.losses.CategoricalCrossentropy() if len(class_names) > 2 else tf.keras.losses.BinaryCrossentropy()\n",
    "model.compile(optimizer=tf.keras.optimizers.Adam(learning_rate=BASE_LR),\n",
    "              loss=loss, metrics=['accuracy'])\n",
    "model.summary()"
   ]
  },
  {
   "cell_type": "markdown",
   "id": "1882bf11",
   "metadata": {},
   "source": [
    "#### Classifier initial training"
   ]
  },
  {
   "cell_type": "code",
   "execution_count": 7,
   "id": "d0db010e",
   "metadata": {},
   "outputs": [],
   "source": [
    "# TODO - delete last trained model"
   ]
  },
  {
   "cell_type": "code",
   "execution_count": 8,
   "id": "c8260507",
   "metadata": {
    "scrolled": true
   },
   "outputs": [
    {
     "name": "stdout",
     "output_type": "stream",
     "text": [
      "Epoch 1/30\n",
      "13/13 [==============================] - ETA: 0s - loss: 0.7486 - accuracy: 0.6630\n",
      "Epoch 00001: val_loss improved from inf to 0.98443, saving model to ..\\models\\vgg16\\checkpoints\\train_1.tf\n",
      "13/13 [==============================] - 52s 3s/step - loss: 0.7486 - accuracy: 0.6630 - val_loss: 0.9844 - val_accuracy: 0.7514 - lr: 0.0010\n",
      "Epoch 2/30\n",
      "13/13 [==============================] - ETA: 0s - loss: 0.5179 - accuracy: 0.7603\n",
      "Epoch 00002: val_loss improved from 0.98443 to 0.57598, saving model to ..\\models\\vgg16\\checkpoints\\train_2.tf\n",
      "13/13 [==============================] - 7s 553ms/step - loss: 0.5179 - accuracy: 0.7603 - val_loss: 0.5760 - val_accuracy: 0.7966 - lr: 0.0010\n",
      "Epoch 3/30\n",
      "13/13 [==============================] - ETA: 0s - loss: 0.4122 - accuracy: 0.8333\n",
      "Epoch 00003: val_loss improved from 0.57598 to 0.53732, saving model to ..\\models\\vgg16\\checkpoints\\train_3.tf\n",
      "13/13 [==============================] - 7s 552ms/step - loss: 0.4122 - accuracy: 0.8333 - val_loss: 0.5373 - val_accuracy: 0.8136 - lr: 0.0010\n",
      "Epoch 4/30\n",
      "13/13 [==============================] - ETA: 0s - loss: 0.3692 - accuracy: 0.8443\n",
      "Epoch 00004: val_loss did not improve from 0.53732\n",
      "13/13 [==============================] - 7s 531ms/step - loss: 0.3692 - accuracy: 0.8443 - val_loss: 0.5782 - val_accuracy: 0.8023 - lr: 0.0010\n",
      "Epoch 5/30\n",
      "13/13 [==============================] - ETA: 0s - loss: 0.3546 - accuracy: 0.8443\n",
      "Epoch 00005: val_loss improved from 0.53732 to 0.52760, saving model to ..\\models\\vgg16\\checkpoints\\train_5.tf\n",
      "13/13 [==============================] - 7s 552ms/step - loss: 0.3546 - accuracy: 0.8443 - val_loss: 0.5276 - val_accuracy: 0.8192 - lr: 0.0010\n",
      "Epoch 6/30\n",
      "13/13 [==============================] - ETA: 0s - loss: 0.3561 - accuracy: 0.8467\n",
      "Epoch 00006: val_loss did not improve from 0.52760\n",
      "13/13 [==============================] - 7s 532ms/step - loss: 0.3561 - accuracy: 0.8467 - val_loss: 0.5492 - val_accuracy: 0.8079 - lr: 0.0010\n",
      "Epoch 7/30\n",
      "13/13 [==============================] - ETA: 0s - loss: 0.3152 - accuracy: 0.8637\n",
      "Epoch 00007: val_loss did not improve from 0.52760\n",
      "13/13 [==============================] - 7s 531ms/step - loss: 0.3152 - accuracy: 0.8637 - val_loss: 0.5481 - val_accuracy: 0.7910 - lr: 0.0010\n",
      "Epoch 8/30\n",
      "13/13 [==============================] - ETA: 0s - loss: 0.2704 - accuracy: 0.8856\n",
      "Epoch 00008: val_loss did not improve from 0.52760\n",
      "13/13 [==============================] - 7s 532ms/step - loss: 0.2704 - accuracy: 0.8856 - val_loss: 0.6172 - val_accuracy: 0.7910 - lr: 0.0010\n",
      "Epoch 9/30\n",
      "13/13 [==============================] - ETA: 0s - loss: 0.2564 - accuracy: 0.8966\n",
      "Epoch 00009: val_loss did not improve from 0.52760\n",
      "\n",
      "Epoch 00009: ReduceLROnPlateau reducing learning rate to 0.00010000000474974513.\n",
      "13/13 [==============================] - 7s 534ms/step - loss: 0.2564 - accuracy: 0.8966 - val_loss: 0.5553 - val_accuracy: 0.7910 - lr: 0.0010\n",
      "Epoch 10/30\n",
      "13/13 [==============================] - ETA: 0s - loss: 0.2592 - accuracy: 0.8966\n",
      "Epoch 00010: val_loss did not improve from 0.52760\n",
      "13/13 [==============================] - 7s 533ms/step - loss: 0.2592 - accuracy: 0.8966 - val_loss: 0.5293 - val_accuracy: 0.8079 - lr: 1.0000e-04\n",
      "Epoch 11/30\n",
      "13/13 [==============================] - ETA: 0s - loss: 0.2286 - accuracy: 0.9027\n",
      "Epoch 00011: val_loss improved from 0.52760 to 0.51482, saving model to ..\\models\\vgg16\\checkpoints\\train_11.tf\n",
      "13/13 [==============================] - 7s 556ms/step - loss: 0.2286 - accuracy: 0.9027 - val_loss: 0.5148 - val_accuracy: 0.8136 - lr: 1.0000e-04\n",
      "Epoch 12/30\n",
      "13/13 [==============================] - ETA: 0s - loss: 0.2677 - accuracy: 0.8893\n",
      "Epoch 00012: val_loss improved from 0.51482 to 0.51335, saving model to ..\\models\\vgg16\\checkpoints\\train_12.tf\n",
      "13/13 [==============================] - 7s 558ms/step - loss: 0.2677 - accuracy: 0.8893 - val_loss: 0.5133 - val_accuracy: 0.8192 - lr: 1.0000e-04\n",
      "Epoch 13/30\n",
      "13/13 [==============================] - ETA: 0s - loss: 0.2161 - accuracy: 0.9136\n",
      "Epoch 00013: val_loss did not improve from 0.51335\n",
      "13/13 [==============================] - 7s 535ms/step - loss: 0.2161 - accuracy: 0.9136 - val_loss: 0.5204 - val_accuracy: 0.8192 - lr: 1.0000e-04\n",
      "Epoch 14/30\n",
      "13/13 [==============================] - ETA: 0s - loss: 0.2055 - accuracy: 0.9051\n",
      "Epoch 00014: val_loss did not improve from 0.51335\n",
      "13/13 [==============================] - 7s 538ms/step - loss: 0.2055 - accuracy: 0.9051 - val_loss: 0.5289 - val_accuracy: 0.8249 - lr: 1.0000e-04\n",
      "Epoch 15/30\n",
      "13/13 [==============================] - ETA: 0s - loss: 0.2231 - accuracy: 0.9124\n",
      "Epoch 00015: val_loss did not improve from 0.51335\n",
      "13/13 [==============================] - 7s 534ms/step - loss: 0.2231 - accuracy: 0.9124 - val_loss: 0.5341 - val_accuracy: 0.8136 - lr: 1.0000e-04\n",
      "Epoch 16/30\n",
      "13/13 [==============================] - ETA: 0s - loss: 0.2016 - accuracy: 0.9124\n",
      "Epoch 00016: val_loss did not improve from 0.51335\n",
      "\n",
      "Epoch 00016: ReduceLROnPlateau reducing learning rate to 1.0000000474974514e-05.\n",
      "13/13 [==============================] - 7s 535ms/step - loss: 0.2016 - accuracy: 0.9124 - val_loss: 0.5374 - val_accuracy: 0.8136 - lr: 1.0000e-04\n",
      "Epoch 17/30\n",
      "13/13 [==============================] - ETA: 0s - loss: 0.2091 - accuracy: 0.9002\n",
      "Epoch 00017: val_loss did not improve from 0.51335\n",
      "13/13 [==============================] - 7s 536ms/step - loss: 0.2091 - accuracy: 0.9002 - val_loss: 0.5376 - val_accuracy: 0.8136 - lr: 1.0000e-05\n",
      "Epoch 18/30\n",
      "13/13 [==============================] - ETA: 0s - loss: 0.1756 - accuracy: 0.9355\n",
      "Epoch 00018: val_loss did not improve from 0.51335\n",
      "13/13 [==============================] - 7s 538ms/step - loss: 0.1756 - accuracy: 0.9355 - val_loss: 0.5379 - val_accuracy: 0.8079 - lr: 1.0000e-05\n",
      "Epoch 19/30\n",
      "13/13 [==============================] - ETA: 0s - loss: 0.1919 - accuracy: 0.9136\n",
      "Epoch 00019: val_loss did not improve from 0.51335\n",
      "13/13 [==============================] - 7s 538ms/step - loss: 0.1919 - accuracy: 0.9136 - val_loss: 0.5396 - val_accuracy: 0.8023 - lr: 1.0000e-05\n",
      "Epoch 20/30\n",
      "13/13 [==============================] - ETA: 0s - loss: 0.2059 - accuracy: 0.9221\n",
      "Epoch 00020: val_loss did not improve from 0.51335\n",
      "\n",
      "Epoch 00020: ReduceLROnPlateau reducing learning rate to 1.0000000656873453e-06.\n",
      "13/13 [==============================] - 7s 534ms/step - loss: 0.2059 - accuracy: 0.9221 - val_loss: 0.5398 - val_accuracy: 0.8023 - lr: 1.0000e-05\n",
      "Epoch 21/30\n",
      "13/13 [==============================] - ETA: 0s - loss: 0.2026 - accuracy: 0.9088\n",
      "Epoch 00021: val_loss did not improve from 0.51335\n",
      "13/13 [==============================] - 7s 533ms/step - loss: 0.2026 - accuracy: 0.9088 - val_loss: 0.5410 - val_accuracy: 0.8079 - lr: 1.0000e-06\n",
      "Epoch 22/30\n",
      "13/13 [==============================] - ETA: 0s - loss: 0.2068 - accuracy: 0.9173\n",
      "Epoch 00022: val_loss did not improve from 0.51335\n",
      "13/13 [==============================] - 7s 535ms/step - loss: 0.2068 - accuracy: 0.9173 - val_loss: 0.5432 - val_accuracy: 0.8079 - lr: 1.0000e-06\n",
      "Epoch 23/30\n",
      "13/13 [==============================] - ETA: 0s - loss: 0.2085 - accuracy: 0.9112\n",
      "Epoch 00023: val_loss did not improve from 0.51335\n",
      "13/13 [==============================] - 7s 535ms/step - loss: 0.2085 - accuracy: 0.9112 - val_loss: 0.5448 - val_accuracy: 0.8079 - lr: 1.0000e-06\n",
      "Epoch 24/30\n",
      "13/13 [==============================] - ETA: 0s - loss: 0.2068 - accuracy: 0.9270\n",
      "Epoch 00024: val_loss did not improve from 0.51335\n",
      "\n",
      "Epoch 00024: ReduceLROnPlateau reducing learning rate to 1.0000001111620805e-07.\n",
      "13/13 [==============================] - 7s 534ms/step - loss: 0.2068 - accuracy: 0.9270 - val_loss: 0.5465 - val_accuracy: 0.8136 - lr: 1.0000e-06\n",
      "Epoch 25/30\n",
      "13/13 [==============================] - ETA: 0s - loss: 0.2039 - accuracy: 0.9136\n",
      "Epoch 00025: val_loss did not improve from 0.51335\n",
      "13/13 [==============================] - 7s 533ms/step - loss: 0.2039 - accuracy: 0.9136 - val_loss: 0.5487 - val_accuracy: 0.8079 - lr: 1.0000e-07\n",
      "Epoch 26/30\n",
      "13/13 [==============================] - ETA: 0s - loss: 0.1940 - accuracy: 0.9234\n",
      "Epoch 00026: val_loss did not improve from 0.51335\n",
      "13/13 [==============================] - 7s 535ms/step - loss: 0.1940 - accuracy: 0.9234 - val_loss: 0.5495 - val_accuracy: 0.8136 - lr: 1.0000e-07\n"
     ]
    },
    {
     "name": "stdout",
     "output_type": "stream",
     "text": [
      "Epoch 27/30\n",
      "13/13 [==============================] - ETA: 0s - loss: 0.2412 - accuracy: 0.8978\n",
      "Epoch 00027: val_loss did not improve from 0.51335\n",
      "13/13 [==============================] - 7s 534ms/step - loss: 0.2412 - accuracy: 0.8978 - val_loss: 0.5506 - val_accuracy: 0.8079 - lr: 1.0000e-07\n",
      "Epoch 00027: early stopping\n"
     ]
    }
   ],
   "source": [
    "LOG_PATH = Path(r'../models/vgg16/logs')\n",
    "CHECKPOINTS_PATH = Path(r'../models/vgg16/checkpoints')\n",
    "BASE_EPOCHS = 30\n",
    "\n",
    "tb = TensorBoard(log_dir=LOG_PATH)\n",
    "checkpoint = ModelCheckpoint(CHECKPOINTS_PATH / 'train_{epoch}.tf', verbose=1, save_weights_only=True,\n",
    "                             save_best_only=True, monitor='val_loss')\n",
    "reduce_lr = ReduceLROnPlateau(monitor='val_loss', factor=0.1, patience=4, verbose=1)\n",
    "early_stopping = EarlyStopping(monitor='val_loss', min_delta=0, patience=15, verbose=1)\n",
    "\n",
    "history = model.fit(train_ds, epochs=BASE_EPOCHS, validation_data=valid_ds, callbacks=[tb, checkpoint, reduce_lr,\n",
    "                                                                                       early_stopping])"
   ]
  },
  {
   "cell_type": "markdown",
   "id": "dea8cb4b",
   "metadata": {},
   "source": [
    "#### Fine tuning"
   ]
  },
  {
   "cell_type": "code",
   "execution_count": 9,
   "id": "fd646007",
   "metadata": {},
   "outputs": [
    {
     "name": "stdout",
     "output_type": "stream",
     "text": [
      "Epoch 27/60\n",
      "13/13 [==============================] - ETA: 0s - loss: 0.7004 - accuracy: 0.6861\n",
      "Epoch 00027: val_loss did not improve from 0.51335\n",
      "13/13 [==============================] - 10s 651ms/step - loss: 0.7004 - accuracy: 0.6861 - val_loss: 10.2026 - val_accuracy: 0.4124 - lr: 0.0010\n",
      "Epoch 28/60\n",
      "13/13 [==============================] - ETA: 0s - loss: 0.6755 - accuracy: 0.6679\n",
      "Epoch 00028: val_loss did not improve from 0.51335\n",
      "13/13 [==============================] - 8s 594ms/step - loss: 0.6755 - accuracy: 0.6679 - val_loss: 8.2976 - val_accuracy: 0.3842 - lr: 0.0010\n",
      "Epoch 29/60\n",
      "13/13 [==============================] - ETA: 0s - loss: 0.5936 - accuracy: 0.7311\n",
      "Epoch 00029: val_loss did not improve from 0.51335\n",
      "13/13 [==============================] - 8s 594ms/step - loss: 0.5936 - accuracy: 0.7311 - val_loss: 4.2594 - val_accuracy: 0.3898 - lr: 0.0010\n",
      "Epoch 30/60\n",
      "13/13 [==============================] - ETA: 0s - loss: 0.5396 - accuracy: 0.7360\n",
      "Epoch 00030: val_loss improved from 0.51335 to 0.43598, saving model to ..\\models\\vgg16\\checkpoints\\train_30.tf\n",
      "13/13 [==============================] - 8s 630ms/step - loss: 0.5396 - accuracy: 0.7360 - val_loss: 0.4360 - val_accuracy: 0.8023 - lr: 0.0010\n",
      "Epoch 31/60\n",
      "13/13 [==============================] - ETA: 0s - loss: 0.5374 - accuracy: 0.7409\n",
      "Epoch 00031: val_loss did not improve from 0.43598\n",
      "13/13 [==============================] - 8s 596ms/step - loss: 0.5374 - accuracy: 0.7409 - val_loss: 0.9966 - val_accuracy: 0.6554 - lr: 0.0010\n",
      "Epoch 32/60\n",
      "13/13 [==============================] - ETA: 0s - loss: 0.4846 - accuracy: 0.7689\n",
      "Epoch 00032: val_loss did not improve from 0.43598\n",
      "13/13 [==============================] - 8s 595ms/step - loss: 0.4846 - accuracy: 0.7689 - val_loss: 0.8684 - val_accuracy: 0.7401 - lr: 0.0010\n",
      "Epoch 33/60\n",
      "13/13 [==============================] - ETA: 0s - loss: 0.4738 - accuracy: 0.7725\n",
      "Epoch 00033: val_loss did not improve from 0.43598\n",
      "13/13 [==============================] - 8s 596ms/step - loss: 0.4738 - accuracy: 0.7725 - val_loss: 1.0109 - val_accuracy: 0.6836 - lr: 0.0010\n",
      "Epoch 34/60\n",
      "13/13 [==============================] - ETA: 0s - loss: 0.3994 - accuracy: 0.8175\n",
      "Epoch 00034: val_loss did not improve from 0.43598\n",
      "\n",
      "Epoch 00034: ReduceLROnPlateau reducing learning rate to 0.00010000000474974513.\n",
      "13/13 [==============================] - 8s 597ms/step - loss: 0.3994 - accuracy: 0.8175 - val_loss: 9.8322 - val_accuracy: 0.5763 - lr: 0.0010\n",
      "Epoch 35/60\n",
      "13/13 [==============================] - ETA: 0s - loss: 0.3854 - accuracy: 0.8333\n",
      "Epoch 00035: val_loss improved from 0.43598 to 0.40506, saving model to ..\\models\\vgg16\\checkpoints\\train_35.tf\n",
      "13/13 [==============================] - 8s 633ms/step - loss: 0.3854 - accuracy: 0.8333 - val_loss: 0.4051 - val_accuracy: 0.8079 - lr: 1.0000e-04\n",
      "Epoch 36/60\n",
      "13/13 [==============================] - ETA: 0s - loss: 0.3760 - accuracy: 0.8260\n",
      "Epoch 00036: val_loss did not improve from 0.40506\n",
      "13/13 [==============================] - 8s 595ms/step - loss: 0.3760 - accuracy: 0.8260 - val_loss: 0.4232 - val_accuracy: 0.7966 - lr: 1.0000e-04\n",
      "Epoch 37/60\n",
      "13/13 [==============================] - ETA: 0s - loss: 0.3766 - accuracy: 0.8309\n",
      "Epoch 00037: val_loss did not improve from 0.40506\n",
      "13/13 [==============================] - 8s 595ms/step - loss: 0.3766 - accuracy: 0.8309 - val_loss: 0.4252 - val_accuracy: 0.7797 - lr: 1.0000e-04\n",
      "Epoch 38/60\n",
      "13/13 [==============================] - ETA: 0s - loss: 0.3613 - accuracy: 0.8455\n",
      "Epoch 00038: val_loss did not improve from 0.40506\n",
      "13/13 [==============================] - 8s 595ms/step - loss: 0.3613 - accuracy: 0.8455 - val_loss: 0.4255 - val_accuracy: 0.7966 - lr: 1.0000e-04\n",
      "Epoch 39/60\n",
      "13/13 [==============================] - ETA: 0s - loss: 0.3293 - accuracy: 0.8625\n",
      "Epoch 00039: val_loss did not improve from 0.40506\n",
      "\n",
      "Epoch 00039: ReduceLROnPlateau reducing learning rate to 1.0000000474974514e-05.\n",
      "13/13 [==============================] - 8s 595ms/step - loss: 0.3293 - accuracy: 0.8625 - val_loss: 0.4102 - val_accuracy: 0.8079 - lr: 1.0000e-04\n",
      "Epoch 40/60\n",
      "13/13 [==============================] - ETA: 0s - loss: 0.3548 - accuracy: 0.8321\n",
      "Epoch 00040: val_loss improved from 0.40506 to 0.40398, saving model to ..\\models\\vgg16\\checkpoints\\train_40.tf\n",
      "13/13 [==============================] - 8s 631ms/step - loss: 0.3548 - accuracy: 0.8321 - val_loss: 0.4040 - val_accuracy: 0.8136 - lr: 1.0000e-05\n",
      "Epoch 41/60\n",
      "13/13 [==============================] - ETA: 0s - loss: 0.3299 - accuracy: 0.8394\n",
      "Epoch 00041: val_loss improved from 0.40398 to 0.40245, saving model to ..\\models\\vgg16\\checkpoints\\train_41.tf\n",
      "13/13 [==============================] - 8s 628ms/step - loss: 0.3299 - accuracy: 0.8394 - val_loss: 0.4025 - val_accuracy: 0.8249 - lr: 1.0000e-05\n",
      "Epoch 42/60\n",
      "13/13 [==============================] - ETA: 0s - loss: 0.3428 - accuracy: 0.8406\n",
      "Epoch 00042: val_loss did not improve from 0.40245\n",
      "13/13 [==============================] - 8s 595ms/step - loss: 0.3428 - accuracy: 0.8406 - val_loss: 0.4025 - val_accuracy: 0.8305 - lr: 1.0000e-05\n",
      "Epoch 43/60\n",
      "13/13 [==============================] - ETA: 0s - loss: 0.3292 - accuracy: 0.8589\n",
      "Epoch 00043: val_loss did not improve from 0.40245\n",
      "13/13 [==============================] - 8s 595ms/step - loss: 0.3292 - accuracy: 0.8589 - val_loss: 0.4045 - val_accuracy: 0.8249 - lr: 1.0000e-05\n",
      "Epoch 44/60\n",
      "13/13 [==============================] - ETA: 0s - loss: 0.3639 - accuracy: 0.8358\n",
      "Epoch 00044: val_loss did not improve from 0.40245\n",
      "13/13 [==============================] - 8s 595ms/step - loss: 0.3639 - accuracy: 0.8358 - val_loss: 0.4065 - val_accuracy: 0.8249 - lr: 1.0000e-05\n",
      "Epoch 45/60\n",
      "13/13 [==============================] - ETA: 0s - loss: 0.3213 - accuracy: 0.8491\n",
      "Epoch 00045: val_loss did not improve from 0.40245\n",
      "\n",
      "Epoch 00045: ReduceLROnPlateau reducing learning rate to 1.0000000656873453e-06.\n",
      "13/13 [==============================] - 8s 594ms/step - loss: 0.3213 - accuracy: 0.8491 - val_loss: 0.4067 - val_accuracy: 0.8249 - lr: 1.0000e-05\n",
      "Epoch 46/60\n",
      "13/13 [==============================] - ETA: 0s - loss: 0.3311 - accuracy: 0.8516\n",
      "Epoch 00046: val_loss did not improve from 0.40245\n",
      "13/13 [==============================] - 8s 594ms/step - loss: 0.3311 - accuracy: 0.8516 - val_loss: 0.4072 - val_accuracy: 0.8249 - lr: 1.0000e-06\n",
      "Epoch 47/60\n",
      "13/13 [==============================] - ETA: 0s - loss: 0.3303 - accuracy: 0.8625\n",
      "Epoch 00047: val_loss did not improve from 0.40245\n",
      "13/13 [==============================] - 8s 593ms/step - loss: 0.3303 - accuracy: 0.8625 - val_loss: 0.4076 - val_accuracy: 0.8249 - lr: 1.0000e-06\n",
      "Epoch 48/60\n",
      "13/13 [==============================] - ETA: 0s - loss: 0.3317 - accuracy: 0.8491\n",
      "Epoch 00048: val_loss did not improve from 0.40245\n",
      "13/13 [==============================] - 8s 594ms/step - loss: 0.3317 - accuracy: 0.8491 - val_loss: 0.4080 - val_accuracy: 0.8249 - lr: 1.0000e-06\n",
      "Epoch 49/60\n",
      "13/13 [==============================] - ETA: 0s - loss: 0.3116 - accuracy: 0.8528\n",
      "Epoch 00049: val_loss did not improve from 0.40245\n",
      "\n",
      "Epoch 00049: ReduceLROnPlateau reducing learning rate to 1.0000001111620805e-07.\n",
      "13/13 [==============================] - 8s 594ms/step - loss: 0.3116 - accuracy: 0.8528 - val_loss: 0.4085 - val_accuracy: 0.8249 - lr: 1.0000e-06\n",
      "Epoch 50/60\n",
      "13/13 [==============================] - ETA: 0s - loss: 0.3215 - accuracy: 0.8589\n",
      "Epoch 00050: val_loss did not improve from 0.40245\n",
      "13/13 [==============================] - 8s 594ms/step - loss: 0.3215 - accuracy: 0.8589 - val_loss: 0.4088 - val_accuracy: 0.8249 - lr: 1.0000e-07\n",
      "Epoch 51/60\n",
      "13/13 [==============================] - ETA: 0s - loss: 0.3176 - accuracy: 0.8564\n",
      "Epoch 00051: val_loss did not improve from 0.40245\n",
      "13/13 [==============================] - 8s 594ms/step - loss: 0.3176 - accuracy: 0.8564 - val_loss: 0.4090 - val_accuracy: 0.8305 - lr: 1.0000e-07\n",
      "Epoch 52/60\n",
      "13/13 [==============================] - ETA: 0s - loss: 0.3416 - accuracy: 0.8467\n",
      "Epoch 00052: val_loss did not improve from 0.40245\n",
      "13/13 [==============================] - 8s 595ms/step - loss: 0.3416 - accuracy: 0.8467 - val_loss: 0.4092 - val_accuracy: 0.8305 - lr: 1.0000e-07\n",
      "Epoch 53/60\n"
     ]
    },
    {
     "name": "stdout",
     "output_type": "stream",
     "text": [
      "13/13 [==============================] - ETA: 0s - loss: 0.3306 - accuracy: 0.8467\n",
      "Epoch 00053: val_loss did not improve from 0.40245\n",
      "\n",
      "Epoch 00053: ReduceLROnPlateau reducing learning rate to 1.000000082740371e-08.\n",
      "13/13 [==============================] - 8s 594ms/step - loss: 0.3306 - accuracy: 0.8467 - val_loss: 0.4094 - val_accuracy: 0.8305 - lr: 1.0000e-07\n",
      "Epoch 54/60\n",
      "13/13 [==============================] - ETA: 0s - loss: 0.3314 - accuracy: 0.8516\n",
      "Epoch 00054: val_loss did not improve from 0.40245\n",
      "13/13 [==============================] - 8s 593ms/step - loss: 0.3314 - accuracy: 0.8516 - val_loss: 0.4097 - val_accuracy: 0.8305 - lr: 1.0000e-08\n",
      "Epoch 55/60\n",
      "13/13 [==============================] - ETA: 0s - loss: 0.3547 - accuracy: 0.8394\n",
      "Epoch 00055: val_loss did not improve from 0.40245\n",
      "13/13 [==============================] - 8s 593ms/step - loss: 0.3547 - accuracy: 0.8394 - val_loss: 0.4098 - val_accuracy: 0.8305 - lr: 1.0000e-08\n",
      "Epoch 56/60\n",
      "13/13 [==============================] - ETA: 0s - loss: 0.3297 - accuracy: 0.8443\n",
      "Epoch 00056: val_loss did not improve from 0.40245\n",
      "13/13 [==============================] - 8s 594ms/step - loss: 0.3297 - accuracy: 0.8443 - val_loss: 0.4103 - val_accuracy: 0.8362 - lr: 1.0000e-08\n",
      "Epoch 00056: early stopping\n"
     ]
    }
   ],
   "source": [
    "FINE_TUNE_AT_LAYER = 15\n",
    "FINE_TUNING_EPOCHS = 30\n",
    "FINE_TUNING_LR = 0.001\n",
    "FINAL_MODEL_NAME = 'trained_weights'\n",
    "FINAL_MODEL_SAVE_PATH = CHECKPOINTS_PATH / FINAL_MODEL_NAME\n",
    "\n",
    "unfreeze_last_vgg(model, which_freeze=FINE_TUNE_AT_LAYER)\n",
    "\n",
    "total_epochs = BASE_EPOCHS + FINE_TUNING_EPOCHS\n",
    "model.compile(optimizer=tf.keras.optimizers.Adam(learning_rate=FINE_TUNING_LR),\n",
    "              loss=loss, metrics=['accuracy'])\n",
    "history = model.fit(train_ds, epochs=total_epochs, validation_data=valid_ds, callbacks=[tb, checkpoint, reduce_lr, early_stopping], \\\n",
    "                    initial_epoch=history.epoch[-1])\n",
    "\n",
    "model.save_weights(FINAL_MODEL_SAVE_PATH)"
   ]
  },
  {
   "cell_type": "markdown",
   "id": "0c5cb089",
   "metadata": {},
   "source": [
    "#### Model evaluation"
   ]
  },
  {
   "cell_type": "code",
   "execution_count": 10,
   "id": "2f6bd2f2",
   "metadata": {},
   "outputs": [],
   "source": [
    "# TODO - load model if not trained"
   ]
  },
  {
   "cell_type": "code",
   "execution_count": 58,
   "id": "8cf044b5",
   "metadata": {},
   "outputs": [
    {
     "name": "stdout",
     "output_type": "stream",
     "text": [
      "Found 177 files belonging to 2 classes.\n",
      "3/3 [==============================] - 2s 387ms/step - loss: 0.4649 - accuracy: 0.8079\n",
      "Loss: 0.4649169445037842 --------- Accuracy: 80.79%\n",
      "              precision    recall  f1-score   support\n",
      "\n",
      "           0       0.85      0.80      0.82       100\n",
      "           1       0.76      0.82      0.79        77\n",
      "\n",
      "    accuracy                           0.81       177\n",
      "   macro avg       0.81      0.81      0.81       177\n",
      "weighted avg       0.81      0.81      0.81       177\n",
      "\n"
     ]
    },
    {
     "data": {
      "text/html": [
       "<div>\n",
       "<style scoped>\n",
       "    .dataframe tbody tr th:only-of-type {\n",
       "        vertical-align: middle;\n",
       "    }\n",
       "\n",
       "    .dataframe tbody tr th {\n",
       "        vertical-align: top;\n",
       "    }\n",
       "\n",
       "    .dataframe thead th {\n",
       "        text-align: right;\n",
       "    }\n",
       "</style>\n",
       "<table border=\"1\" class=\"dataframe\">\n",
       "  <thead>\n",
       "    <tr style=\"text-align: right;\">\n",
       "      <th></th>\n",
       "      <th>PRED_0</th>\n",
       "      <th>PRED_1</th>\n",
       "    </tr>\n",
       "  </thead>\n",
       "  <tbody>\n",
       "    <tr>\n",
       "      <th>REAL_0</th>\n",
       "      <td>80</td>\n",
       "      <td>20</td>\n",
       "    </tr>\n",
       "    <tr>\n",
       "      <th>REAL_1</th>\n",
       "      <td>14</td>\n",
       "      <td>63</td>\n",
       "    </tr>\n",
       "  </tbody>\n",
       "</table>\n",
       "</div>"
      ],
      "text/plain": [
       "        PRED_0  PRED_1\n",
       "REAL_0      80      20\n",
       "REAL_1      14      63"
      ]
     },
     "execution_count": 58,
     "metadata": {},
     "output_type": "execute_result"
    }
   ],
   "source": [
    "test_path = Path(r'../data/test')\n",
    "test_ds = tf.keras.preprocessing.image_dataset_from_directory(test_path, image_size=(IMG_HEIGHT, IMG_WIDTH), \\\n",
    "                                                              batch_size=BATCH_SIZE, shuffle=False, \\\n",
    "                                                              label_mode='categorical')\n",
    "assert class_names == test_ds.class_names\n",
    "\n",
    "if len(class_names) == 2:  # take the one-hot-encoded matrix of labels and convert to a vector if binary classification\n",
    "    test_ds = test_ds.map(filter_binary_labels, num_parallel_calls=AUTOTUNE)\n",
    "test_ds = optimize_dataset(test_ds)\n",
    "\n",
    "metrics = model.evaluate(test_ds)\n",
    "print('Loss: {} --------- Accuracy: {}%'.format(metrics[0], np.round(metrics[1]*100, 2)))\n",
    "\n",
    "y_pred = model.predict(test_ds)\n",
    "y_true = tf.concat([y for x, y in test_ds], axis=0)\n",
    "if len(class_names) == 2: # uses a threshold for the predictions if binary classification problem\n",
    "    y_pred[y_pred >= 0.5] = 1\n",
    "    y_pred[y_pred < 0.5] = 0\n",
    "    y_true = y_true.numpy()\n",
    "else: # uses argmax if not binary classification\n",
    "    y_pred = np.argmax(y_pred, axis=1)\n",
    "    y_true = np.argmax(y_true.numpy(), axis=1)\n",
    "\n",
    "print(classification_report(y_true, y_pred, target_names=class_names, digits=2))\n",
    "\n",
    "pred_labels = [('PRED_' + class_name) for class_name in class_names]\n",
    "real_labels = [('REAL_' + class_name) for class_name in class_names]\n",
    "pd.DataFrame(confusion_matrix(y_true, y_pred), columns=pred_labels, index=real_labels)"
   ]
  }
 ],
 "metadata": {
  "kernelspec": {
   "display_name": "Python 3 (ipykernel)",
   "language": "python",
   "name": "python3"
  },
  "language_info": {
   "codemirror_mode": {
    "name": "ipython",
    "version": 3
   },
   "file_extension": ".py",
   "mimetype": "text/x-python",
   "name": "python",
   "nbconvert_exporter": "python",
   "pygments_lexer": "ipython3",
   "version": "3.9.9"
  }
 },
 "nbformat": 4,
 "nbformat_minor": 5
}
