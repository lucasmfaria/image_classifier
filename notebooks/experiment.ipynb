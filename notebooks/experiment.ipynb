{
 "cells": [
  {
   "cell_type": "code",
   "execution_count": 1,
   "id": "f80e9476",
   "metadata": {},
   "outputs": [],
   "source": [
    "%load_ext autoreload\n",
    "%autoreload 2"
   ]
  },
  {
   "cell_type": "markdown",
   "id": "d142780b",
   "metadata": {},
   "source": [
    "## Imports"
   ]
  },
  {
   "cell_type": "code",
   "execution_count": 2,
   "id": "196b92bb",
   "metadata": {},
   "outputs": [],
   "source": [
    "from pathlib import Path\n",
    "import shutil\n",
    "from tqdm import tqdm\n",
    "import tensorflow as tf\n",
    "from tensorflow.keras.callbacks import (\n",
    "    ReduceLROnPlateau,\n",
    "    EarlyStopping,\n",
    "    ModelCheckpoint,\n",
    "    TensorBoard\n",
    ")\n",
    "import sys\n",
    "import os\n",
    "import numpy as np\n",
    "import pandas as pd\n",
    "import matplotlib.pyplot as plt\n",
    "from sklearn.metrics import classification_report, confusion_matrix\n",
    "module_path = os.path.abspath(os.path.join('..'))\n",
    "if module_path not in sys.path:\n",
    "    sys.path.append(module_path)\n",
    "from utils.model import make_model, freeze_all_vgg, unfreeze_last_vgg\n",
    "from utils.data import train_test_valid_split, filter_binary_labels, optimize_dataset"
   ]
  },
  {
   "cell_type": "code",
   "execution_count": 3,
   "id": "e96e20a2",
   "metadata": {},
   "outputs": [],
   "source": [
    "DATASET_SOURCE_PATH = Path(r'../data/dataset')\n",
    "SPLITS_DESTINATION = Path(r'../data')\n",
    "\n",
    "IMG_HEIGHT = 224\n",
    "IMG_WIDTH = 224\n",
    "BATCH_SIZE = 64\n",
    "SEED = None\n",
    "\n",
    "#Model parameters:\n",
    "N_HIDDEN = 512\n",
    "\n",
    "#Train parameters:\n",
    "BASE_LEARNING_RATE = 0.001\n",
    "FINE_TUNING_LEARNING_RATE = 0.001\n",
    "INITIAL_EPOCHS = 30\n",
    "FINE_TUNING_EPOCHS = 30\n",
    "FINE_TUNE_AT_LAYER = 15\n",
    "LOG_DIR = Path(r'../models/vgg16/logs')\n",
    "SAVE_DIR = Path(r'../models/vgg16/checkpoints/trained_weights')"
   ]
  },
  {
   "cell_type": "markdown",
   "id": "3f7e9957",
   "metadata": {},
   "source": [
    "## Image files management -> train, test, valid splits"
   ]
  },
  {
   "cell_type": "code",
   "execution_count": 4,
   "id": "9a9c51f3",
   "metadata": {},
   "outputs": [],
   "source": [
    "X_train, X_test, X_valid = train_test_valid_split(DATASET_SOURCE_PATH, test_size=0.15, valid_size=0.15)"
   ]
  },
  {
   "cell_type": "code",
   "execution_count": 5,
   "id": "e4b1b85d",
   "metadata": {},
   "outputs": [
    {
     "name": "stdout",
     "output_type": "stream",
     "text": [
      "--------------DELETE TRAIN SPLIT------------\n",
      "--------------COPY TRAIN SPLIT------------\n"
     ]
    },
    {
     "name": "stderr",
     "output_type": "stream",
     "text": [
      "100%|██████████████████████████████████████████████████████████████████████████████████████████████████████████████████████████████████████████████████| 823/823 [00:01<00:00, 679.04it/s]\n"
     ]
    },
    {
     "name": "stdout",
     "output_type": "stream",
     "text": [
      "--------------DELETE TEST SPLIT------------\n",
      "--------------COPY TEST SPLIT------------\n"
     ]
    },
    {
     "name": "stderr",
     "output_type": "stream",
     "text": [
      "100%|██████████████████████████████████████████████████████████████████████████████████████████████████████████████████████████████████████████████████| 177/177 [00:00<00:00, 675.18it/s]\n"
     ]
    },
    {
     "name": "stdout",
     "output_type": "stream",
     "text": [
      "--------------DELETE VALID SPLIT------------\n",
      "--------------COPY VALID SPLIT------------\n"
     ]
    },
    {
     "name": "stderr",
     "output_type": "stream",
     "text": [
      "100%|██████████████████████████████████████████████████████████████████████████████████████████████████████████████████████████████████████████████████| 177/177 [00:00<00:00, 562.07it/s]\n"
     ]
    }
   ],
   "source": [
    "split = 'train'\n",
    "destination_path = Path(SPLITS_DESTINATION) / split\n",
    "if Path(destination_path).exists():\n",
    "    print('--------------DELETE ' + split.upper() + ' SPLIT------------')\n",
    "    for directory in destination_path.iterdir():\n",
    "        if directory.is_dir():\n",
    "            shutil.rmtree(directory)\n",
    "print('--------------COPY ' + split.upper() + ' SPLIT------------')\n",
    "for idx, _ in tqdm(X_train.iterrows(), total=X_train.shape[0]):\n",
    "    destination = (destination_path / idx.parent.name) / idx.name\n",
    "    os.makedirs(os.path.dirname(destination), exist_ok=True)\n",
    "    shutil.copy(idx, destination)\n",
    "\n",
    "split = 'test'\n",
    "destination_path = Path(SPLITS_DESTINATION) / split\n",
    "if Path(destination_path).exists():\n",
    "    print('--------------DELETE ' + split.upper() + ' SPLIT------------')\n",
    "    for directory in destination_path.iterdir():\n",
    "        if directory.is_dir():\n",
    "            shutil.rmtree(directory)\n",
    "print('--------------COPY ' + split.upper() + ' SPLIT------------')\n",
    "for idx, _ in tqdm(X_test.iterrows(), total=X_test.shape[0]):\n",
    "    destination = (destination_path / idx.parent.name) / idx.name\n",
    "    os.makedirs(os.path.dirname(destination), exist_ok=True)\n",
    "    shutil.copy(idx, destination)\n",
    "\n",
    "split = 'valid'\n",
    "destination_path = Path(SPLITS_DESTINATION) / split\n",
    "if Path(destination_path).exists():\n",
    "    print('--------------DELETE ' + split.upper() + ' SPLIT------------')\n",
    "    for directory in destination_path.iterdir():\n",
    "        if directory.is_dir():\n",
    "            shutil.rmtree(directory)\n",
    "print('--------------COPY ' + split.upper() + ' SPLIT------------')\n",
    "for idx, _ in tqdm(X_valid.iterrows(), total=X_valid.shape[0]):\n",
    "    destination = (destination_path / idx.parent.name) / idx.name\n",
    "    os.makedirs(os.path.dirname(destination), exist_ok=True)\n",
    "    shutil.copy(idx, destination)"
   ]
  },
  {
   "cell_type": "markdown",
   "id": "521af848",
   "metadata": {},
   "source": [
    "## Dataset loading"
   ]
  },
  {
   "cell_type": "code",
   "execution_count": 6,
   "id": "54d256c5",
   "metadata": {},
   "outputs": [
    {
     "name": "stdout",
     "output_type": "stream",
     "text": [
      "Found 822 files belonging to 2 classes.\n",
      "Found 177 files belonging to 2 classes.\n"
     ]
    }
   ],
   "source": [
    "train_path = Path(r'../data/train')\n",
    "train_ds = tf.keras.preprocessing.image_dataset_from_directory(train_path, image_size=(IMG_HEIGHT, IMG_WIDTH),\\\n",
    "                                                               batch_size=BATCH_SIZE, shuffle=True, \\\n",
    "                                                               label_mode='categorical', seed=SEED)\n",
    "\n",
    "valid_path = Path(r'../data/valid')\n",
    "valid_ds = tf.keras.preprocessing.image_dataset_from_directory(valid_path, image_size=(IMG_HEIGHT, IMG_WIDTH),\\\n",
    "                                                               batch_size=BATCH_SIZE, shuffle=True, \\\n",
    "                                                               label_mode='categorical', seed=SEED)\n",
    "\n",
    "class_names = train_ds.class_names\n",
    "assert class_names == valid_ds.class_names\n",
    "AUTOTUNE = tf.data.AUTOTUNE\n",
    "\n",
    "if len(class_names) == 2:  # take the one-hot-encoded matrix of labels and convert to a vector if binary classification\n",
    "    train_ds = train_ds.map(filter_binary_labels, num_parallel_calls=AUTOTUNE)\n",
    "    valid_ds = valid_ds.map(filter_binary_labels, num_parallel_calls=AUTOTUNE)\n",
    "train_ds = optimize_dataset(train_ds)\n",
    "valid_ds = optimize_dataset(valid_ds)"
   ]
  },
  {
   "cell_type": "code",
   "execution_count": null,
   "id": "c37a3034",
   "metadata": {},
   "outputs": [],
   "source": [
    "plt.figure(figsize=(10, 10))\n",
    "for images, labels in train_ds.take(1):\n",
    "    for i in range(9):\n",
    "        ax = plt.subplot(3, 3, i + 1)\n",
    "        plt.imshow(images[i].numpy().astype(\"uint8\"))\n",
    "        label_idx = labels.numpy()[i][0] if len(class_names) == 2 else np.argmax(labels.numpy()[i], axis=0)\n",
    "        plt.title(class_names[label_idx])\n",
    "        plt.axis(\"off\")"
   ]
  },
  {
   "cell_type": "markdown",
   "id": "a16680a2",
   "metadata": {},
   "source": [
    "## Model"
   ]
  },
  {
   "cell_type": "code",
   "execution_count": 8,
   "id": "a06370de",
   "metadata": {},
   "outputs": [
    {
     "name": "stdout",
     "output_type": "stream",
     "text": [
      "Model: \"model\"\n",
      "_________________________________________________________________\n",
      " Layer (type)                Output Shape              Param #   \n",
      "=================================================================\n",
      " input_2 (InputLayer)        [(None, 224, 224, 3)]     0         \n",
      "                                                                 \n",
      " sequential (Sequential)     (None, 224, 224, 3)       0         \n",
      "                                                                 \n",
      " tf.__operators__.getitem (S  (None, 224, 224, 3)      0         \n",
      " licingOpLambda)                                                 \n",
      "                                                                 \n",
      " tf.nn.bias_add (TFOpLambda)  (None, 224, 224, 3)      0         \n",
      "                                                                 \n",
      " vgg16 (Functional)          (None, 512)               14714688  \n",
      "                                                                 \n",
      " flatten (Flatten)           (None, 512)               0         \n",
      "                                                                 \n",
      " dense_1 (Dense)             (None, 512)               262656    \n",
      "                                                                 \n",
      " dropout (Dropout)           (None, 512)               0         \n",
      "                                                                 \n",
      " batch_normalization (BatchN  (None, 512)              2048      \n",
      " ormalization)                                                   \n",
      "                                                                 \n",
      " dense_2 (Dense)             (None, 512)               262656    \n",
      "                                                                 \n",
      " dropout_1 (Dropout)         (None, 512)               0         \n",
      "                                                                 \n",
      " batch_normalization_1 (Batc  (None, 512)              2048      \n",
      " hNormalization)                                                 \n",
      "                                                                 \n",
      " output (Dense)              (None, 1)                 513       \n",
      "                                                                 \n",
      "=================================================================\n",
      "Total params: 15,244,609\n",
      "Trainable params: 527,873\n",
      "Non-trainable params: 14,716,736\n",
      "_________________________________________________________________\n"
     ]
    }
   ],
   "source": [
    "model = make_model(n_classes=len(class_names), n_hidden=N_HIDDEN)\n",
    "freeze_all_vgg(model)\n",
    "loss = tf.keras.losses.CategoricalCrossentropy() if len(class_names) > 2 else tf.keras.losses.BinaryCrossentropy()\n",
    "model.compile(optimizer=tf.keras.optimizers.Adam(learning_rate=BASE_LEARNING_RATE),\n",
    "              loss=loss, metrics=['accuracy'])\n",
    "model.summary()"
   ]
  },
  {
   "cell_type": "markdown",
   "id": "1882bf11",
   "metadata": {},
   "source": [
    "#### Classifier initial training"
   ]
  },
  {
   "cell_type": "code",
   "execution_count": 9,
   "id": "c8260507",
   "metadata": {
    "scrolled": true
   },
   "outputs": [
    {
     "name": "stdout",
     "output_type": "stream",
     "text": [
      "Epoch 1/30\n",
      "13/13 [==============================] - ETA: 0s - loss: 0.6460 - accuracy: 0.7080\n",
      "Epoch 00001: val_loss improved from inf to 2.30603, saving model to ../models/vgg16/checkpoints\\train_1.tf\n",
      "13/13 [==============================] - 50s 3s/step - loss: 0.6460 - accuracy: 0.7080 - val_loss: 2.3060 - val_accuracy: 0.6497 - lr: 0.0010\n",
      "Epoch 2/30\n",
      "13/13 [==============================] - ETA: 0s - loss: 0.4834 - accuracy: 0.7883\n",
      "Epoch 00002: val_loss improved from 2.30603 to 1.55796, saving model to ../models/vgg16/checkpoints\\train_2.tf\n",
      "13/13 [==============================] - 7s 551ms/step - loss: 0.4834 - accuracy: 0.7883 - val_loss: 1.5580 - val_accuracy: 0.6667 - lr: 0.0010\n",
      "Epoch 3/30\n",
      "13/13 [==============================] - ETA: 0s - loss: 0.3684 - accuracy: 0.8394\n",
      "Epoch 00003: val_loss improved from 1.55796 to 0.96544, saving model to ../models/vgg16/checkpoints\\train_3.tf\n",
      "13/13 [==============================] - 7s 551ms/step - loss: 0.3684 - accuracy: 0.8394 - val_loss: 0.9654 - val_accuracy: 0.7006 - lr: 0.0010\n",
      "Epoch 4/30\n",
      "13/13 [==============================] - ETA: 0s - loss: 0.3662 - accuracy: 0.8370\n",
      "Epoch 00004: val_loss improved from 0.96544 to 0.91993, saving model to ../models/vgg16/checkpoints\\train_4.tf\n",
      "13/13 [==============================] - 7s 551ms/step - loss: 0.3662 - accuracy: 0.8370 - val_loss: 0.9199 - val_accuracy: 0.7345 - lr: 0.0010\n",
      "Epoch 5/30\n",
      "13/13 [==============================] - ETA: 0s - loss: 0.2973 - accuracy: 0.8637\n",
      "Epoch 00005: val_loss improved from 0.91993 to 0.75096, saving model to ../models/vgg16/checkpoints\\train_5.tf\n",
      "13/13 [==============================] - 7s 555ms/step - loss: 0.2973 - accuracy: 0.8637 - val_loss: 0.7510 - val_accuracy: 0.7401 - lr: 0.0010\n",
      "Epoch 6/30\n",
      "13/13 [==============================] - ETA: 0s - loss: 0.2804 - accuracy: 0.8771\n",
      "Epoch 00006: val_loss improved from 0.75096 to 0.74665, saving model to ../models/vgg16/checkpoints\\train_6.tf\n",
      "13/13 [==============================] - 7s 553ms/step - loss: 0.2804 - accuracy: 0.8771 - val_loss: 0.7466 - val_accuracy: 0.7401 - lr: 0.0010\n",
      "Epoch 7/30\n",
      "13/13 [==============================] - ETA: 0s - loss: 0.2937 - accuracy: 0.8723\n",
      "Epoch 00007: val_loss did not improve from 0.74665\n",
      "13/13 [==============================] - 7s 532ms/step - loss: 0.2937 - accuracy: 0.8723 - val_loss: 0.7971 - val_accuracy: 0.7288 - lr: 0.0010\n",
      "Epoch 8/30\n",
      "13/13 [==============================] - ETA: 0s - loss: 0.2591 - accuracy: 0.8893\n",
      "Epoch 00008: val_loss improved from 0.74665 to 0.71698, saving model to ../models/vgg16/checkpoints\\train_8.tf\n",
      "13/13 [==============================] - 7s 551ms/step - loss: 0.2591 - accuracy: 0.8893 - val_loss: 0.7170 - val_accuracy: 0.7345 - lr: 0.0010\n",
      "Epoch 9/30\n",
      "13/13 [==============================] - ETA: 0s - loss: 0.2523 - accuracy: 0.8844\n",
      "Epoch 00009: val_loss improved from 0.71698 to 0.71357, saving model to ../models/vgg16/checkpoints\\train_9.tf\n",
      "13/13 [==============================] - 7s 551ms/step - loss: 0.2523 - accuracy: 0.8844 - val_loss: 0.7136 - val_accuracy: 0.7571 - lr: 0.0010\n",
      "Epoch 10/30\n",
      "13/13 [==============================] - ETA: 0s - loss: 0.2332 - accuracy: 0.9015\n",
      "Epoch 00010: val_loss improved from 0.71357 to 0.65999, saving model to ../models/vgg16/checkpoints\\train_10.tf\n",
      "13/13 [==============================] - 7s 551ms/step - loss: 0.2332 - accuracy: 0.9015 - val_loss: 0.6600 - val_accuracy: 0.7514 - lr: 0.0010\n",
      "Epoch 11/30\n",
      "13/13 [==============================] - ETA: 0s - loss: 0.2307 - accuracy: 0.8954\n",
      "Epoch 00011: val_loss did not improve from 0.65999\n",
      "13/13 [==============================] - 7s 533ms/step - loss: 0.2307 - accuracy: 0.8954 - val_loss: 0.6788 - val_accuracy: 0.7514 - lr: 0.0010\n",
      "Epoch 12/30\n",
      "13/13 [==============================] - ETA: 0s - loss: 0.2083 - accuracy: 0.9088\n",
      "Epoch 00012: val_loss did not improve from 0.65999\n",
      "13/13 [==============================] - 7s 532ms/step - loss: 0.2083 - accuracy: 0.9088 - val_loss: 0.7823 - val_accuracy: 0.6949 - lr: 0.0010\n",
      "Epoch 13/30\n",
      "13/13 [==============================] - ETA: 0s - loss: 0.1982 - accuracy: 0.9246\n",
      "Epoch 00013: val_loss did not improve from 0.65999\n",
      "13/13 [==============================] - 7s 532ms/step - loss: 0.1982 - accuracy: 0.9246 - val_loss: 0.7879 - val_accuracy: 0.7062 - lr: 0.0010\n",
      "Epoch 14/30\n",
      "13/13 [==============================] - ETA: 0s - loss: 0.2093 - accuracy: 0.9088\n",
      "Epoch 00014: val_loss did not improve from 0.65999\n",
      "\n",
      "Epoch 00014: ReduceLROnPlateau reducing learning rate to 0.00010000000474974513.\n",
      "13/13 [==============================] - 7s 531ms/step - loss: 0.2093 - accuracy: 0.9088 - val_loss: 0.7999 - val_accuracy: 0.7345 - lr: 0.0010\n",
      "Epoch 15/30\n",
      "13/13 [==============================] - ETA: 0s - loss: 0.1772 - accuracy: 0.9270\n",
      "Epoch 00015: val_loss did not improve from 0.65999\n",
      "13/13 [==============================] - 7s 533ms/step - loss: 0.1772 - accuracy: 0.9270 - val_loss: 0.7499 - val_accuracy: 0.7401 - lr: 1.0000e-04\n",
      "Epoch 16/30\n",
      "13/13 [==============================] - ETA: 0s - loss: 0.1694 - accuracy: 0.9380\n",
      "Epoch 00016: val_loss did not improve from 0.65999\n",
      "13/13 [==============================] - 7s 533ms/step - loss: 0.1694 - accuracy: 0.9380 - val_loss: 0.7168 - val_accuracy: 0.7514 - lr: 1.0000e-04\n",
      "Epoch 17/30\n",
      "13/13 [==============================] - ETA: 0s - loss: 0.1992 - accuracy: 0.9185\n",
      "Epoch 00017: val_loss did not improve from 0.65999\n",
      "13/13 [==============================] - 7s 533ms/step - loss: 0.1992 - accuracy: 0.9185 - val_loss: 0.7042 - val_accuracy: 0.7401 - lr: 1.0000e-04\n",
      "Epoch 18/30\n",
      "13/13 [==============================] - ETA: 0s - loss: 0.1777 - accuracy: 0.9282\n",
      "Epoch 00018: val_loss did not improve from 0.65999\n",
      "\n",
      "Epoch 00018: ReduceLROnPlateau reducing learning rate to 1.0000000474974514e-05.\n",
      "13/13 [==============================] - 7s 533ms/step - loss: 0.1777 - accuracy: 0.9282 - val_loss: 0.6968 - val_accuracy: 0.7458 - lr: 1.0000e-04\n",
      "Epoch 19/30\n",
      "13/13 [==============================] - ETA: 0s - loss: 0.1656 - accuracy: 0.9380\n",
      "Epoch 00019: val_loss did not improve from 0.65999\n",
      "13/13 [==============================] - 7s 533ms/step - loss: 0.1656 - accuracy: 0.9380 - val_loss: 0.6964 - val_accuracy: 0.7458 - lr: 1.0000e-05\n",
      "Epoch 20/30\n",
      "13/13 [==============================] - ETA: 0s - loss: 0.1474 - accuracy: 0.9489\n",
      "Epoch 00020: val_loss did not improve from 0.65999\n",
      "13/13 [==============================] - 7s 533ms/step - loss: 0.1474 - accuracy: 0.9489 - val_loss: 0.6971 - val_accuracy: 0.7458 - lr: 1.0000e-05\n",
      "Epoch 21/30\n",
      "13/13 [==============================] - ETA: 0s - loss: 0.1639 - accuracy: 0.9343\n",
      "Epoch 00021: val_loss did not improve from 0.65999\n",
      "13/13 [==============================] - 7s 535ms/step - loss: 0.1639 - accuracy: 0.9343 - val_loss: 0.6991 - val_accuracy: 0.7401 - lr: 1.0000e-05\n",
      "Epoch 22/30\n",
      "13/13 [==============================] - ETA: 0s - loss: 0.1615 - accuracy: 0.9343\n",
      "Epoch 00022: val_loss did not improve from 0.65999\n",
      "\n",
      "Epoch 00022: ReduceLROnPlateau reducing learning rate to 1.0000000656873453e-06.\n",
      "13/13 [==============================] - 7s 532ms/step - loss: 0.1615 - accuracy: 0.9343 - val_loss: 0.7020 - val_accuracy: 0.7401 - lr: 1.0000e-05\n",
      "Epoch 23/30\n",
      "13/13 [==============================] - ETA: 0s - loss: 0.1574 - accuracy: 0.9343\n",
      "Epoch 00023: val_loss did not improve from 0.65999\n",
      "13/13 [==============================] - 7s 533ms/step - loss: 0.1574 - accuracy: 0.9343 - val_loss: 0.7047 - val_accuracy: 0.7401 - lr: 1.0000e-06\n",
      "Epoch 24/30\n",
      "13/13 [==============================] - ETA: 0s - loss: 0.1616 - accuracy: 0.9307\n",
      "Epoch 00024: val_loss did not improve from 0.65999\n",
      "13/13 [==============================] - 7s 533ms/step - loss: 0.1616 - accuracy: 0.9307 - val_loss: 0.7075 - val_accuracy: 0.7401 - lr: 1.0000e-06\n",
      "Epoch 25/30\n",
      "13/13 [==============================] - ETA: 0s - loss: 0.1546 - accuracy: 0.9428\n",
      "Epoch 00025: val_loss did not improve from 0.65999\n",
      "13/13 [==============================] - 7s 534ms/step - loss: 0.1546 - accuracy: 0.9428 - val_loss: 0.7113 - val_accuracy: 0.7401 - lr: 1.0000e-06\n",
      "Epoch 00025: early stopping\n"
     ]
    }
   ],
   "source": [
    "tb = TensorBoard(log_dir=LOG_DIR)\n",
    "checkpoint = ModelCheckpoint(r'../models/vgg16/checkpoints/train_{epoch}.tf', verbose=1, save_weights_only=True,\\\n",
    "                             save_best_only=True, monitor='val_loss')\n",
    "reduce_lr = ReduceLROnPlateau(monitor='val_loss', factor=0.1, patience=4, verbose=1)\n",
    "early_stopping = EarlyStopping(monitor='val_loss', min_delta=0, patience=15, verbose=1)\n",
    "\n",
    "history = model.fit(train_ds, epochs=INITIAL_EPOCHS, validation_data=valid_ds, callbacks=[tb, checkpoint, reduce_lr, early_stopping])"
   ]
  },
  {
   "cell_type": "markdown",
   "id": "dea8cb4b",
   "metadata": {},
   "source": [
    "#### Fine tuning"
   ]
  },
  {
   "cell_type": "code",
   "execution_count": 10,
   "id": "fd646007",
   "metadata": {},
   "outputs": [
    {
     "name": "stdout",
     "output_type": "stream",
     "text": [
      "Epoch 25/60\n",
      "13/13 [==============================] - ETA: 0s - loss: 0.7619 - accuracy: 0.7092\n",
      "Epoch 00025: val_loss did not improve from 0.65999\n",
      "13/13 [==============================] - 10s 643ms/step - loss: 0.7619 - accuracy: 0.7092 - val_loss: 11.3890 - val_accuracy: 0.4802 - lr: 0.0010\n",
      "Epoch 26/60\n",
      "13/13 [==============================] - ETA: 0s - loss: 0.6155 - accuracy: 0.7129\n",
      "Epoch 00026: val_loss did not improve from 0.65999\n",
      "13/13 [==============================] - 8s 593ms/step - loss: 0.6155 - accuracy: 0.7129 - val_loss: 7.8739 - val_accuracy: 0.4802 - lr: 0.0010\n",
      "Epoch 27/60\n",
      "13/13 [==============================] - ETA: 0s - loss: 0.5211 - accuracy: 0.7494\n",
      "Epoch 00027: val_loss did not improve from 0.65999\n",
      "13/13 [==============================] - 8s 593ms/step - loss: 0.5211 - accuracy: 0.7494 - val_loss: 2.3882 - val_accuracy: 0.5254 - lr: 0.0010\n",
      "Epoch 28/60\n",
      "13/13 [==============================] - ETA: 0s - loss: 0.5580 - accuracy: 0.7384\n",
      "Epoch 00028: val_loss did not improve from 0.65999\n",
      "13/13 [==============================] - 8s 593ms/step - loss: 0.5580 - accuracy: 0.7384 - val_loss: 3.9026 - val_accuracy: 0.4915 - lr: 0.0010\n",
      "Epoch 29/60\n",
      "13/13 [==============================] - ETA: 0s - loss: 0.4817 - accuracy: 0.7725\n",
      "Epoch 00029: val_loss did not improve from 0.65999\n",
      "13/13 [==============================] - 8s 594ms/step - loss: 0.4817 - accuracy: 0.7725 - val_loss: 1.7596 - val_accuracy: 0.6271 - lr: 0.0010\n",
      "Epoch 30/60\n",
      "13/13 [==============================] - ETA: 0s - loss: 0.4405 - accuracy: 0.8041\n",
      "Epoch 00030: val_loss did not improve from 0.65999\n",
      "13/13 [==============================] - 8s 594ms/step - loss: 0.4405 - accuracy: 0.8041 - val_loss: 0.7116 - val_accuracy: 0.7062 - lr: 0.0010\n",
      "Epoch 31/60\n",
      "13/13 [==============================] - ETA: 0s - loss: 0.4094 - accuracy: 0.8151\n",
      "Epoch 00031: val_loss improved from 0.65999 to 0.61122, saving model to ../models/vgg16/checkpoints\\train_31.tf\n",
      "13/13 [==============================] - 8s 628ms/step - loss: 0.4094 - accuracy: 0.8151 - val_loss: 0.6112 - val_accuracy: 0.7401 - lr: 0.0010\n",
      "Epoch 32/60\n",
      "13/13 [==============================] - ETA: 0s - loss: 0.3692 - accuracy: 0.8248\n",
      "Epoch 00032: val_loss did not improve from 0.61122\n",
      "13/13 [==============================] - 8s 593ms/step - loss: 0.3692 - accuracy: 0.8248 - val_loss: 0.7471 - val_accuracy: 0.6723 - lr: 0.0010\n",
      "Epoch 33/60\n",
      "13/13 [==============================] - ETA: 0s - loss: 0.3487 - accuracy: 0.8516\n",
      "Epoch 00033: val_loss did not improve from 0.61122\n",
      "13/13 [==============================] - 8s 594ms/step - loss: 0.3487 - accuracy: 0.8516 - val_loss: 0.8449 - val_accuracy: 0.6949 - lr: 0.0010\n",
      "Epoch 34/60\n",
      "13/13 [==============================] - ETA: 0s - loss: 0.3316 - accuracy: 0.8637\n",
      "Epoch 00034: val_loss did not improve from 0.61122\n",
      "13/13 [==============================] - 8s 594ms/step - loss: 0.3316 - accuracy: 0.8637 - val_loss: 2.9747 - val_accuracy: 0.7232 - lr: 0.0010\n",
      "Epoch 35/60\n",
      "13/13 [==============================] - ETA: 0s - loss: 0.3312 - accuracy: 0.8589\n",
      "Epoch 00035: val_loss did not improve from 0.61122\n",
      "\n",
      "Epoch 00035: ReduceLROnPlateau reducing learning rate to 0.00010000000474974513.\n",
      "13/13 [==============================] - 8s 593ms/step - loss: 0.3312 - accuracy: 0.8589 - val_loss: 0.8862 - val_accuracy: 0.7401 - lr: 0.0010\n",
      "Epoch 36/60\n",
      "13/13 [==============================] - ETA: 0s - loss: 0.2825 - accuracy: 0.8820\n",
      "Epoch 00036: val_loss did not improve from 0.61122\n",
      "13/13 [==============================] - 8s 594ms/step - loss: 0.2825 - accuracy: 0.8820 - val_loss: 0.8299 - val_accuracy: 0.7119 - lr: 1.0000e-04\n",
      "Epoch 37/60\n",
      "13/13 [==============================] - ETA: 0s - loss: 0.2475 - accuracy: 0.8929\n",
      "Epoch 00037: val_loss did not improve from 0.61122\n",
      "13/13 [==============================] - 8s 594ms/step - loss: 0.2475 - accuracy: 0.8929 - val_loss: 0.6985 - val_accuracy: 0.7232 - lr: 1.0000e-04\n",
      "Epoch 38/60\n",
      "13/13 [==============================] - ETA: 0s - loss: 0.2417 - accuracy: 0.8942\n",
      "Epoch 00038: val_loss did not improve from 0.61122\n",
      "13/13 [==============================] - 8s 596ms/step - loss: 0.2417 - accuracy: 0.8942 - val_loss: 0.7013 - val_accuracy: 0.7006 - lr: 1.0000e-04\n",
      "Epoch 39/60\n",
      "13/13 [==============================] - ETA: 0s - loss: 0.2316 - accuracy: 0.9136\n",
      "Epoch 00039: val_loss did not improve from 0.61122\n",
      "\n",
      "Epoch 00039: ReduceLROnPlateau reducing learning rate to 1.0000000474974514e-05.\n",
      "13/13 [==============================] - 8s 596ms/step - loss: 0.2316 - accuracy: 0.9136 - val_loss: 0.6892 - val_accuracy: 0.7062 - lr: 1.0000e-04\n",
      "Epoch 40/60\n",
      "13/13 [==============================] - ETA: 0s - loss: 0.2269 - accuracy: 0.9136\n",
      "Epoch 00040: val_loss did not improve from 0.61122\n",
      "13/13 [==============================] - 8s 595ms/step - loss: 0.2269 - accuracy: 0.9136 - val_loss: 0.6841 - val_accuracy: 0.7288 - lr: 1.0000e-05\n",
      "Epoch 41/60\n",
      "13/13 [==============================] - ETA: 0s - loss: 0.2226 - accuracy: 0.9100\n",
      "Epoch 00041: val_loss did not improve from 0.61122\n",
      "13/13 [==============================] - 8s 596ms/step - loss: 0.2226 - accuracy: 0.9100 - val_loss: 0.6870 - val_accuracy: 0.7288 - lr: 1.0000e-05\n",
      "Epoch 42/60\n",
      "13/13 [==============================] - ETA: 0s - loss: 0.2401 - accuracy: 0.9136\n",
      "Epoch 00042: val_loss did not improve from 0.61122\n",
      "13/13 [==============================] - 8s 595ms/step - loss: 0.2401 - accuracy: 0.9136 - val_loss: 0.6938 - val_accuracy: 0.7232 - lr: 1.0000e-05\n",
      "Epoch 43/60\n",
      "13/13 [==============================] - ETA: 0s - loss: 0.2253 - accuracy: 0.9161\n",
      "Epoch 00043: val_loss did not improve from 0.61122\n",
      "\n",
      "Epoch 00043: ReduceLROnPlateau reducing learning rate to 1.0000000656873453e-06.\n",
      "13/13 [==============================] - 8s 595ms/step - loss: 0.2253 - accuracy: 0.9161 - val_loss: 0.6929 - val_accuracy: 0.7175 - lr: 1.0000e-05\n",
      "Epoch 44/60\n",
      "13/13 [==============================] - ETA: 0s - loss: 0.2218 - accuracy: 0.9075\n",
      "Epoch 00044: val_loss did not improve from 0.61122\n",
      "13/13 [==============================] - 8s 596ms/step - loss: 0.2218 - accuracy: 0.9075 - val_loss: 0.6898 - val_accuracy: 0.7232 - lr: 1.0000e-06\n",
      "Epoch 45/60\n",
      "13/13 [==============================] - ETA: 0s - loss: 0.2334 - accuracy: 0.9112\n",
      "Epoch 00045: val_loss did not improve from 0.61122\n",
      "13/13 [==============================] - 8s 595ms/step - loss: 0.2334 - accuracy: 0.9112 - val_loss: 0.6872 - val_accuracy: 0.7232 - lr: 1.0000e-06\n",
      "Epoch 46/60\n",
      "13/13 [==============================] - ETA: 0s - loss: 0.2574 - accuracy: 0.8893\n",
      "Epoch 00046: val_loss did not improve from 0.61122\n",
      "13/13 [==============================] - 8s 595ms/step - loss: 0.2574 - accuracy: 0.8893 - val_loss: 0.6842 - val_accuracy: 0.7288 - lr: 1.0000e-06\n",
      "Epoch 00046: early stopping\n"
     ]
    }
   ],
   "source": [
    "unfreeze_last_vgg(model, which_freeze=FINE_TUNE_AT_LAYER)\n",
    "\n",
    "total_epochs = INITIAL_EPOCHS + FINE_TUNING_EPOCHS\n",
    "model.compile(optimizer=tf.keras.optimizers.Adam(learning_rate=FINE_TUNING_LEARNING_RATE),\n",
    "              loss=loss, metrics=['accuracy'])\n",
    "history = model.fit(train_ds, epochs=total_epochs, validation_data=valid_ds, callbacks=[tb, checkpoint, reduce_lr, early_stopping], \\\n",
    "                    initial_epoch=history.epoch[-1])\n",
    "\n",
    "model.save_weights(SAVE_DIR)"
   ]
  },
  {
   "cell_type": "markdown",
   "id": "0c5cb089",
   "metadata": {},
   "source": [
    "#### Model evaluation"
   ]
  },
  {
   "cell_type": "code",
   "execution_count": 13,
   "id": "75a59eed",
   "metadata": {},
   "outputs": [
    {
     "name": "stdout",
     "output_type": "stream",
     "text": [
      "Found 177 files belonging to 2 classes.\n",
      "3/3 [==============================] - 2s 388ms/step - loss: 0.4880 - accuracy: 0.8362\n",
      "Loss: 0.487979918718338 --------- Accuracy: 83.62%\n",
      "              precision    recall  f1-score   support\n",
      "\n",
      "           0       0.82      0.94      0.87       108\n",
      "           1       0.87      0.68      0.76        69\n",
      "\n",
      "    accuracy                           0.84       177\n",
      "   macro avg       0.85      0.81      0.82       177\n",
      "weighted avg       0.84      0.84      0.83       177\n",
      "\n"
     ]
    },
    {
     "data": {
      "text/html": [
       "<div>\n",
       "<style scoped>\n",
       "    .dataframe tbody tr th:only-of-type {\n",
       "        vertical-align: middle;\n",
       "    }\n",
       "\n",
       "    .dataframe tbody tr th {\n",
       "        vertical-align: top;\n",
       "    }\n",
       "\n",
       "    .dataframe thead th {\n",
       "        text-align: right;\n",
       "    }\n",
       "</style>\n",
       "<table border=\"1\" class=\"dataframe\">\n",
       "  <thead>\n",
       "    <tr style=\"text-align: right;\">\n",
       "      <th></th>\n",
       "      <th>PRED_0</th>\n",
       "      <th>PRED_1</th>\n",
       "    </tr>\n",
       "  </thead>\n",
       "  <tbody>\n",
       "    <tr>\n",
       "      <th>REAL_0</th>\n",
       "      <td>101</td>\n",
       "      <td>7</td>\n",
       "    </tr>\n",
       "    <tr>\n",
       "      <th>REAL_1</th>\n",
       "      <td>22</td>\n",
       "      <td>47</td>\n",
       "    </tr>\n",
       "  </tbody>\n",
       "</table>\n",
       "</div>"
      ],
      "text/plain": [
       "        PRED_0  PRED_1\n",
       "REAL_0     101       7\n",
       "REAL_1      22      47"
      ]
     },
     "execution_count": 13,
     "metadata": {},
     "output_type": "execute_result"
    }
   ],
   "source": [
    "test_path = Path(r'../data/test')\n",
    "test_ds = tf.keras.preprocessing.image_dataset_from_directory(test_path, image_size=(IMG_HEIGHT, IMG_WIDTH), \\\n",
    "                                                              batch_size=BATCH_SIZE, shuffle=False, \\\n",
    "                                                              label_mode='categorical')\n",
    "assert class_names == test_ds.class_names\n",
    "\n",
    "if len(class_names) == 2:  # take the one-hot-encoded matrix of labels and convert to a vector if binary classification\n",
    "    test_ds = test_ds.map(filter_binary_labels, num_parallel_calls=AUTOTUNE)\n",
    "test_ds = optimize_dataset(test_ds)\n",
    "\n",
    "metrics = model.evaluate(test_ds)\n",
    "print('Loss: {} --------- Accuracy: {}%'.format(metrics[0], np.round(metrics[1]*100, 2)))\n",
    "\n",
    "y_pred = model.predict(test_ds)\n",
    "y_true = tf.concat([y for x, y in test_ds], axis=0)\n",
    "if len(class_names) == 2: # uses a threshold for the predictions if binary classification problem\n",
    "    y_pred[y_pred >= 0.5] = 1\n",
    "    y_pred[y_pred < 0.5] = 0\n",
    "    y_true = y_true.numpy()\n",
    "else: # uses argmax if not binary classification\n",
    "    y_pred = np.argmax(y_pred, axis=1)\n",
    "    y_true = np.argmax(y_true.numpy(), axis=1)\n",
    "\n",
    "print(classification_report(y_true, y_pred, target_names=class_names, digits=2))\n",
    "\n",
    "pred_labels = [('PRED_' + class_name) for class_name in class_names]\n",
    "real_labels = [('REAL_' + class_name) for class_name in class_names]\n",
    "pd.DataFrame(confusion_matrix(y_true, y_pred), columns=pred_labels, index=real_labels)"
   ]
  }
 ],
 "metadata": {
  "kernelspec": {
   "display_name": "Python 3 (ipykernel)",
   "language": "python",
   "name": "python3"
  },
  "language_info": {
   "codemirror_mode": {
    "name": "ipython",
    "version": 3
   },
   "file_extension": ".py",
   "mimetype": "text/x-python",
   "name": "python",
   "nbconvert_exporter": "python",
   "pygments_lexer": "ipython3",
   "version": "3.9.9"
  }
 },
 "nbformat": 4,
 "nbformat_minor": 5
}
