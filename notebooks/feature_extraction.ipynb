{
 "cells": [
  {
   "cell_type": "code",
   "execution_count": 1,
   "id": "ba06af36",
   "metadata": {},
   "outputs": [],
   "source": [
    "%load_ext autoreload\n",
    "%autoreload 2"
   ]
  },
  {
   "cell_type": "code",
   "execution_count": 2,
   "id": "472a5498",
   "metadata": {},
   "outputs": [],
   "source": [
    "import tensorflow as tf\n",
    "tf.config.experimental.set_memory_growth(tf.config.experimental.list_physical_devices('GPU')[0], True)\n",
    "import tensorflow.keras.layers as layers\n",
    "from tensorflow.keras.applications import vgg16, vgg19, densenet, resnet_v2, inception_v3, resnet50, resnet\n",
    "from tqdm import tqdm\n",
    "import numpy as np\n",
    "import gc\n",
    "from pathlib import Path\n",
    "import sys\n",
    "try:\n",
    "    from utils.data import dataset_definition\n",
    "except ModuleNotFoundError:\n",
    "    sys.path.insert(0, str(Path('.').resolve().parent))\n",
    "    from utils.data import dataset_definition"
   ]
  },
  {
   "cell_type": "code",
   "execution_count": 3,
   "id": "a34b0a5b",
   "metadata": {},
   "outputs": [],
   "source": [
    "def make_base_model(img_height=224, img_width=224, transfer_learning=True, base_model='vgg16', data_augmentation=False):\n",
    "    if transfer_learning:\n",
    "        weights = 'imagenet'\n",
    "    else:\n",
    "        weights = None\n",
    "    \n",
    "    if base_model == 'vgg16':\n",
    "        base_model_net = vgg16.VGG16(include_top=False, weights=weights)\n",
    "        preprocess_layer = vgg16.preprocess_input\n",
    "    if base_model == 'vgg19':\n",
    "        base_model_net = vgg19.VGG19(include_top=False, weights=weights)\n",
    "        preprocess_layer = vgg19.preprocess_input\n",
    "    elif base_model == 'densenet201':\n",
    "        base_model_net = densenet.DenseNet201(include_top=False, weights=weights)\n",
    "        preprocess_layer = densenet.preprocess_input\n",
    "    elif base_model == 'densenet169':\n",
    "        base_model_net = densenet.DenseNet169(include_top=False, weights=weights)\n",
    "        preprocess_layer = densenet.preprocess_input\n",
    "    elif base_model == 'densenet121':\n",
    "        base_model_net = densenet.DenseNet121(include_top=False, weights=weights)\n",
    "        preprocess_layer = densenet.preprocess_input\n",
    "    elif base_model == 'resnet152v2':\n",
    "        base_model_net = resnet_v2.ResNet152V2(include_top=False, weights=weights)\n",
    "        preprocess_layer = resnet_v2.preprocess_input\n",
    "    elif base_model == 'resnet50':\n",
    "        base_model_net = resnet50.ResNet50(include_top=False, weights=weights)\n",
    "        preprocess_layer = resnet50.preprocess_input\n",
    "    elif base_model == 'resnet152':\n",
    "        base_model_net = resnet.ResNet152(include_top=False, weights=weights)\n",
    "        preprocess_layer = resnet.preprocess_input \n",
    "    elif base_model == 'resnet101':\n",
    "        base_model_net = resnet.ResNet101(include_top=False, weights=weights)\n",
    "        preprocess_layer = resnet.preprocess_input\n",
    "    elif base_model == 'inception_v3':\n",
    "        base_model_net = inception_v3.InceptionV3(include_top=False, weights=weights)\n",
    "        preprocess_layer = inception_v3.preprocess_input\n",
    "    \n",
    "    data_augmentation = tf.keras.Sequential([\n",
    "        layers.experimental.preprocessing.RandomFlip('horizontal'),\n",
    "        layers.experimental.preprocessing.RandomRotation(0.2),\n",
    "    ])\n",
    "    \n",
    "    inputs = layers.Input(shape=(img_height, img_width, 3))\n",
    "    if data_augmentation:\n",
    "        x = data_augmentation(inputs)\n",
    "    else:\n",
    "        x = preprocess_layer(inputs)\n",
    "    outputs = base_model_net(x, training=False)\n",
    "    model = tf.keras.Model(inputs, outputs)\n",
    "    \n",
    "    return model"
   ]
  },
  {
   "cell_type": "code",
   "execution_count": 4,
   "id": "b8b3dade",
   "metadata": {},
   "outputs": [],
   "source": [
    "def _bytes_feature(value):\n",
    "    \"\"\"Returns a bytes_list from a string / byte.\"\"\"\n",
    "    if isinstance(value, type(tf.constant(0))): # if value ist tensor\n",
    "        value = value.numpy() # get value of tensor\n",
    "    return tf.train.Feature(bytes_list=tf.train.BytesList(value=[value]))\n",
    "\n",
    "def _float_feature(value):\n",
    "    \"\"\"Returns a floast_list from a float / double.\"\"\"\n",
    "    return tf.train.Feature(float_list=tf.train.FloatList(value=[value]))\n",
    "\n",
    "def _int64_feature(value):\n",
    "    \"\"\"Returns an int64_list from a bool / enum / int / uint.\"\"\"\n",
    "    return tf.train.Feature(int64_list=tf.train.Int64List(value=[value]))\n",
    "\n",
    "def serialize_array(array):\n",
    "    array = tf.io.serialize_tensor(array)\n",
    "    return array\n",
    "\n",
    "def parse_single_image(image, label):\n",
    "    #define the dictionary -- the structure -- of our single example\n",
    "    data = {\n",
    "        'height' : _int64_feature(image.shape[0]),\n",
    "        'width' : _int64_feature(image.shape[1]),\n",
    "        'depth' : _int64_feature(image.shape[2]),\n",
    "        'raw_image' : _bytes_feature(serialize_array(image)),\n",
    "        'label' : _int64_feature(label)\n",
    "    }\n",
    "    #create an Example, wrapping the single features\n",
    "    out = tf.train.Example(features=tf.train.Features(feature=data))\n",
    "    \n",
    "    return out\n",
    "\n",
    "def write_images(images, labels, filename:str=\"images\"):\n",
    "    filename= str(Path(filename+\".tfrecords\").resolve())\n",
    "    writer = tf.io.TFRecordWriter(filename)\n",
    "    count = 0\n",
    "    \n",
    "    for index in range(len(images)):\n",
    "        current_image = images[index]\n",
    "        current_label = labels[index]\n",
    "        \n",
    "        out = parse_single_image(image=current_image, label=current_label)\n",
    "        writer.write(out.SerializeToString())\n",
    "        count += 1\n",
    "    \n",
    "    writer.close()\n",
    "    #print(f\"Wrote {count} elements to TFRecord\")\n",
    "    return count\n",
    "\n",
    "def write_tfrecord_dataset(dataset, model, file_path):\n",
    "    images_concat = None\n",
    "    labels_concat = None\n",
    "    batches_count = 0\n",
    "    batches_count_name = 0\n",
    "    for images, labels in tqdm(dataset):\n",
    "        if images_concat is None:\n",
    "            images_concat = model.predict(images)\n",
    "        else:\n",
    "            images_concat = np.concatenate([images_concat, model.predict(images)])\n",
    "\n",
    "        if labels_concat is None:\n",
    "            labels_concat = labels.numpy()\n",
    "        else:\n",
    "            labels_concat = np.concatenate([labels_concat, labels.numpy()])\n",
    "\n",
    "        batches_count = batches_count + 1\n",
    "\n",
    "        if batches_count == n_batches_concat:\n",
    "            batches_count = 0\n",
    "            batches_count_name = batches_count_name + 1\n",
    "            write_images(images_concat, labels_concat, filename=file_path + str(batches_count_name))\n",
    "            images_concat = None\n",
    "            labels_concat = None\n",
    "            gc.collect();"
   ]
  },
  {
   "cell_type": "code",
   "execution_count": 5,
   "id": "7b6bc4c2",
   "metadata": {},
   "outputs": [],
   "source": [
    "def tensor_argmax(image, label):\n",
    "    return image, tf.math.argmax(label, axis=1)"
   ]
  },
  {
   "cell_type": "markdown",
   "id": "7bff5a4d",
   "metadata": {},
   "source": [
    "# Resnet152 V2"
   ]
  },
  {
   "cell_type": "markdown",
   "id": "eea0e5d3",
   "metadata": {},
   "source": [
    "#### Patch Camelyon dataset"
   ]
  },
  {
   "cell_type": "code",
   "execution_count": 15,
   "id": "3b139279",
   "metadata": {},
   "outputs": [
    {
     "name": "stderr",
     "output_type": "stream",
     "text": [
      "2022-07-18 14:29:47.927 INFO    absl: Load dataset info from C:\\Users\\lucas\\tensorflow_datasets\\patch_camelyon\\2.0.0\n",
      "2022-07-18 14:29:47.955 INFO    absl: Reusing dataset patch_camelyon (C:\\Users\\lucas\\tensorflow_datasets\\patch_camelyon\\2.0.0)\n",
      "2022-07-18 14:29:47.955 INFO    absl: Constructing tf.data.Dataset patch_camelyon for split ['train', 'validation'], from C:\\Users\\lucas\\tensorflow_datasets\\patch_camelyon\\2.0.0\n",
      "2022-07-18 14:29:48.006 INFO    absl: Load dataset info from C:\\Users\\lucas\\tensorflow_datasets\\patch_camelyon\\2.0.0\n",
      "2022-07-18 14:29:48.008 INFO    absl: Reusing dataset patch_camelyon (C:\\Users\\lucas\\tensorflow_datasets\\patch_camelyon\\2.0.0)\n",
      "2022-07-18 14:29:48.008 INFO    absl: Constructing tf.data.Dataset patch_camelyon for split ['test'], from C:\\Users\\lucas\\tensorflow_datasets\\patch_camelyon\\2.0.0\n"
     ]
    }
   ],
   "source": [
    "file_path = '../data/tfrecords/patch_camelyon/resnet152v2'\n",
    "n_batches_concat = 10\n",
    "batch_size = 64\n",
    "data_augmentation = False\n",
    "\n",
    "train_ds, test_ds, valid_ds, class_names = dataset_definition(sample_dataset='patch_camelyon', batch_size=batch_size, img_height=224, img_width=224)\n",
    "model = make_base_model(img_height=224, img_width=224, transfer_learning=True, base_model='resnet152v2', data_augmentation=data_augmentation)"
   ]
  },
  {
   "cell_type": "markdown",
   "id": "a6c01ae5",
   "metadata": {},
   "source": [
    "Store features:"
   ]
  },
  {
   "cell_type": "code",
   "execution_count": 10,
   "id": "bf2dfef5",
   "metadata": {},
   "outputs": [
    {
     "name": "stderr",
     "output_type": "stream",
     "text": [
      "100%|████████████████████████████████████████████████████████████████████████████| 4096/4096 [1:05:40<00:00,  1.04it/s]\n"
     ]
    }
   ],
   "source": [
    "write_tfrecord_dataset(dataset=train_ds, model=model, file_path=file_path + '/train/dataset_')"
   ]
  },
  {
   "cell_type": "code",
   "execution_count": 11,
   "id": "ca372687",
   "metadata": {},
   "outputs": [
    {
     "name": "stderr",
     "output_type": "stream",
     "text": [
      "100%|████████████████████████████████████████████████████████████████████████████████| 512/512 [08:42<00:00,  1.02s/it]\n"
     ]
    }
   ],
   "source": [
    "write_tfrecord_dataset(dataset=test_ds, model=model, file_path=file_path + '/test/dataset_')"
   ]
  },
  {
   "cell_type": "code",
   "execution_count": 12,
   "id": "8d70a232",
   "metadata": {},
   "outputs": [
    {
     "name": "stderr",
     "output_type": "stream",
     "text": [
      "100%|████████████████████████████████████████████████████████████████████████████████| 512/512 [09:10<00:00,  1.08s/it]\n"
     ]
    }
   ],
   "source": [
    "write_tfrecord_dataset(dataset=valid_ds, model=model, file_path=file_path + '/validation/dataset_')"
   ]
  },
  {
   "cell_type": "markdown",
   "id": "b6998916",
   "metadata": {},
   "source": [
    "model output size for one image:"
   ]
  },
  {
   "cell_type": "code",
   "execution_count": 7,
   "id": "c88919c7",
   "metadata": {},
   "outputs": [
    {
     "name": "stdout",
     "output_type": "stream",
     "text": [
      "Single image shape (224, 224, 3)\n",
      "Image with batch dimension (1, 224, 224, 3)\n",
      "Model output shape (1, 7, 7, 2048)\n"
     ]
    }
   ],
   "source": [
    "image = list(train_ds.take(1))[0][0][0]\n",
    "print('Single image shape', image.shape)\n",
    "image = tf.expand_dims(image, axis=0)\n",
    "print('Image with batch dimension', image.shape)\n",
    "print('Model output shape', model.predict(image).shape)"
   ]
  },
  {
   "cell_type": "markdown",
   "id": "6314af37",
   "metadata": {},
   "source": [
    "#### Oxford Flowers 102 dataset"
   ]
  },
  {
   "cell_type": "code",
   "execution_count": 6,
   "id": "bb457c52",
   "metadata": {},
   "outputs": [
    {
     "name": "stderr",
     "output_type": "stream",
     "text": [
      "2022-07-18 14:32:08.706 INFO    absl: Load dataset info from C:\\Users\\lucas\\tensorflow_datasets\\oxford_flowers102\\2.1.1\n",
      "2022-07-18 14:32:08.721 INFO    absl: Reusing dataset oxford_flowers102 (C:\\Users\\lucas\\tensorflow_datasets\\oxford_flowers102\\2.1.1)\n",
      "2022-07-18 14:32:08.721 INFO    absl: Constructing tf.data.Dataset oxford_flowers102 for split ['train', 'validation'], from C:\\Users\\lucas\\tensorflow_datasets\\oxford_flowers102\\2.1.1\n",
      "2022-07-18 14:32:09.210 INFO    absl: Load dataset info from C:\\Users\\lucas\\tensorflow_datasets\\oxford_flowers102\\2.1.1\n",
      "2022-07-18 14:32:09.210 INFO    absl: Reusing dataset oxford_flowers102 (C:\\Users\\lucas\\tensorflow_datasets\\oxford_flowers102\\2.1.1)\n",
      "2022-07-18 14:32:09.221 INFO    absl: Constructing tf.data.Dataset oxford_flowers102 for split ['test'], from C:\\Users\\lucas\\tensorflow_datasets\\oxford_flowers102\\2.1.1\n"
     ]
    }
   ],
   "source": [
    "file_path = '../data/tfrecords/oxford_flowers102/resnet152v2'\n",
    "n_batches_concat = 10\n",
    "batch_size = 64\n",
    "data_augmentation = False\n",
    "base_model = 'resnet152v2'\n",
    "\n",
    "train_ds, test_ds, valid_ds, class_names = dataset_definition(sample_dataset='oxford_flowers102', batch_size=batch_size, img_height=224, img_width=224)\n",
    "train_ds = train_ds.map(tensor_argmax)\n",
    "test_ds = test_ds.map(tensor_argmax)\n",
    "valid_ds = valid_ds.map(tensor_argmax)\n",
    "model = make_base_model(img_height=224, img_width=224, transfer_learning=True, base_model=base_model, data_augmentation=data_augmentation)"
   ]
  },
  {
   "cell_type": "markdown",
   "id": "af6c7dbb",
   "metadata": {},
   "source": [
    "Store features:"
   ]
  },
  {
   "cell_type": "code",
   "execution_count": 7,
   "id": "f76d0581",
   "metadata": {},
   "outputs": [
    {
     "name": "stderr",
     "output_type": "stream",
     "text": [
      "100%|██████████████████████████████████████████████████████████████████████████████████| 16/16 [00:23<00:00,  1.49s/it]\n"
     ]
    }
   ],
   "source": [
    "write_tfrecord_dataset(dataset=train_ds, model=model, file_path=file_path + '/train/dataset_')"
   ]
  },
  {
   "cell_type": "code",
   "execution_count": null,
   "id": "81a2dfb0",
   "metadata": {},
   "outputs": [
    {
     "name": "stderr",
     "output_type": "stream",
     "text": [
      " 62%|██████████████████████████████████████████████████▋                               | 60/97 [00:59<00:50,  1.36s/it]"
     ]
    }
   ],
   "source": [
    "write_tfrecord_dataset(dataset=test_ds, model=model, file_path=file_path + '/test/dataset_')"
   ]
  },
  {
   "cell_type": "code",
   "execution_count": null,
   "id": "909eb542",
   "metadata": {},
   "outputs": [],
   "source": [
    "write_tfrecord_dataset(dataset=valid_ds, model=model, file_path=file_path + '/validation/dataset_')"
   ]
  },
  {
   "cell_type": "markdown",
   "id": "488c7cbc",
   "metadata": {},
   "source": [
    "model output size for one image:"
   ]
  },
  {
   "cell_type": "code",
   "execution_count": null,
   "id": "c92f5627",
   "metadata": {},
   "outputs": [],
   "source": [
    "image = list(train_ds.take(1))[0][0][0]\n",
    "print('Single image shape', image.shape)\n",
    "image = tf.expand_dims(image, axis=0)\n",
    "print('Image with batch dimension', image.shape)\n",
    "print('Model output shape', model.predict(image).shape)"
   ]
  },
  {
   "cell_type": "markdown",
   "id": "fbbf67d2",
   "metadata": {},
   "source": [
    "# VGG16"
   ]
  },
  {
   "cell_type": "markdown",
   "id": "33ddb6b3",
   "metadata": {},
   "source": [
    "#### Patch Camelyon dataset"
   ]
  },
  {
   "cell_type": "code",
   "execution_count": 6,
   "id": "c1e1cd1b",
   "metadata": {},
   "outputs": [
    {
     "name": "stderr",
     "output_type": "stream",
     "text": [
      "2022-07-14 13:47:02.529 INFO    absl: Load dataset info from C:\\Users\\lucas\\tensorflow_datasets\\patch_camelyon\\2.0.0\n",
      "2022-07-14 13:47:02.541 INFO    absl: Reusing dataset patch_camelyon (C:\\Users\\lucas\\tensorflow_datasets\\patch_camelyon\\2.0.0)\n",
      "2022-07-14 13:47:02.542 INFO    absl: Constructing tf.data.Dataset patch_camelyon for split ['train', 'validation'], from C:\\Users\\lucas\\tensorflow_datasets\\patch_camelyon\\2.0.0\n",
      "2022-07-14 13:47:03.479 INFO    absl: Load dataset info from C:\\Users\\lucas\\tensorflow_datasets\\patch_camelyon\\2.0.0\n",
      "2022-07-14 13:47:03.481 INFO    absl: Reusing dataset patch_camelyon (C:\\Users\\lucas\\tensorflow_datasets\\patch_camelyon\\2.0.0)\n",
      "2022-07-14 13:47:03.481 INFO    absl: Constructing tf.data.Dataset patch_camelyon for split ['test'], from C:\\Users\\lucas\\tensorflow_datasets\\patch_camelyon\\2.0.0\n"
     ]
    }
   ],
   "source": [
    "file_path = '../data/tfrecords/patch_camelyon/vgg16'\n",
    "n_batches_concat = 10\n",
    "batch_size = 128\n",
    "data_augmentation = False\n",
    "\n",
    "train_ds, test_ds, valid_ds, class_names = dataset_definition(sample_dataset='patch_camelyon', batch_size=batch_size, img_height=224, img_width=224)\n",
    "model = make_base_model(img_height=224, img_width=224, transfer_learning=True, base_model='vgg16', data_augmentation=data_augmentation)"
   ]
  },
  {
   "cell_type": "markdown",
   "id": "361c5547",
   "metadata": {},
   "source": [
    "Store features:"
   ]
  },
  {
   "cell_type": "code",
   "execution_count": 7,
   "id": "8a4c572b",
   "metadata": {},
   "outputs": [
    {
     "name": "stderr",
     "output_type": "stream",
     "text": [
      "100%|██████████████████████████████████████████████████████████████████████████████| 2048/2048 [47:13<00:00,  1.38s/it]\n"
     ]
    }
   ],
   "source": [
    "write_tfrecord_dataset(dataset=train_ds, model=model, file_path=file_path + '/train/dataset_')"
   ]
  },
  {
   "cell_type": "code",
   "execution_count": 8,
   "id": "4262bb91",
   "metadata": {},
   "outputs": [
    {
     "name": "stderr",
     "output_type": "stream",
     "text": [
      "100%|████████████████████████████████████████████████████████████████████████████████| 256/256 [05:59<00:00,  1.40s/it]\n"
     ]
    }
   ],
   "source": [
    "write_tfrecord_dataset(dataset=test_ds, model=model, file_path=file_path + '/test/dataset_')"
   ]
  },
  {
   "cell_type": "code",
   "execution_count": 9,
   "id": "bb7c5341",
   "metadata": {},
   "outputs": [
    {
     "name": "stderr",
     "output_type": "stream",
     "text": [
      "100%|████████████████████████████████████████████████████████████████████████████████| 256/256 [06:08<00:00,  1.44s/it]\n"
     ]
    }
   ],
   "source": [
    "write_tfrecord_dataset(dataset=valid_ds, model=model, file_path=file_path + '/validation/dataset_')"
   ]
  },
  {
   "cell_type": "markdown",
   "id": "25f8c7ae",
   "metadata": {},
   "source": [
    "model output size for one image:"
   ]
  },
  {
   "cell_type": "code",
   "execution_count": 7,
   "id": "6ec05a23",
   "metadata": {},
   "outputs": [
    {
     "name": "stdout",
     "output_type": "stream",
     "text": [
      "Single image shape (224, 224, 3)\n",
      "Image with batch dimension (1, 224, 224, 3)\n",
      "Model output shape (1, 7, 7, 512)\n"
     ]
    }
   ],
   "source": [
    "image = list(train_ds.take(1))[0][0][0]\n",
    "print('Single image shape', image.shape)\n",
    "image = tf.expand_dims(image, axis=0)\n",
    "print('Image with batch dimension', image.shape)\n",
    "print('Model output shape', model.predict(image).shape)"
   ]
  },
  {
   "cell_type": "markdown",
   "id": "b6427650",
   "metadata": {},
   "source": [
    "# Inception V3"
   ]
  },
  {
   "cell_type": "markdown",
   "id": "c7875f50",
   "metadata": {},
   "source": [
    "#### Patch Camelyon dataset"
   ]
  },
  {
   "cell_type": "code",
   "execution_count": 6,
   "id": "ea51bf37",
   "metadata": {},
   "outputs": [
    {
     "name": "stderr",
     "output_type": "stream",
     "text": [
      "2022-07-14 23:21:28.687 INFO    absl: Load dataset info from C:\\Users\\lucas\\tensorflow_datasets\\patch_camelyon\\2.0.0\n",
      "2022-07-14 23:21:28.718 INFO    absl: Reusing dataset patch_camelyon (C:\\Users\\lucas\\tensorflow_datasets\\patch_camelyon\\2.0.0)\n",
      "2022-07-14 23:21:28.718 INFO    absl: Constructing tf.data.Dataset patch_camelyon for split ['train', 'validation'], from C:\\Users\\lucas\\tensorflow_datasets\\patch_camelyon\\2.0.0\n",
      "2022-07-14 23:21:29.286 INFO    absl: Load dataset info from C:\\Users\\lucas\\tensorflow_datasets\\patch_camelyon\\2.0.0\n",
      "2022-07-14 23:21:29.288 INFO    absl: Reusing dataset patch_camelyon (C:\\Users\\lucas\\tensorflow_datasets\\patch_camelyon\\2.0.0)\n",
      "2022-07-14 23:21:29.289 INFO    absl: Constructing tf.data.Dataset patch_camelyon for split ['test'], from C:\\Users\\lucas\\tensorflow_datasets\\patch_camelyon\\2.0.0\n"
     ]
    }
   ],
   "source": [
    "file_path = '../data/tfrecords/patch_camelyon/inceptionv3'\n",
    "n_batches_concat = 10\n",
    "batch_size = 128\n",
    "data_augmentation = False\n",
    "\n",
    "train_ds, test_ds, valid_ds, class_names = dataset_definition(sample_dataset='patch_camelyon', batch_size=batch_size, img_height=224, img_width=224)\n",
    "model = make_base_model(img_height=224, img_width=224, transfer_learning=True, base_model='inception_v3', data_augmentation=data_augmentation)"
   ]
  },
  {
   "cell_type": "markdown",
   "id": "f63264d4",
   "metadata": {},
   "source": [
    "Store features:"
   ]
  },
  {
   "cell_type": "code",
   "execution_count": 7,
   "id": "6fa4fa88",
   "metadata": {},
   "outputs": [
    {
     "name": "stderr",
     "output_type": "stream",
     "text": [
      "100%|██████████████████████████████████████████████████████████████████████████████| 2048/2048 [26:04<00:00,  1.31it/s]\n"
     ]
    }
   ],
   "source": [
    "write_tfrecord_dataset(dataset=train_ds, model=model, file_path=file_path + '/train/dataset_')"
   ]
  },
  {
   "cell_type": "code",
   "execution_count": 8,
   "id": "a10f4489",
   "metadata": {},
   "outputs": [
    {
     "name": "stderr",
     "output_type": "stream",
     "text": [
      "100%|████████████████████████████████████████████████████████████████████████████████| 256/256 [03:14<00:00,  1.32it/s]\n"
     ]
    }
   ],
   "source": [
    "write_tfrecord_dataset(dataset=test_ds, model=model, file_path=file_path + '/test/dataset_')"
   ]
  },
  {
   "cell_type": "code",
   "execution_count": 9,
   "id": "85f178c2",
   "metadata": {},
   "outputs": [
    {
     "name": "stderr",
     "output_type": "stream",
     "text": [
      "100%|████████████████████████████████████████████████████████████████████████████████| 256/256 [03:14<00:00,  1.32it/s]\n"
     ]
    }
   ],
   "source": [
    "write_tfrecord_dataset(dataset=valid_ds, model=model, file_path=file_path + '/validation/dataset_')"
   ]
  },
  {
   "cell_type": "markdown",
   "id": "1a7af30f",
   "metadata": {},
   "source": [
    "model output size for one image:"
   ]
  },
  {
   "cell_type": "code",
   "execution_count": 10,
   "id": "7f2856e9",
   "metadata": {},
   "outputs": [
    {
     "name": "stdout",
     "output_type": "stream",
     "text": [
      "Single image shape (224, 224, 3)\n",
      "Image with batch dimension (1, 224, 224, 3)\n",
      "Model output shape (1, 5, 5, 2048)\n"
     ]
    }
   ],
   "source": [
    "image = list(train_ds.take(1))[0][0][0]\n",
    "print('Single image shape', image.shape)\n",
    "image = tf.expand_dims(image, axis=0)\n",
    "print('Image with batch dimension', image.shape)\n",
    "print('Model output shape', model.predict(image).shape)"
   ]
  },
  {
   "cell_type": "markdown",
   "id": "bb5119f1",
   "metadata": {},
   "source": [
    "# VGG19"
   ]
  },
  {
   "cell_type": "markdown",
   "id": "f0d8d078",
   "metadata": {},
   "source": [
    "#### Patch Camelyon dataset"
   ]
  },
  {
   "cell_type": "code",
   "execution_count": 6,
   "id": "1af62797",
   "metadata": {},
   "outputs": [
    {
     "name": "stderr",
     "output_type": "stream",
     "text": [
      "2022-07-15 10:34:49.084 INFO    absl: Load dataset info from C:\\Users\\lucas\\tensorflow_datasets\\patch_camelyon\\2.0.0\n",
      "2022-07-15 10:34:49.084 INFO    absl: Reusing dataset patch_camelyon (C:\\Users\\lucas\\tensorflow_datasets\\patch_camelyon\\2.0.0)\n",
      "2022-07-15 10:34:49.084 INFO    absl: Constructing tf.data.Dataset patch_camelyon for split ['train', 'validation'], from C:\\Users\\lucas\\tensorflow_datasets\\patch_camelyon\\2.0.0\n",
      "2022-07-15 10:34:49.141 INFO    absl: Load dataset info from C:\\Users\\lucas\\tensorflow_datasets\\patch_camelyon\\2.0.0\n",
      "2022-07-15 10:34:49.143 INFO    absl: Reusing dataset patch_camelyon (C:\\Users\\lucas\\tensorflow_datasets\\patch_camelyon\\2.0.0)\n",
      "2022-07-15 10:34:49.144 INFO    absl: Constructing tf.data.Dataset patch_camelyon for split ['test'], from C:\\Users\\lucas\\tensorflow_datasets\\patch_camelyon\\2.0.0\n"
     ]
    }
   ],
   "source": [
    "file_path = '../data/tfrecords/patch_camelyon/vgg19'\n",
    "n_batches_concat = 10\n",
    "batch_size = 128\n",
    "data_augmentation = False\n",
    "base_model = 'vgg19'\n",
    "\n",
    "train_ds, test_ds, valid_ds, class_names = dataset_definition(sample_dataset='patch_camelyon', batch_size=batch_size, img_height=224, img_width=224)\n",
    "model = make_base_model(img_height=224, img_width=224, transfer_learning=True, base_model=base_model, data_augmentation=data_augmentation)"
   ]
  },
  {
   "cell_type": "markdown",
   "id": "30e2a4f3",
   "metadata": {},
   "source": [
    "Store features:"
   ]
  },
  {
   "cell_type": "code",
   "execution_count": 7,
   "id": "357494f6",
   "metadata": {},
   "outputs": [
    {
     "name": "stderr",
     "output_type": "stream",
     "text": [
      "100%|██████████████████████████████████████████████████████████████████████████████| 2048/2048 [53:12<00:00,  1.56s/it]\n"
     ]
    }
   ],
   "source": [
    "write_tfrecord_dataset(dataset=train_ds, model=model, file_path=file_path + '/train/dataset_')"
   ]
  },
  {
   "cell_type": "code",
   "execution_count": 8,
   "id": "19010ce2",
   "metadata": {},
   "outputs": [
    {
     "name": "stderr",
     "output_type": "stream",
     "text": [
      "100%|████████████████████████████████████████████████████████████████████████████████| 256/256 [06:32<00:00,  1.53s/it]\n"
     ]
    }
   ],
   "source": [
    "write_tfrecord_dataset(dataset=test_ds, model=model, file_path=file_path + '/test/dataset_')"
   ]
  },
  {
   "cell_type": "code",
   "execution_count": 9,
   "id": "26a1eae9",
   "metadata": {},
   "outputs": [
    {
     "name": "stderr",
     "output_type": "stream",
     "text": [
      "100%|████████████████████████████████████████████████████████████████████████████████| 256/256 [06:37<00:00,  1.55s/it]\n"
     ]
    }
   ],
   "source": [
    "write_tfrecord_dataset(dataset=valid_ds, model=model, file_path=file_path + '/validation/dataset_')"
   ]
  },
  {
   "cell_type": "markdown",
   "id": "a9c87c26",
   "metadata": {},
   "source": [
    "model output size for one image:"
   ]
  },
  {
   "cell_type": "code",
   "execution_count": 10,
   "id": "2d9be52a",
   "metadata": {},
   "outputs": [
    {
     "name": "stdout",
     "output_type": "stream",
     "text": [
      "Single image shape (224, 224, 3)\n",
      "Image with batch dimension (1, 224, 224, 3)\n",
      "Model output shape (1, 7, 7, 512)\n"
     ]
    }
   ],
   "source": [
    "image = list(train_ds.take(1))[0][0][0]\n",
    "print('Single image shape', image.shape)\n",
    "image = tf.expand_dims(image, axis=0)\n",
    "print('Image with batch dimension', image.shape)\n",
    "print('Model output shape', model.predict(image).shape)"
   ]
  },
  {
   "cell_type": "markdown",
   "id": "fc849258",
   "metadata": {},
   "source": [
    "# Resnet 50"
   ]
  },
  {
   "cell_type": "markdown",
   "id": "bb6ea86c",
   "metadata": {},
   "source": [
    "#### Patch Camelyon dataset"
   ]
  },
  {
   "cell_type": "code",
   "execution_count": 5,
   "id": "90923b22",
   "metadata": {},
   "outputs": [
    {
     "name": "stderr",
     "output_type": "stream",
     "text": [
      "2022-07-15 17:31:44.089 INFO    absl: Load dataset info from C:\\Users\\lucas\\tensorflow_datasets\\patch_camelyon\\2.0.0\n",
      "2022-07-15 17:31:44.120 INFO    absl: Reusing dataset patch_camelyon (C:\\Users\\lucas\\tensorflow_datasets\\patch_camelyon\\2.0.0)\n",
      "2022-07-15 17:31:44.121 INFO    absl: Constructing tf.data.Dataset patch_camelyon for split ['train', 'validation'], from C:\\Users\\lucas\\tensorflow_datasets\\patch_camelyon\\2.0.0\n",
      "2022-07-15 17:31:44.888 INFO    absl: Load dataset info from C:\\Users\\lucas\\tensorflow_datasets\\patch_camelyon\\2.0.0\n",
      "2022-07-15 17:31:44.901 INFO    absl: Reusing dataset patch_camelyon (C:\\Users\\lucas\\tensorflow_datasets\\patch_camelyon\\2.0.0)\n",
      "2022-07-15 17:31:44.901 INFO    absl: Constructing tf.data.Dataset patch_camelyon for split ['test'], from C:\\Users\\lucas\\tensorflow_datasets\\patch_camelyon\\2.0.0\n"
     ]
    }
   ],
   "source": [
    "file_path = '../data/tfrecords/patch_camelyon/resnet50'\n",
    "n_batches_concat = 10\n",
    "batch_size = 128\n",
    "data_augmentation = False\n",
    "base_model = 'resnet50'\n",
    "\n",
    "train_ds, test_ds, valid_ds, class_names = dataset_definition(sample_dataset='patch_camelyon', batch_size=batch_size, img_height=224, img_width=224)\n",
    "model = make_base_model(img_height=224, img_width=224, transfer_learning=True, base_model=base_model, data_augmentation=data_augmentation)"
   ]
  },
  {
   "cell_type": "markdown",
   "id": "1788e5b5",
   "metadata": {},
   "source": [
    "Store features:"
   ]
  },
  {
   "cell_type": "code",
   "execution_count": 6,
   "id": "f89de725",
   "metadata": {},
   "outputs": [
    {
     "name": "stderr",
     "output_type": "stream",
     "text": [
      "100%|██████████████████████████████████████████████████████████████████████████████| 2048/2048 [44:19<00:00,  1.30s/it]\n"
     ]
    }
   ],
   "source": [
    "write_tfrecord_dataset(dataset=train_ds, model=model, file_path=file_path + '/train/dataset_')"
   ]
  },
  {
   "cell_type": "code",
   "execution_count": 7,
   "id": "268a26ef",
   "metadata": {},
   "outputs": [
    {
     "name": "stderr",
     "output_type": "stream",
     "text": [
      "100%|████████████████████████████████████████████████████████████████████████████████| 256/256 [05:30<00:00,  1.29s/it]\n"
     ]
    }
   ],
   "source": [
    "write_tfrecord_dataset(dataset=test_ds, model=model, file_path=file_path + '/test/dataset_')"
   ]
  },
  {
   "cell_type": "code",
   "execution_count": 8,
   "id": "1bee3c32",
   "metadata": {},
   "outputs": [
    {
     "name": "stderr",
     "output_type": "stream",
     "text": [
      "100%|████████████████████████████████████████████████████████████████████████████████| 256/256 [05:22<00:00,  1.26s/it]\n"
     ]
    }
   ],
   "source": [
    "write_tfrecord_dataset(dataset=valid_ds, model=model, file_path=file_path + '/validation/dataset_')"
   ]
  },
  {
   "cell_type": "markdown",
   "id": "49e29ded",
   "metadata": {},
   "source": [
    "model output size for one image:"
   ]
  },
  {
   "cell_type": "code",
   "execution_count": 9,
   "id": "2a3b2f05",
   "metadata": {},
   "outputs": [
    {
     "name": "stdout",
     "output_type": "stream",
     "text": [
      "Single image shape (224, 224, 3)\n",
      "Image with batch dimension (1, 224, 224, 3)\n",
      "Model output shape (1, 7, 7, 2048)\n"
     ]
    }
   ],
   "source": [
    "image = list(train_ds.take(1))[0][0][0]\n",
    "print('Single image shape', image.shape)\n",
    "image = tf.expand_dims(image, axis=0)\n",
    "print('Image with batch dimension', image.shape)\n",
    "print('Model output shape', model.predict(image).shape)"
   ]
  },
  {
   "cell_type": "markdown",
   "id": "83cdc643",
   "metadata": {},
   "source": [
    "# Densenet 121"
   ]
  },
  {
   "cell_type": "markdown",
   "id": "4be57f3e",
   "metadata": {},
   "source": [
    "#### Patch Camelyon dataset"
   ]
  },
  {
   "cell_type": "code",
   "execution_count": 5,
   "id": "b6699b10",
   "metadata": {},
   "outputs": [
    {
     "name": "stderr",
     "output_type": "stream",
     "text": [
      "2022-07-16 15:32:44.455 INFO    absl: Load dataset info from C:\\Users\\lucas\\tensorflow_datasets\\patch_camelyon\\2.0.0\n",
      "2022-07-16 15:32:44.474 INFO    absl: Reusing dataset patch_camelyon (C:\\Users\\lucas\\tensorflow_datasets\\patch_camelyon\\2.0.0)\n",
      "2022-07-16 15:32:44.475 INFO    absl: Constructing tf.data.Dataset patch_camelyon for split ['train', 'validation'], from C:\\Users\\lucas\\tensorflow_datasets\\patch_camelyon\\2.0.0\n",
      "2022-07-16 15:32:45.018 INFO    absl: Load dataset info from C:\\Users\\lucas\\tensorflow_datasets\\patch_camelyon\\2.0.0\n",
      "2022-07-16 15:32:45.025 INFO    absl: Reusing dataset patch_camelyon (C:\\Users\\lucas\\tensorflow_datasets\\patch_camelyon\\2.0.0)\n",
      "2022-07-16 15:32:45.025 INFO    absl: Constructing tf.data.Dataset patch_camelyon for split ['test'], from C:\\Users\\lucas\\tensorflow_datasets\\patch_camelyon\\2.0.0\n"
     ]
    }
   ],
   "source": [
    "file_path = '../data/tfrecords/patch_camelyon/densenet121'\n",
    "n_batches_concat = 10\n",
    "batch_size = 128\n",
    "data_augmentation = False\n",
    "base_model = 'densenet121'\n",
    "\n",
    "train_ds, test_ds, valid_ds, class_names = dataset_definition(sample_dataset='patch_camelyon', batch_size=batch_size, img_height=224, img_width=224)\n",
    "model = make_base_model(img_height=224, img_width=224, transfer_learning=True, base_model=base_model, data_augmentation=data_augmentation)"
   ]
  },
  {
   "cell_type": "markdown",
   "id": "c8cfba4f",
   "metadata": {},
   "source": [
    "Store features:"
   ]
  },
  {
   "cell_type": "code",
   "execution_count": 6,
   "id": "addec233",
   "metadata": {},
   "outputs": [
    {
     "name": "stderr",
     "output_type": "stream",
     "text": [
      "100%|██████████████████████████████████████████████████████████████████████████████| 2048/2048 [37:04<00:00,  1.09s/it]\n"
     ]
    }
   ],
   "source": [
    "write_tfrecord_dataset(dataset=train_ds, model=model, file_path=file_path + '/train/dataset_')"
   ]
  },
  {
   "cell_type": "code",
   "execution_count": 7,
   "id": "0cd39d12",
   "metadata": {},
   "outputs": [
    {
     "name": "stderr",
     "output_type": "stream",
     "text": [
      "100%|████████████████████████████████████████████████████████████████████████████████| 256/256 [04:49<00:00,  1.13s/it]\n"
     ]
    }
   ],
   "source": [
    "write_tfrecord_dataset(dataset=test_ds, model=model, file_path=file_path + '/test/dataset_')"
   ]
  },
  {
   "cell_type": "code",
   "execution_count": 8,
   "id": "fb361542",
   "metadata": {},
   "outputs": [
    {
     "name": "stderr",
     "output_type": "stream",
     "text": [
      "100%|████████████████████████████████████████████████████████████████████████████████| 256/256 [04:41<00:00,  1.10s/it]\n"
     ]
    }
   ],
   "source": [
    "write_tfrecord_dataset(dataset=valid_ds, model=model, file_path=file_path + '/validation/dataset_')"
   ]
  },
  {
   "cell_type": "markdown",
   "id": "a62adc1f",
   "metadata": {},
   "source": [
    "model output size for one image:"
   ]
  },
  {
   "cell_type": "code",
   "execution_count": 6,
   "id": "72da10a5",
   "metadata": {},
   "outputs": [
    {
     "name": "stdout",
     "output_type": "stream",
     "text": [
      "Single image shape (224, 224, 3)\n",
      "Image with batch dimension (1, 224, 224, 3)\n",
      "Model output shape (1, 7, 7, 1024)\n"
     ]
    }
   ],
   "source": [
    "image = list(train_ds.take(1))[0][0][0]\n",
    "print('Single image shape', image.shape)\n",
    "image = tf.expand_dims(image, axis=0)\n",
    "print('Image with batch dimension', image.shape)\n",
    "print('Model output shape', model.predict(image).shape)"
   ]
  },
  {
   "cell_type": "markdown",
   "id": "7518a3d4",
   "metadata": {},
   "source": [
    "# Densenet 201"
   ]
  },
  {
   "cell_type": "markdown",
   "id": "11a8dff6",
   "metadata": {},
   "source": [
    "#### Patch Camelyon dataset"
   ]
  },
  {
   "cell_type": "code",
   "execution_count": 5,
   "id": "3dc5e3d2",
   "metadata": {},
   "outputs": [
    {
     "name": "stderr",
     "output_type": "stream",
     "text": [
      "2022-07-18 13:39:56.705 INFO    absl: Load dataset info from C:\\Users\\lucas\\tensorflow_datasets\\patch_camelyon\\2.0.0\n",
      "2022-07-18 13:39:56.726 INFO    absl: Reusing dataset patch_camelyon (C:\\Users\\lucas\\tensorflow_datasets\\patch_camelyon\\2.0.0)\n",
      "2022-07-18 13:39:56.726 INFO    absl: Constructing tf.data.Dataset patch_camelyon for split ['train', 'validation'], from C:\\Users\\lucas\\tensorflow_datasets\\patch_camelyon\\2.0.0\n",
      "2022-07-18 13:39:57.918 INFO    absl: Load dataset info from C:\\Users\\lucas\\tensorflow_datasets\\patch_camelyon\\2.0.0\n",
      "2022-07-18 13:39:57.920 INFO    absl: Reusing dataset patch_camelyon (C:\\Users\\lucas\\tensorflow_datasets\\patch_camelyon\\2.0.0)\n",
      "2022-07-18 13:39:57.921 INFO    absl: Constructing tf.data.Dataset patch_camelyon for split ['test'], from C:\\Users\\lucas\\tensorflow_datasets\\patch_camelyon\\2.0.0\n"
     ]
    }
   ],
   "source": [
    "file_path = '../data/tfrecords/patch_camelyon/densenet201'\n",
    "n_batches_concat = 10\n",
    "batch_size = 128\n",
    "data_augmentation = False\n",
    "base_model = 'densenet201'\n",
    "\n",
    "train_ds, test_ds, valid_ds, class_names = dataset_definition(sample_dataset='patch_camelyon', batch_size=batch_size, img_height=224, img_width=224)\n",
    "model = make_base_model(img_height=224, img_width=224, transfer_learning=True, base_model=base_model, data_augmentation=data_augmentation)"
   ]
  },
  {
   "cell_type": "markdown",
   "id": "3a1e157a",
   "metadata": {},
   "source": [
    "Store features:"
   ]
  },
  {
   "cell_type": "code",
   "execution_count": 7,
   "id": "a21c05c4",
   "metadata": {},
   "outputs": [
    {
     "name": "stderr",
     "output_type": "stream",
     "text": [
      "100%|██████████████████████████████████████████████████████████████████████████████████| 20/20 [00:26<00:00,  1.30s/it]\n"
     ]
    }
   ],
   "source": [
    "write_tfrecord_dataset(dataset=train_ds, model=model, file_path=file_path + '/train/dataset_')"
   ]
  },
  {
   "cell_type": "code",
   "execution_count": 8,
   "id": "fbd4a071",
   "metadata": {},
   "outputs": [
    {
     "name": "stderr",
     "output_type": "stream",
     "text": [
      "100%|██████████████████████████████████████████████████████████████████████████████████| 20/20 [00:23<00:00,  1.16s/it]\n"
     ]
    }
   ],
   "source": [
    "write_tfrecord_dataset(dataset=test_ds, model=model, file_path=file_path + '/test/dataset_')"
   ]
  },
  {
   "cell_type": "code",
   "execution_count": 8,
   "id": "3cd5e9e8",
   "metadata": {},
   "outputs": [
    {
     "name": "stderr",
     "output_type": "stream",
     "text": [
      "100%|████████████████████████████████████████████████████████████████████████████████| 256/256 [07:13<00:00,  1.69s/it]\n"
     ]
    }
   ],
   "source": [
    "write_tfrecord_dataset(dataset=valid_ds, model=model, file_path=file_path + '/validation/dataset_')"
   ]
  },
  {
   "cell_type": "markdown",
   "id": "cb8fa6ab",
   "metadata": {},
   "source": [
    "model output size for one image:"
   ]
  },
  {
   "cell_type": "code",
   "execution_count": 6,
   "id": "d496d5fd",
   "metadata": {},
   "outputs": [
    {
     "name": "stdout",
     "output_type": "stream",
     "text": [
      "Single image shape (224, 224, 3)\n",
      "Image with batch dimension (1, 224, 224, 3)\n",
      "Model output shape (1, 7, 7, 1920)\n"
     ]
    }
   ],
   "source": [
    "image = list(train_ds.take(1))[0][0][0]\n",
    "print('Single image shape', image.shape)\n",
    "image = tf.expand_dims(image, axis=0)\n",
    "print('Image with batch dimension', image.shape)\n",
    "print('Model output shape', model.predict(image).shape)"
   ]
  },
  {
   "cell_type": "code",
   "execution_count": null,
   "id": "bbb91410",
   "metadata": {},
   "outputs": [],
   "source": []
  }
 ],
 "metadata": {
  "kernelspec": {
   "display_name": "Python 3 (ipykernel)",
   "language": "python",
   "name": "python3"
  },
  "language_info": {
   "codemirror_mode": {
    "name": "ipython",
    "version": 3
   },
   "file_extension": ".py",
   "mimetype": "text/x-python",
   "name": "python",
   "nbconvert_exporter": "python",
   "pygments_lexer": "ipython3",
   "version": "3.9.9"
  }
 },
 "nbformat": 4,
 "nbformat_minor": 5
}
