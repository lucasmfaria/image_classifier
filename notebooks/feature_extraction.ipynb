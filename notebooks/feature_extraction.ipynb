{
 "cells": [
  {
   "cell_type": "code",
   "execution_count": 1,
   "id": "ba06af36",
   "metadata": {},
   "outputs": [],
   "source": [
    "%load_ext autoreload\n",
    "%autoreload 2"
   ]
  },
  {
   "cell_type": "code",
   "execution_count": 2,
   "id": "472a5498",
   "metadata": {},
   "outputs": [],
   "source": [
    "from pathlib import Path\n",
    "import sys\n",
    "try:\n",
    "    from utils.model import make_model, freeze_all_base_model, unfreeze_last_base_model, loss_definition, initial_model, \\\n",
    "        callbacks_definition, train\n",
    "    from utils.data import filter_binary_labels, optimize_dataset, prepare_sample_dataset, true_or_false, \\\n",
    "        dataset_definition\n",
    "except ModuleNotFoundError:\n",
    "    sys.path.insert(0, str(Path('.').resolve().parent))\n",
    "    from utils.model import make_model, freeze_all_base_model, unfreeze_last_base_model, loss_definition, initial_model, \\\n",
    "        callbacks_definition, train\n",
    "    from utils.data import filter_binary_labels, optimize_dataset, prepare_sample_dataset, true_or_false, \\\n",
    "        dataset_definition"
   ]
  },
  {
   "cell_type": "code",
   "execution_count": 3,
   "id": "acb4b91a",
   "metadata": {},
   "outputs": [],
   "source": [
    "import tensorflow as tf\n",
    "import tensorflow.keras.layers as layers\n",
    "import tensorflow.keras.applications.vgg16 as vgg16\n",
    "import tensorflow_datasets as tfds\n",
    "from tensorflow.keras.applications import vgg16, vgg19, densenet, resnet_v2, inception_v3, resnet50, resnet"
   ]
  },
  {
   "cell_type": "code",
   "execution_count": 4,
   "id": "3b139279",
   "metadata": {},
   "outputs": [],
   "source": [
    "file_path = '../data/tfrecords/patch_camelyon/resnet152v2'\n",
    "n_batches_concat = 10\n",
    "batch_size = 64"
   ]
  },
  {
   "cell_type": "code",
   "execution_count": 5,
   "id": "6bd62c57",
   "metadata": {},
   "outputs": [
    {
     "name": "stderr",
     "output_type": "stream",
     "text": [
      "2022-07-04 23:47:17.809 INFO    absl: Load dataset info from C:\\Users\\lucas\\tensorflow_datasets\\patch_camelyon\\2.0.0\n",
      "2022-07-04 23:47:17.820 INFO    absl: Reusing dataset patch_camelyon (C:\\Users\\lucas\\tensorflow_datasets\\patch_camelyon\\2.0.0)\n",
      "2022-07-04 23:47:17.821 INFO    absl: Constructing tf.data.Dataset patch_camelyon for split ['train', 'validation'], from C:\\Users\\lucas\\tensorflow_datasets\\patch_camelyon\\2.0.0\n",
      "2022-07-04 23:47:20.044 INFO    absl: Load dataset info from C:\\Users\\lucas\\tensorflow_datasets\\patch_camelyon\\2.0.0\n",
      "2022-07-04 23:47:20.046 INFO    absl: Reusing dataset patch_camelyon (C:\\Users\\lucas\\tensorflow_datasets\\patch_camelyon\\2.0.0)\n",
      "2022-07-04 23:47:20.047 INFO    absl: Constructing tf.data.Dataset patch_camelyon for split ['test'], from C:\\Users\\lucas\\tensorflow_datasets\\patch_camelyon\\2.0.0\n"
     ]
    }
   ],
   "source": [
    "train_ds, test_ds, valid_ds, class_names = dataset_definition(sample_dataset='patch_camelyon', batch_size=batch_size, img_height=224, img_width=224)"
   ]
  },
  {
   "cell_type": "code",
   "execution_count": 6,
   "id": "e5c368f0",
   "metadata": {},
   "outputs": [],
   "source": [
    "def make_base_model(img_height=224, img_width=224, transfer_learning=True, base_model='vgg16'):\n",
    "    if transfer_learning:\n",
    "        weights = 'imagenet'\n",
    "    else:\n",
    "        weights = None\n",
    "    \n",
    "    if base_model == 'vgg16':\n",
    "        base_model_net = vgg16.VGG16(include_top=False, weights=weights)\n",
    "        preprocess_layer = vgg16.preprocess_input\n",
    "    if base_model == 'vgg19':\n",
    "        base_model_net = vgg19.VGG19(include_top=False, weights=weights)\n",
    "        preprocess_layer = vgg19.preprocess_input\n",
    "    elif base_model == 'densenet201':\n",
    "        base_model_net = densenet.DenseNet201(include_top=False, weights=weights)\n",
    "        preprocess_layer = densenet.preprocess_input\n",
    "    elif base_model == 'densenet169':\n",
    "        base_model_net = densenet.DenseNet169(include_top=False, weights=weights)\n",
    "        preprocess_layer = densenet.preprocess_input\n",
    "    elif base_model == 'densenet121':\n",
    "        base_model_net = densenet.DenseNet121(include_top=False, weights=weights)\n",
    "        preprocess_layer = densenet.preprocess_input\n",
    "    elif base_model == 'resnet152v2':\n",
    "        base_model_net = resnet_v2.ResNet152V2(include_top=False, weights=weights)\n",
    "        preprocess_layer = resnet_v2.preprocess_input\n",
    "    elif base_model == 'resnet50':\n",
    "        base_model_net = resnet50.ResNet50(include_top=False, weights=weights)\n",
    "        preprocess_layer = resnet50.preprocess_input\n",
    "    elif base_model == 'resnet152':\n",
    "        base_model_net = resnet.ResNet152(include_top=False, weights=weights)\n",
    "        preprocess_layer = resnet.preprocess_input \n",
    "    elif base_model == 'resnet101':\n",
    "        base_model_net = resnet.ResNet101(include_top=False, weights=weights)\n",
    "        preprocess_layer = resnet.preprocess_input\n",
    "    elif base_model == 'inception_v3':\n",
    "        base_model_net = inception_v3.InceptionV3(include_top=False, weights=weights)\n",
    "        preprocess_layer = inception_v3.preprocess_input\n",
    "    \n",
    "    '''\n",
    "    data_augmentation = tf.keras.Sequential([\n",
    "        layers.experimental.preprocessing.RandomFlip('horizontal'),\n",
    "        layers.experimental.preprocessing.RandomRotation(0.2),\n",
    "    ])\n",
    "    '''\n",
    "    \n",
    "    inputs = layers.Input(shape=(img_height, img_width, 3))\n",
    "    #x = data_augmentation(inputs)\n",
    "    x = preprocess_layer(inputs)\n",
    "    outputs = base_model_net(x, training=False)\n",
    "    model = tf.keras.Model(inputs, outputs)\n",
    "    \n",
    "    return model"
   ]
  },
  {
   "cell_type": "code",
   "execution_count": 7,
   "id": "d998e0c0",
   "metadata": {},
   "outputs": [],
   "source": [
    "model = make_base_model(img_height=224, img_width=224, transfer_learning=True, base_model='resnet152v2')"
   ]
  },
  {
   "cell_type": "code",
   "execution_count": 8,
   "id": "465cebc2",
   "metadata": {},
   "outputs": [],
   "source": [
    "from tqdm import tqdm\n",
    "import numpy as np\n",
    "import gc"
   ]
  },
  {
   "cell_type": "code",
   "execution_count": 9,
   "id": "beca8f8b",
   "metadata": {},
   "outputs": [],
   "source": [
    "def _bytes_feature(value):\n",
    "    \"\"\"Returns a bytes_list from a string / byte.\"\"\"\n",
    "    if isinstance(value, type(tf.constant(0))): # if value ist tensor\n",
    "        value = value.numpy() # get value of tensor\n",
    "    return tf.train.Feature(bytes_list=tf.train.BytesList(value=[value]))\n",
    "\n",
    "def _float_feature(value):\n",
    "    \"\"\"Returns a floast_list from a float / double.\"\"\"\n",
    "    return tf.train.Feature(float_list=tf.train.FloatList(value=[value]))\n",
    "\n",
    "def _int64_feature(value):\n",
    "    \"\"\"Returns an int64_list from a bool / enum / int / uint.\"\"\"\n",
    "    return tf.train.Feature(int64_list=tf.train.Int64List(value=[value]))\n",
    "\n",
    "def serialize_array(array):\n",
    "    array = tf.io.serialize_tensor(array)\n",
    "    return array\n",
    "\n",
    "def parse_single_image(image, label):\n",
    "    #define the dictionary -- the structure -- of our single example\n",
    "    data = {\n",
    "        'height' : _int64_feature(image.shape[0]),\n",
    "        'width' : _int64_feature(image.shape[1]),\n",
    "        'depth' : _int64_feature(image.shape[2]),\n",
    "        'raw_image' : _bytes_feature(serialize_array(image)),\n",
    "        'label' : _int64_feature(label)\n",
    "    }\n",
    "    #create an Example, wrapping the single features\n",
    "    out = tf.train.Example(features=tf.train.Features(feature=data))\n",
    "    \n",
    "    return out\n",
    "\n",
    "def write_images(images, labels, filename:str=\"images\"):\n",
    "    filename= str(Path(filename+\".tfrecords\").resolve())\n",
    "    writer = tf.io.TFRecordWriter(filename)\n",
    "    count = 0\n",
    "    \n",
    "    for index in range(len(images)):\n",
    "        current_image = images[index] \n",
    "        current_label = labels[index]\n",
    "        \n",
    "        out = parse_single_image(image=current_image, label=current_label)\n",
    "        writer.write(out.SerializeToString())\n",
    "        count += 1\n",
    "    \n",
    "    writer.close()\n",
    "    #print(f\"Wrote {count} elements to TFRecord\")\n",
    "    return count\n",
    "\n",
    "def write_tfrecord_dataset(dataset, model, file_path):\n",
    "    images_concat = None\n",
    "    labels_concat = None\n",
    "    batches_count = 0\n",
    "    batches_count_name = 0\n",
    "    for images, labels in tqdm(dataset):\n",
    "        if images_concat is None:\n",
    "            images_concat = model.predict(images)\n",
    "        else:\n",
    "            images_concat = np.concatenate([images_concat, model.predict(images)])\n",
    "\n",
    "        if labels_concat is None:\n",
    "            labels_concat = labels.numpy()\n",
    "        else:\n",
    "            labels_concat = np.concatenate([labels_concat, labels.numpy()])\n",
    "\n",
    "        batches_count = batches_count + 1\n",
    "\n",
    "        if batches_count == n_batches_concat:\n",
    "            batches_count = 0\n",
    "            batches_count_name = batches_count_name + 1\n",
    "            write_images(images_concat, labels_concat, filename=file_path + str(batches_count_name))\n",
    "            images_concat = None\n",
    "            labels_concat = None\n",
    "            gc.collect();"
   ]
  },
  {
   "cell_type": "code",
   "execution_count": 10,
   "id": "bf2dfef5",
   "metadata": {},
   "outputs": [
    {
     "name": "stderr",
     "output_type": "stream",
     "text": [
      "100%|████████████████████████████████████████████████████████████████████████████| 4096/4096 [1:05:40<00:00,  1.04it/s]\n"
     ]
    }
   ],
   "source": [
    "write_tfrecord_dataset(dataset=train_ds, model=model, file_path=file_path + '/train/dataset_')"
   ]
  },
  {
   "cell_type": "code",
   "execution_count": 11,
   "id": "ca372687",
   "metadata": {},
   "outputs": [
    {
     "name": "stderr",
     "output_type": "stream",
     "text": [
      "100%|████████████████████████████████████████████████████████████████████████████████| 512/512 [08:42<00:00,  1.02s/it]\n"
     ]
    }
   ],
   "source": [
    "write_tfrecord_dataset(dataset=test_ds, model=model, file_path=file_path + '/test/dataset_')"
   ]
  },
  {
   "cell_type": "code",
   "execution_count": 12,
   "id": "8d70a232",
   "metadata": {},
   "outputs": [
    {
     "name": "stderr",
     "output_type": "stream",
     "text": [
      "100%|████████████████████████████████████████████████████████████████████████████████| 512/512 [09:10<00:00,  1.08s/it]\n"
     ]
    }
   ],
   "source": [
    "write_tfrecord_dataset(dataset=valid_ds, model=model, file_path=file_path + '/validation/dataset_')"
   ]
  }
 ],
 "metadata": {
  "kernelspec": {
   "display_name": "Python 3 (ipykernel)",
   "language": "python",
   "name": "python3"
  },
  "language_info": {
   "codemirror_mode": {
    "name": "ipython",
    "version": 3
   },
   "file_extension": ".py",
   "mimetype": "text/x-python",
   "name": "python",
   "nbconvert_exporter": "python",
   "pygments_lexer": "ipython3",
   "version": "3.9.9"
  }
 },
 "nbformat": 4,
 "nbformat_minor": 5
}
