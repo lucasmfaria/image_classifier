{
 "cells": [
  {
   "cell_type": "markdown",
   "id": "bba49c7c",
   "metadata": {},
   "source": [
    "This notebook is only used as an utility to develop code. This is because of the autoreload feature, which makes it easy to change code inside the editor and run inside the notebook."
   ]
  },
  {
   "cell_type": "code",
   "execution_count": 1,
   "id": "367d07a7",
   "metadata": {},
   "outputs": [],
   "source": [
    "%load_ext autoreload\n",
    "%autoreload 2"
   ]
  },
  {
   "cell_type": "code",
   "execution_count": 2,
   "id": "49180fd4",
   "metadata": {},
   "outputs": [],
   "source": [
    "import sys\n",
    "import os\n",
    "module_path = os.path.abspath(os.path.join('..'))\n",
    "if module_path not in sys.path:\n",
    "    sys.path.append(module_path)\n",
    "from utils.data import extract_images_from_pdf"
   ]
  },
  {
   "cell_type": "code",
   "execution_count": 5,
   "id": "cba95f3d",
   "metadata": {},
   "outputs": [],
   "source": [
    "extract_images_from_pdf('../data/dataset')"
   ]
  }
 ],
 "metadata": {
  "kernelspec": {
   "display_name": "Python 3 (ipykernel)",
   "language": "python",
   "name": "python3"
  },
  "language_info": {
   "codemirror_mode": {
    "name": "ipython",
    "version": 3
   },
   "file_extension": ".py",
   "mimetype": "text/x-python",
   "name": "python",
   "nbconvert_exporter": "python",
   "pygments_lexer": "ipython3",
   "version": "3.9.9"
  }
 },
 "nbformat": 4,
 "nbformat_minor": 5
}
