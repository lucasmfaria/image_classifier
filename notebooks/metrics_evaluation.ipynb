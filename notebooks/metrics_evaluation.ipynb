{
 "cells": [
  {
   "cell_type": "code",
   "execution_count": 1,
   "id": "114d275b",
   "metadata": {},
   "outputs": [],
   "source": [
    "import json\n",
    "from pathlib import Path\n",
    "import pandas as pd\n",
    "import numpy as np"
   ]
  },
  {
   "cell_type": "code",
   "execution_count": 2,
   "id": "344a119e",
   "metadata": {},
   "outputs": [],
   "source": [
    "data_path = (Path('.').resolve().parent / 'data' / 'experiments')\n",
    "files = [open(file) for file in data_path.iterdir() if file.suffix == '.json']\n",
    "jsons = [json.load(file) for file in files]"
   ]
  },
  {
   "cell_type": "code",
   "execution_count": 3,
   "id": "6e4e67d6",
   "metadata": {
    "scrolled": true
   },
   "outputs": [],
   "source": [
    "metric_cols = list(jsons[0]['metrics'].keys())\n",
    "experiment_cols = list(jsons[0]['parameters'].keys())\n",
    "cols = metric_cols + experiment_cols\n",
    "df = pd.DataFrame(columns=cols)\n",
    "for json_result in jsons:\n",
    "    df = pd.concat([df, pd.DataFrame(dict(json_result['metrics'], **json_result['parameters']), columns=cols)], ignore_index=True)"
   ]
  },
  {
   "cell_type": "code",
   "execution_count": 14,
   "id": "d4760089",
   "metadata": {},
   "outputs": [],
   "source": [
    "def agg_func_roc_auc(x):\n",
    "    return {'metastatic_tissue': x.map(lambda x: x['metastatic_tissue']).mean(), 'normal_tissue': x.map(lambda x: x['normal_tissue']).mean()}\n",
    "\n",
    "def agg_func_pr_auc(x):\n",
    "    return {'metastatic_tissue': x.map(lambda x: x['metastatic_tissue']).mean(), 'normal_tissue': x.map(lambda x: x['normal_tissue']).mean()}\n",
    "\n",
    "agg_dict = {\n",
    "    'fit_time': np.mean,\n",
    "    'test_time': np.mean,\n",
    "    'accuracy': np.mean,\n",
    "    'roc_auc': agg_func_roc_auc,\n",
    "    'pr_auc': agg_func_pr_auc,\n",
    "}\n",
    "\n",
    "metrics = df.groupby(experiment_cols).agg(agg_dict)"
   ]
  },
  {
   "cell_type": "code",
   "execution_count": 33,
   "id": "ce94b276",
   "metadata": {},
   "outputs": [],
   "source": [
    "metrics.reset_index(inplace=True)\n",
    "metrics = metrics.set_index(metrics.SAMPLE_DATASET.str.split('_').map(lambda x: x[-1]).rename('MODEL')).drop(experiment_cols, axis=1)"
   ]
  },
  {
   "cell_type": "code",
   "execution_count": 37,
   "id": "eb099299",
   "metadata": {},
   "outputs": [
    {
     "data": {
      "text/html": [
       "<div>\n",
       "<style scoped>\n",
       "    .dataframe tbody tr th:only-of-type {\n",
       "        vertical-align: middle;\n",
       "    }\n",
       "\n",
       "    .dataframe tbody tr th {\n",
       "        vertical-align: top;\n",
       "    }\n",
       "\n",
       "    .dataframe thead th {\n",
       "        text-align: right;\n",
       "    }\n",
       "</style>\n",
       "<table border=\"1\" class=\"dataframe\">\n",
       "  <thead>\n",
       "    <tr style=\"text-align: right;\">\n",
       "      <th></th>\n",
       "      <th>index</th>\n",
       "      <th>fit_time</th>\n",
       "      <th>test_time</th>\n",
       "      <th>accuracy</th>\n",
       "      <th>roc_auc</th>\n",
       "      <th>pr_auc</th>\n",
       "    </tr>\n",
       "    <tr>\n",
       "      <th>MODEL</th>\n",
       "      <th></th>\n",
       "      <th></th>\n",
       "      <th></th>\n",
       "      <th></th>\n",
       "      <th></th>\n",
       "      <th></th>\n",
       "    </tr>\n",
       "  </thead>\n",
       "  <tbody>\n",
       "    <tr>\n",
       "      <th>resnet152v2</th>\n",
       "      <td>0</td>\n",
       "      <td>7338.168142</td>\n",
       "      <td>58.022043</td>\n",
       "      <td>0.783689</td>\n",
       "      <td>{'metastatic_tissue': 0.8642732780374903, 'nor...</td>\n",
       "      <td>{'metastatic_tissue': 0.8531978979197712, 'nor...</td>\n",
       "    </tr>\n",
       "    <tr>\n",
       "      <th>vgg16</th>\n",
       "      <td>1</td>\n",
       "      <td>1739.566267</td>\n",
       "      <td>12.826058</td>\n",
       "      <td>0.831094</td>\n",
       "      <td>{'metastatic_tissue': 0.9226364456661944, 'nor...</td>\n",
       "      <td>{'metastatic_tissue': 0.9257485596373434, 'nor...</td>\n",
       "    </tr>\n",
       "  </tbody>\n",
       "</table>\n",
       "</div>"
      ],
      "text/plain": [
       "             index     fit_time  test_time  accuracy  \\\n",
       "MODEL                                                  \n",
       "resnet152v2      0  7338.168142  58.022043  0.783689   \n",
       "vgg16            1  1739.566267  12.826058  0.831094   \n",
       "\n",
       "                                                       roc_auc  \\\n",
       "MODEL                                                            \n",
       "resnet152v2  {'metastatic_tissue': 0.8642732780374903, 'nor...   \n",
       "vgg16        {'metastatic_tissue': 0.9226364456661944, 'nor...   \n",
       "\n",
       "                                                        pr_auc  \n",
       "MODEL                                                           \n",
       "resnet152v2  {'metastatic_tissue': 0.8531978979197712, 'nor...  \n",
       "vgg16        {'metastatic_tissue': 0.9257485596373434, 'nor...  "
      ]
     },
     "execution_count": 37,
     "metadata": {},
     "output_type": "execute_result"
    }
   ],
   "source": [
    "metrics"
   ]
  }
 ],
 "metadata": {
  "kernelspec": {
   "display_name": "Python 3 (ipykernel)",
   "language": "python",
   "name": "python3"
  },
  "language_info": {
   "codemirror_mode": {
    "name": "ipython",
    "version": 3
   },
   "file_extension": ".py",
   "mimetype": "text/x-python",
   "name": "python",
   "nbconvert_exporter": "python",
   "pygments_lexer": "ipython3",
   "version": "3.9.9"
  }
 },
 "nbformat": 4,
 "nbformat_minor": 5
}
